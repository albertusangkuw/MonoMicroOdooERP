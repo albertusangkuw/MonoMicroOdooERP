{
 "cells": [
  {
   "attachments": {},
   "cell_type": "markdown",
   "metadata": {},
   "source": [
    "### 👨‍🏭 Albertus Septian Angkuw\n",
    "### Hierarchical Clustering Analysis"
   ]
  },
  {
   "cell_type": "code",
   "execution_count": 1,
   "metadata": {},
   "outputs": [],
   "source": [
    "currentPath = \"/Users/albertusangkuw/Documents/ClusteringForDekomposisi\""
   ]
  },
  {
   "attachments": {},
   "cell_type": "markdown",
   "metadata": {},
   "source": [
    "### Ekstraksi Dependency Module"
   ]
  },
  {
   "cell_type": "code",
   "execution_count": 2,
   "metadata": {},
   "outputs": [],
   "source": [
    "import os\n",
    "import importlib.util\n",
    "import inspect"
   ]
  },
  {
   "cell_type": "code",
   "execution_count": 3,
   "metadata": {},
   "outputs": [],
   "source": [
    "def walkTroughFolder(folderSC,filterExt='.py'):\n",
    "    listFile = []\n",
    "    for file in os.listdir(f'{currentPath}/{folderSC}'):\n",
    "        if os.path.isdir(f'{currentPath}/{folderSC}/{file}'):\n",
    "            listFile += walkTroughFolder(f'{folderSC}/{file}')\n",
    "        elif file.endswith(filterExt):\n",
    "            #print(os.path.join(f'/{folderSC}', file))\n",
    "            listFile.append(os.path.join(f'/{folderSC}', file))\n",
    "    return listFile"
   ]
  },
  {
   "cell_type": "code",
   "execution_count": 4,
   "metadata": {},
   "outputs": [],
   "source": [
    "def pathToModule(files,removeFile=True):\n",
    "    coreModule = []\n",
    "    for x in files:\n",
    "        if x.count('.') > 1:\n",
    "            # print(\"Skipped, Path Contain '.' : \" , x)\n",
    "            continue\n",
    "        tmpArr = x[:-3].split(\"/\")[2:]\n",
    "        if removeFile:\n",
    "            tmpArr = tmpArr[:-1]\n",
    "        tmp = '.'.join(tmpArr)\n",
    "        if tmp not in coreModule:\n",
    "            coreModule.append(tmp)\n",
    "    return coreModule"
   ]
  },
  {
   "cell_type": "code",
   "execution_count": 5,
   "metadata": {},
   "outputs": [],
   "source": [
    "def scanModuleWithInspect(modulePath):\n",
    "    # modulePath = \"addons.account.models\"\n",
    "    runcommand = importlib.import_module(modulePath)\n",
    "    listClass = {}\n",
    "    for name, obj in inspect.getmembers(runcommand):\n",
    "        if inspect.ismodule(obj) == False:\n",
    "            continue\n",
    "        # print(\"Module:\" ,  name)\n",
    "        member = inspect.getmembers(obj)\n",
    "        tmpClass = {}\n",
    "        \n",
    "        for item in member:\n",
    "            # item => [ 0 => 'name',  1 => 'value member'   ]\n",
    "            if inspect.isclass(item[1]) == False:\n",
    "                continue\n",
    "            if hasattr(item[1], '__class__') and str(item[1].__class__) != \"<class 'odoo.models.MetaModel'>\":\n",
    "                # print(f'Class \"{item[0]}\" Skipped because not MetaModel')\n",
    "                continue\n",
    "            # print(item[1].__dict__)\n",
    "            if hasattr(item[1], '_name'):\n",
    "                tmpClass[item[0]] = { 'name' : item[1]._name}\n",
    "            if hasattr(item[1], '_inherit'):\n",
    "                # Case Class Model tidak punya nama\n",
    "                if tmpClass[item[0]]['name'] in item[1]._inherit  :\n",
    "                    tmpClass[item[0]]['name'] = item[1].__module__\n",
    "                tmpClass[item[0]]['inherit'] = item[1]._inherit                       \n",
    "            if hasattr(item[1], '_inherits'):\n",
    "                tmpClass[item[0]]['inherits'] = item[1]._inherits\n",
    "            classMembers = inspect.getmembers(item[1])\n",
    "            \n",
    "            tmpClass[item[0]]['attribute_rel'] = {}\n",
    "            for attrClass in classMembers:\n",
    "                if hasattr(attrClass[1], 'comodel_name'):\n",
    "                    if attrClass[1].comodel_name != None:\n",
    "                        tmpClass[item[0]]['attribute_rel'][attrClass[0]] = attrClass[1].comodel_name \n",
    "        \n",
    "        if len(tmpClass) > 0:\n",
    "            # print(f'Total Model Class: {len(tmpClass)} ')\n",
    "            # print(\"--------------------\")\n",
    "            listClass[name] = tmpClass\n",
    "            # print(tmpClass)\n",
    "        # print(\"---------------\")\n",
    "    return listClass\n",
    "        "
   ]
  },
  {
   "cell_type": "code",
   "execution_count": 6,
   "metadata": {},
   "outputs": [
    {
     "name": "stderr",
     "output_type": "stream",
     "text": [
      "Attachment indexation of PDF documents is unavailable because the 'pdfminer' Python library cannot be found on the system. You may install it from https://pypi.org/project/pdfminer.six/ (e.g. `pip3 install pdfminer.six`)\n",
      "Could not import library dbus\n",
      "Exception in thread Exception in thread Thread-7:\n",
      "Traceback (most recent call last):\n",
      "  File \"/Users/albertusangkuw/opt/anaconda3/lib/python3.9/threading.py\", line 973, in _bootstrap_inner\n",
      "Thread-8:\n",
      "Traceback (most recent call last):\n",
      "  File \"/Users/albertusangkuw/opt/anaconda3/lib/python3.9/threading.py\", line 973, in _bootstrap_inner\n",
      "    self.run()\n",
      "  File \"/Users/albertusangkuw/Documents/ClusteringForDekomposisi/odoo/addons/hw_drivers/connection_manager.py\", line 25, in run\n",
      "    self.run()\n",
      "  File \"/Users/albertusangkuw/Documents/ClusteringForDekomposisi/odoo/addons/hw_drivers/main.py\", line 83, in run\n",
      "    if not helpers.get_odoo_server_url() and not helpers.access_point():\n",
      "  File \"/Users/albertusangkuw/Documents/ClusteringForDekomposisi/odoo/addons/hw_drivers/tools/helpers.py\", line 204, in get_odoo_server_url\n",
      "        return read_file_first_line('odoo-remote-server.conf')\n",
      "helpers.check_certificate()\n",
      "  File \"/Users/albertusangkuw/Documents/ClusteringForDekomposisi/odoo/addons/hw_drivers/tools/helpers.py\", line 77, in check_certificate\n",
      "  File \"/Users/albertusangkuw/Documents/ClusteringForDekomposisi/odoo/addons/hw_drivers/tools/helpers.py\", line 322, in read_file_first_line\n",
      "    server = get_odoo_server_url()\n",
      "  File \"/Users/albertusangkuw/Documents/ClusteringForDekomposisi/odoo/addons/hw_drivers/tools/helpers.py\", line 204, in get_odoo_server_url\n",
      "    if path.exists():\n",
      "AttributeError: 'NoneType' object has no attribute 'exists'\n",
      "    return read_file_first_line('odoo-remote-server.conf')\n",
      "  File \"/Users/albertusangkuw/Documents/ClusteringForDekomposisi/odoo/addons/hw_drivers/tools/helpers.py\", line 322, in read_file_first_line\n",
      "    if path.exists():\n",
      "AttributeError: 'NoneType' object has no attribute 'exists'\n"
     ]
    }
   ],
   "source": [
    "listModule = [ f'odoo.{s}' for s in pathToModule(walkTroughFolder(\"odoo/addons\")) ] \n",
    "listModuleName = {}\n",
    "moduleNameMapping = {}\n",
    "def searchDependency(module):\n",
    "    res = scanModuleWithInspect(module)\n",
    "    for k , m in res.items():\n",
    "        if len(m) == 0:\n",
    "            continue\n",
    "        for _ , c in m.items():\n",
    "            if c['name'] not in listModuleName:\n",
    "                moduleNameMapping[c['name']] = f'{module}.{k}'\n",
    "                listModuleName[c['name']] = []\n",
    "            if 'inherit' in c and len(c['inherit']) > 0:\n",
    "                if isinstance(c['inherit'],list):\n",
    "                    listModuleName[c['name']] += c['inherit']\n",
    "                elif isinstance(c['inherit'],str):\n",
    "                    listModuleName[c['name']].append(c['inherit'])\n",
    "                else:\n",
    "                    print(\"Warn: Data Type Not Found: \" , c['name'] )\n",
    "            if 'inherits' in c and len(c['inherits']) > 0:\n",
    "                listModuleName[c['name']] += list(c['inherits'].keys())\n",
    "            if 'attribute_rel' in c and  len(c['attribute_rel'])  > 0:            \n",
    "                listModuleName[c['name']] += list(c['attribute_rel'].values())\n",
    "\n",
    "for m in listModule:\n",
    "    try:\n",
    "        searchDependency(m)\n",
    "    except Exception as e:\n",
    "        print(\"Exception :\", e  , m)\n"
   ]
  },
  {
   "cell_type": "code",
   "execution_count": 7,
   "metadata": {},
   "outputs": [
    {
     "name": "stdout",
     "output_type": "stream",
     "text": [
      "Pos Category : ['pos.category', 'res.users', 'pos.category', 'res.users']\n",
      "Product Tag :  ['res.users', 'product.product', 'product.product', 'product.template', 'res.users']\n"
     ]
    }
   ],
   "source": [
    "# Ilustrasi isi scan module melalui Inspect\n",
    "print(\"Pos Category :\"  , listModuleName['pos.category'])\n",
    "print(\"Product Tag : \" , listModuleName['product.tag'])"
   ]
  },
  {
   "cell_type": "code",
   "execution_count": 8,
   "metadata": {},
   "outputs": [
    {
     "name": "stdout",
     "output_type": "stream",
     "text": [
      "Pos Category : odoo.addons.point_of_sale.models.pos_category\n",
      "Product Tag :  odoo.addons.product.models.product_tag\n"
     ]
    }
   ],
   "source": [
    "# Ilustrasi hasil peta sumber module \n",
    "print(\"Pos Category :\"  , moduleNameMapping['pos.category'])\n",
    "print(\"Product Tag : \" , moduleNameMapping['product.tag'])"
   ]
  },
  {
   "attachments": {},
   "cell_type": "markdown",
   "metadata": {},
   "source": [
    "### Pengabungan Hasil Ekstraksi"
   ]
  },
  {
   "cell_type": "code",
   "execution_count": 9,
   "metadata": {},
   "outputs": [],
   "source": [
    "addonsJSON = f'{currentPath}/odooAddons.json'"
   ]
  },
  {
   "attachments": {},
   "cell_type": "markdown",
   "metadata": {},
   "source": [
    "#### Pembacaan Hasil Call Graph JSON"
   ]
  },
  {
   "cell_type": "code",
   "execution_count": 10,
   "metadata": {},
   "outputs": [],
   "source": [
    "import json\n",
    "def loadJSON(path):\n",
    "   return json.load(open(path))"
   ]
  },
  {
   "cell_type": "code",
   "execution_count": 11,
   "metadata": {},
   "outputs": [],
   "source": [
    "def getListRootPackage(path):\n",
    "    listRootPackage = []\n",
    "    for file in os.listdir(f'{path}'):\n",
    "        if os.path.isdir(f'{path}/{file}'):\n",
    "            listRootPackage.append(file)\n",
    "        elif file.endswith('.py'):\n",
    "            listRootPackage.append('.'.join(file.split(\".\")[:-1]))\n",
    "    return listRootPackage"
   ]
  },
  {
   "cell_type": "code",
   "execution_count": 12,
   "metadata": {},
   "outputs": [],
   "source": [
    "def addPrefixFolder(cg,root,listPackage):\n",
    "    def checkParent(key):\n",
    "        parentkey = key.split('.')[0]\n",
    "        if parentkey in listPackage:\n",
    "            key = f'{root}.{key}'\n",
    "        return key\n",
    "    newCG = {}\n",
    "    for key, relation in cg.items():\n",
    "        key = checkParent(key)\n",
    "        if key not in newCG:\n",
    "            newCG[key] = []\n",
    "        for i in relation:\n",
    "            newRelKey = checkParent(i)\n",
    "            newCG[key].append(newRelKey)\n",
    "    return newCG"
   ]
  },
  {
   "cell_type": "code",
   "execution_count": 13,
   "metadata": {},
   "outputs": [
    {
     "name": "stdout",
     "output_type": "stream",
     "text": [
      "[[], ['odoo.api.Environment'], [], [], []]\n",
      "27521\n"
     ]
    },
    {
     "data": {
      "text/plain": [
       "27521"
      ]
     },
     "execution_count": 13,
     "metadata": {},
     "output_type": "execute_result"
    }
   ],
   "source": [
    "cgAddonsSource =loadJSON(addonsJSON)\n",
    "listPackageAddons = getListRootPackage(f'{currentPath}/odoo/addons')\n",
    "print(list(cgAddonsSource.values())[:5])\n",
    "print(len(cgAddonsSource))\n",
    "callGraphRaw = addPrefixFolder(cgAddonsSource,\"addons\",listPackageAddons)\n",
    "len(callGraphRaw)"
   ]
  },
  {
   "cell_type": "code",
   "execution_count": 14,
   "metadata": {},
   "outputs": [
    {
     "name": "stdout",
     "output_type": "stream",
     "text": [
      "Fungsi di model Product Tag yang terdeksi melalui PyCG\n",
      "['random.randint']\n",
      "[]\n"
     ]
    }
   ],
   "source": [
    "print(\"Fungsi di model Product Tag yang terdeksi melalui PyCG\")\n",
    "print(callGraphRaw['addons.product.models.product_tag.ProductTag._get_default_color'])\n",
    "print(callGraphRaw['addons.product.models.product_tag.ProductTag._compute_product_ids'])"
   ]
  },
  {
   "cell_type": "code",
   "execution_count": 15,
   "metadata": {},
   "outputs": [],
   "source": [
    "def filterCGNode(cgSource):\n",
    "    def checkIsBase(key):\n",
    "        parentKey = key.split('.')\n",
    "        if parentKey[0] == 'odoo' and  parentKey[1] == 'addons':\n",
    "            # Ganti addons diluar base\n",
    "            if len(parentKey) >= 3 and parentKey[2] != 'base':\n",
    "                key = '.'.join(key.split('.')[1:])\n",
    "        return key\n",
    "    \n",
    "    callGraphFiltered = {}\n",
    "    listRootFolder = [ 'odoo', 'addons']\n",
    "    edgeGraph = []\n",
    "    outsideCall = set()\n",
    "    for key, value in cgSource.items():\n",
    "        rootSource = key.split('.')[0]\n",
    "        if rootSource not in listRootFolder:\n",
    "            outsideCall.add(rootSource)\n",
    "            continue\n",
    "        childFilter = {}\n",
    "        for v in value:\n",
    "            childSource = v.split('.')[0]\n",
    "            if childSource not in listRootFolder:\n",
    "                outsideCall.add(childSource)\n",
    "                continue\n",
    "            v = checkIsBase(v)\n",
    "            childFilter[v] = 1\n",
    "        if len(childFilter) == 0:\n",
    "            edgeGraph.append(key)\n",
    "            continue\n",
    "        key = checkIsBase(key)\n",
    "        for c in childFilter:\n",
    "            if c not in callGraphFiltered:\n",
    "                callGraphFiltered[c] = {}\n",
    "        callGraphFiltered[key] = childFilter\n",
    "    print(f'Total Node Awal: {len(cgSource)} ')    \n",
    "    print(f'Total Node: {len(callGraphFiltered)} ')\n",
    "    print(f'Total Leaf Node: {len(edgeGraph)} <{edgeGraph[:3]}>')\n",
    "    print(f'Total Call Diluar package Odoo : {len(outsideCall)} <{list(outsideCall)[:3]}>')\n",
    "    return callGraphFiltered"
   ]
  },
  {
   "cell_type": "code",
   "execution_count": 16,
   "metadata": {},
   "outputs": [
    {
     "name": "stdout",
     "output_type": "stream",
     "text": [
      "Total Node Awal: 27521 \n",
      "Total Node: 15953 \n",
      "Total Leaf Node: 14287 <['addons.base', 'odoo.api.Environment', 'addons.base.wizard']>\n",
      "Total Call Diluar package Odoo : 113 <['ctypes', 'optparse', 'logging']>\n"
     ]
    }
   ],
   "source": [
    "callGraphFiltered = filterCGNode(callGraphRaw)"
   ]
  },
  {
   "attachments": {},
   "cell_type": "markdown",
   "metadata": {},
   "source": [
    "#### Depedency Module (Inspect)"
   ]
  },
  {
   "cell_type": "code",
   "execution_count": 17,
   "metadata": {},
   "outputs": [],
   "source": [
    "def updateCGwInspect(callGraphFiltered,listModuleName,moduleNameMapping):\n",
    "    def levelingPathAddons(path):\n",
    "        pathSplit = path.split(\".\")\n",
    "        if pathSplit[0] == \"odoo\":\n",
    "            return \".\".join(pathSplit[1:])\n",
    "        return path   \n",
    "    for r in listModuleName:\n",
    "        if r not in moduleNameMapping:\n",
    "            print(\"Path not Found \" , r)\n",
    "            continue\n",
    "        if moduleNameMapping[r] not in callGraphFiltered:\n",
    "            moduleName = levelingPathAddons(moduleNameMapping[r])\n",
    "            callGraphFiltered[moduleName] = {}\n",
    "        for c in listModuleName[r]:\n",
    "            moduleName = levelingPathAddons(moduleNameMapping[r])\n",
    "            if c not in moduleNameMapping:\n",
    "                print(\"Path Call not Found \" , c)\n",
    "                continue\n",
    "            tmpC = levelingPathAddons(moduleNameMapping[c])\n",
    "            if tmpC not in callGraphFiltered[moduleName]:\n",
    "                # print(\"new key: \" , moduleNameMapping[r] , tmpC)\n",
    "                callGraphFiltered[moduleName][tmpC] = 0\n",
    "            callGraphFiltered[moduleName][tmpC] += 1\n",
    "    return callGraphFiltered"
   ]
  },
  {
   "cell_type": "code",
   "execution_count": 18,
   "metadata": {},
   "outputs": [
    {
     "name": "stdout",
     "output_type": "stream",
     "text": [
      "Path Call not Found  export.one2many\n"
     ]
    }
   ],
   "source": [
    "callGraphFiltered = updateCGwInspect(callGraphFiltered,listModuleName,moduleNameMapping)"
   ]
  },
  {
   "attachments": {},
   "cell_type": "markdown",
   "metadata": {},
   "source": [
    "### Optimisasi Graph "
   ]
  },
  {
   "attachments": {},
   "cell_type": "markdown",
   "metadata": {},
   "source": [
    "#### Tracing Call"
   ]
  },
  {
   "cell_type": "code",
   "execution_count": 19,
   "metadata": {},
   "outputs": [],
   "source": [
    "class NodeCG:\n",
    "    root = \"\"\n",
    "    def __init__(self,name,parent):\n",
    "        self.name = name\n",
    "        self.parent = parent\n",
    "        self.outsideCall = {}\n",
    "        self.insideCall = {}\n",
    "        self.relation = {}    \n",
    "    \n",
    "    def getRelation(self,name=\"\"):\n",
    "        newName, childName = self.shiftTargetName(name)\n",
    "        if newName in self.relation:\n",
    "            relCC = self.relation[newName].getRelation(childName)\n",
    "            return {self.name : relCC}\n",
    "        listRelation = list(self.relation.keys())\n",
    "        return { self.name : { 'outsideCall' : self.outsideCall , \n",
    "                'relation' : listRelation, 'insideCall': self.insideCall}}\n",
    "        \n",
    "    \n",
    "    def setRelation(self,name,targetCall):\n",
    "        self.isValidName(name)\n",
    "        newName, childName = self.shiftTargetName(name)\n",
    "        \n",
    "        currentAsParent = self.parent.copy()\n",
    "        if self.name == self.root:\n",
    "            currentAsParent = []\n",
    "        else:\n",
    "            currentAsParent.append(self.name)    \n",
    "            \n",
    "        if newName not in self.relation:\n",
    "            #Tambah node dan beri tahu dia memberi tahu node parentnya\n",
    "            self.relation[newName] = NodeCG(newName,currentAsParent)    \n",
    "        \n",
    "        #Kondisi bila bukan paling akhir masih ada child\n",
    "        currParentStr = '.'.join(currentAsParent)\n",
    "        for t in targetCall:\n",
    "            cutStr = t.split(\".\")\n",
    "            targetParent = \".\".join(cutStr[0:len(self.parent)+1]) \n",
    "            if targetParent == currParentStr:\n",
    "                # Menambahkan kepada insidecall bila sesuai dengan parent sekarang \n",
    "                # 'addons.product.models.A' => 'addons.product.models.B'\n",
    "                if t not in self.insideCall:\n",
    "                    self.insideCall[t] = 0\n",
    "                self.insideCall[t] += targetCall[t]\n",
    "            elif self.name != self.root :\n",
    "                # Menambahkan kepada outsidecall bila tidak sesuai dengan parent sekarang \n",
    "                # 'addons.product.models' => 'addons.note.models\n",
    "                if t not in self.outsideCall:\n",
    "                    self.outsideCall[t] = 0\n",
    "                self.outsideCall[t] += targetCall[t]\n",
    "        \n",
    "        #Kondisi bila sudah paling akhir    \n",
    "        if childName == \"\" and newName == name:\n",
    "            self.relation[newName].outsideCall = targetCall\n",
    "            return True   \n",
    "        \n",
    "        return self.relation[newName].setRelation(childName,targetCall)\n",
    "    \n",
    "    def shiftTargetName(self,strName):\n",
    "        # 'adddons.product.models' => 'addons' , 'product.models'\n",
    "        cutStr = strName.split(\".\")\n",
    "        if len(cutStr) > 1:\n",
    "            return cutStr[0] , \".\".join(cutStr[1:])\n",
    "        return cutStr[0] , \"\"\n",
    "    \n",
    "    def isValidName(self,name):\n",
    "        if not isinstance(name,str):\n",
    "            raise Exception(\"Nama Node harus str\")\n",
    "        if name.strip() == \"\":\n",
    "            raise Exception(\"Nama Kosong\")\n",
    "    \n",
    "    def countCall(self,nodeName):\n",
    "        r , cCName = self.shiftTargetName(nodeName)\n",
    "        if  r in self.relation:\n",
    "            return self.relation[r].countCall(cCName)            \n",
    "        elif  cCName == \"\" and r == \"\":\n",
    "            oc = self.outsideCall.copy()\n",
    "            currentAsParent = self.parent.copy()\n",
    "            currentAsParent.append(self.name)   \n",
    "            currParentStr = '.'.join(currentAsParent)\n",
    "            oc[currParentStr] = self.insideCall\n",
    "            return oc\n",
    "        else:\n",
    "            return {} \n",
    "    "
   ]
  },
  {
   "cell_type": "code",
   "execution_count": 20,
   "metadata": {},
   "outputs": [],
   "source": [
    "odooTree = NodeCG(\"odoo\",[])\n",
    "odooTree.root = \"odoo\"\n",
    "blackListNodeName = ['tests', 'testing','test', 'l10n' ]\n",
    "def checkNameKey(k):\n",
    "    def checkIfNameContainString(v,t):\n",
    "        separtorName = [\"_\" , \".\"  , \"-\"]\n",
    "        if v == t:\n",
    "            return True\n",
    "        idx = v.find(t)\n",
    "        if idx ==  -1:\n",
    "            return False\n",
    "        #Bila muncul di awal\n",
    "        if idx == 0 and idx+len(t) < len(v) and v[idx+len(t)] in separtorName:\n",
    "            return True\n",
    "        #Bila muncul di tengah\n",
    "        elif idx+len(t) < len(v) and v[idx+len(t)] in separtorName and v[idx-1] in separtorName:\n",
    "            return True\n",
    "        #Bila muncul di akhir\n",
    "        elif idx+len(t) == len(v) and v[idx-1] in separtorName :\n",
    "            return True\n",
    "        return False\n",
    "    for n in blackListNodeName:\n",
    "        if checkIfNameContainString(k,n):\n",
    "            # print(\"Skipped : \" , k)\n",
    "            return False\n",
    "    cutStr = k.split(\".\")\n",
    "    if cutStr[0] != \"addons\":\n",
    "        return False\n",
    "    return True\n",
    "\n",
    "for k,v  in callGraphFiltered.items():\n",
    "    if not checkNameKey(k):\n",
    "        continue\n",
    "    tmpV = {}\n",
    "    for i in v:\n",
    "        if not checkNameKey(i):\n",
    "            continue\n",
    "        tmpV[i] = v[i]\n",
    "    if len(tmpV) == 0:\n",
    "        continue\n",
    "    odooTree.setRelation(k ,tmpV)\n",
    "    "
   ]
  },
  {
   "attachments": {},
   "cell_type": "markdown",
   "metadata": {},
   "source": [
    "#### Pemberian Weight pada Graph"
   ]
  },
  {
   "cell_type": "code",
   "execution_count": 21,
   "metadata": {},
   "outputs": [],
   "source": [
    "def initKeyCG():\n",
    "    listModuleF = [ f'{s}' for s in pathToModule(walkTroughFolder('odoo/addons'),removeFile=False)]\n",
    "    #Versi Per Addons\n",
    "    def checkIsBP(m):\n",
    "        blackLS = ['test', 'l10n', '__init__']\n",
    "        for i in blackLS:\n",
    "            if i in m:\n",
    "                return True\n",
    "        return False\n",
    "    \n",
    "    callGraphWeight = {}\n",
    "    for m in listModuleF:\n",
    "        arrM = m.split(\".\")\n",
    "        if checkIsBP(m):\n",
    "            continue\n",
    "        if arrM[0] == \"addons\" and f'{arrM[0]}.{arrM[1]}' not in callGraphWeight:\n",
    "            callGraphWeight[f'{arrM[0]}.{arrM[1]}'] = {}\n",
    "        elif arrM[1] == \"base\" and m not in callGraphWeight:\n",
    "            callGraphWeight[m] = {}\n",
    "    return callGraphWeight"
   ]
  },
  {
   "cell_type": "code",
   "execution_count": 22,
   "metadata": {},
   "outputs": [],
   "source": [
    "def updateCGWeight(odooTree,callGraphWeightNew):\n",
    "    newCG = {}\n",
    "    for curr , _ in callGraphWeightNew.items():\n",
    "        if curr == \"addons.base\":\n",
    "            continue\n",
    "        res = odooTree.countCall(curr)\n",
    "        if len(res) < 2:\n",
    "            # print(f\"Module {curr} dilewati karena tidak memiliki relasi\")\n",
    "            continue\n",
    "        arrC = curr.split(\".\")\n",
    "        if curr not in newCG:\n",
    "            newCG[curr] = {}\n",
    "        for foundRel,freqRel in res.items():\n",
    "            ## Update relasi panggilan internal node\n",
    "            if foundRel == curr:\n",
    "                total = 0\n",
    "                for i,cFreq in res[foundRel].items():\n",
    "                    total += cFreq\n",
    "                #Ketika tidak ada relasi internal\n",
    "                if total == 0:\n",
    "                    continue\n",
    "                newCG[curr][curr] = total\n",
    "                continue\n",
    "            relPath = foundRel.split(\".\")\n",
    "            if len(relPath) < 2:\n",
    "                print(\"Warn, relasi lebih rendah tidak bisa\")\n",
    "                continue\n",
    "            newRelPath = f\"{relPath[0]}.{relPath[1]}\"\n",
    "            # Hanya Base addons yang semua bagian dapat dipecah\n",
    "            if relPath[1] == \"base\":\n",
    "                newRelPath = foundRel\n",
    "            if newRelPath not in callGraphWeightNew:\n",
    "                print(\"Info, Relasi dari Target dilewati \" , newRelPath)\n",
    "                continue\n",
    "            if newRelPath not in newCG and newRelPath in callGraphWeightNew:\n",
    "                newCG[newRelPath] = {}\n",
    "            if newRelPath not in newCG[curr]:\n",
    "                newCG[curr][newRelPath] = 0\n",
    "            newCG[curr][newRelPath] += freqRel   \n",
    "    return newCG "
   ]
  },
  {
   "cell_type": "code",
   "execution_count": 23,
   "metadata": {},
   "outputs": [],
   "source": [
    "def cleanUpCG(cg):\n",
    "    def cekKey(key):\n",
    "        arrC = key.split(\".\")\n",
    "        if arrC[0] == \"addons\":\n",
    "            return True\n",
    "        else:\n",
    "            if len(arrC) >= 2 and f'{arrC[0]}.{arrC[1]}' == \"odoo.addons\":\n",
    "                return True\n",
    "            return False\n",
    "\n",
    "    newCG = {}\n",
    "    selfCallCG = {}\n",
    "    for x, connection in cg.items():\n",
    "        if cekKey(x) == False:\n",
    "            continue\n",
    "        if x == 'odoo.addons.__init__':\n",
    "            continue\n",
    "        if x not in newCG:\n",
    "            newCG[x] = {}\n",
    "        for name, weight in connection.items():\n",
    "            if cekKey(name) == False:\n",
    "                continue\n",
    "            #Self Call\n",
    "            if x == name:\n",
    "                selfCallCG[x] = weight\n",
    "                continue\n",
    "            #Module Redirect\n",
    "            if name == 'odoo.addons.__init__':\n",
    "                continue\n",
    "            if name not in newCG[x]:\n",
    "                newCG[x][name] = 0\n",
    "            newCG[x][name] += weight\n",
    "    return newCG, selfCallCG"
   ]
  },
  {
   "cell_type": "code",
   "execution_count": 24,
   "metadata": {},
   "outputs": [],
   "source": [
    "def removeNotConnectedNode(cg ={}):\n",
    "    knownRelation = set()\n",
    "    for c in cg:\n",
    "        for call in cg[c]:\n",
    "            knownRelation.add(call)\n",
    "        if len(cg[c]) > 0:\n",
    "            knownRelation.add(c)\n",
    "    keyCG = list(cg.keys())\n",
    "    for k in keyCG:\n",
    "        if k not in knownRelation:\n",
    "            del cg[k]\n",
    "            # print(\"Deleted Key: \" , k)\n",
    "    return cg"
   ]
  },
  {
   "attachments": {},
   "cell_type": "markdown",
   "metadata": {},
   "source": [
    "#### Representasi Call Graph menjadi Adjacency Matrix"
   ]
  },
  {
   "cell_type": "code",
   "execution_count": 25,
   "metadata": {},
   "outputs": [],
   "source": [
    "import numpy as np"
   ]
  },
  {
   "cell_type": "code",
   "execution_count": 26,
   "metadata": {},
   "outputs": [],
   "source": [
    "def createAdjacentMatrix(graphSource):\n",
    "    def normalisasiWeight(newAdj):\n",
    "        import warnings\n",
    "        warnings.simplefilter(\"ignore\")\n",
    "\n",
    "        # By column-wise normalization\n",
    "        newAdj = (newAdj-newAdj.min(axis=0))/(newAdj.max(axis=0)-newAdj.min(axis=0))\n",
    "        newAdj[np.isnan(newAdj)] = 0\n",
    "\n",
    "        return newAdj\n",
    "    listLabel = {}\n",
    "    counterListLabel = 0\n",
    "    for label in graphSource.keys():\n",
    "        listLabel[label] = counterListLabel\n",
    "        counterListLabel+=1\n",
    "    adjMatrix = np.zeros(shape=(len(listLabel), len(listLabel)))\n",
    "\n",
    "    currRow = 0\n",
    "    tmpNotDetected = 0\n",
    "    for x, connection in graphSource.items():\n",
    "        for name, weight in connection.items():\n",
    "            if name not in listLabel:\n",
    "                tmpNotDetected += 1\n",
    "                continue\n",
    "            adjMatrix[currRow,listLabel[name]] = weight\n",
    "        currRow+=1 \n",
    "    if tmpNotDetected > 0:\n",
    "        print(\"------------\")\n",
    "        print(\"Not Detected: \" , graphSource , adjMatrix  ,listLabel)\n",
    "        print(\"------------\")\n",
    "    return normalisasiWeight(adjMatrix), listLabel"
   ]
  },
  {
   "cell_type": "code",
   "execution_count": 27,
   "metadata": {},
   "outputs": [
    {
     "name": "stdout",
     "output_type": "stream",
     "text": [
      "Info, Relasi dari Target dilewati  addons.__path__\n",
      "Info, Relasi dari Target dilewati  addons.__path__\n",
      "Info, Relasi dari Target dilewati  addons.decimal_precision\n",
      "Size Label:  335\n"
     ]
    }
   ],
   "source": [
    "callGraphWeight = initKeyCG()\n",
    "callGraphWeight = updateCGWeight(odooTree,callGraphWeight)\n",
    "callGraphWeightKey = list(callGraphWeight.keys())\n",
    "\n",
    "cgFilterInternal, selfCG = cleanUpCG(callGraphWeight)\n",
    "callGraphFinal = removeNotConnectedNode(cgFilterInternal)\n",
    "adjMatrix, dictLabel = createAdjacentMatrix(callGraphFinal)\n",
    "listLabel = list(dictLabel.keys())\n",
    "print(\"Size Label: \" ,len(dictLabel))"
   ]
  },
  {
   "cell_type": "code",
   "execution_count": 28,
   "metadata": {},
   "outputs": [],
   "source": [
    "if input(\"Simpan Adj Matrix ?(Y/N)\") == \"Y\":\n",
    "    np.savetxt(f'tmp-AdjMatrix.csv', adjMatrix, delimiter=\",\")"
   ]
  },
  {
   "attachments": {},
   "cell_type": "markdown",
   "metadata": {},
   "source": [
    "### Hierarchical Clustering"
   ]
  },
  {
   "attachments": {},
   "cell_type": "markdown",
   "metadata": {},
   "source": [
    "#### Distance Matrix"
   ]
  },
  {
   "cell_type": "code",
   "execution_count": 29,
   "metadata": {},
   "outputs": [],
   "source": [
    "import matplotlib.pyplot as plt\n",
    "from scipy.spatial import distance\n",
    "import numpy as np"
   ]
  },
  {
   "cell_type": "code",
   "execution_count": 30,
   "metadata": {},
   "outputs": [],
   "source": [
    "def simStr(ci, cj, i, j, callsinCi , callsinCj):\n",
    "    res = 0\n",
    "    if callsinCi > 0 and callsinCj > 0:\n",
    "        res = 0.5 * ( ci[j]/callsinCj +  cj[i]/callsinCi )\n",
    "    elif callsinCi == 0 and callsinCj > 0:\n",
    "        res = ci[j]/callsinCj\n",
    "    elif callsinCi > 0 and callsinCj == 0:\n",
    "        res = cj[i]/callsinCi\n",
    "    return res"
   ]
  },
  {
   "cell_type": "code",
   "execution_count": 31,
   "metadata": {},
   "outputs": [],
   "source": [
    "def simJaccard(row, col):\n",
    "    row = np.asarray(row,bool)\n",
    "    col = np.asarray(col,bool)\n",
    "    \n",
    "    if row.shape != col.shape:\n",
    "        raise ValueError(\"Not same size\")\n",
    "\n",
    "    intersection = np.logical_and(row, col)\n",
    "    union = np.logical_or(row, col)\n",
    "    return  (intersection.sum() / float(union.sum()))"
   ]
  },
  {
   "cell_type": "code",
   "execution_count": 32,
   "metadata": {},
   "outputs": [],
   "source": [
    "def calculateDistanceMatrix(adjMatrix):\n",
    "    data = np.array(adjMatrix)\n",
    "    distanceMatrix = [[0.00 for i in range(data.shape[1])] for j in range(data.shape[0])]\n",
    "\n",
    "    np.fill_diagonal(data,1) \n",
    "    for row in range(0,len(data)):\n",
    "        for col in range(0,row):\n",
    "            # Semakin jauh mendekati nilai 1, mengambil satu bagian untuk masing masing col\n",
    "            distanceStructual = round(1- simStr(data[row, :], data[col, :], row, col,sum(data[:, row]), sum(data[:, col])),2)\n",
    "            distanceJaccard = round(1- simJaccard(data[row, :] , data[col,:]),2)\n",
    "            distanceMatrix[row][col] = ((distanceStructual + distanceJaccard   ) / 2)\n",
    "            distanceMatrix[col][row] = distanceMatrix[row][col]\n",
    "    return distanceMatrix"
   ]
  },
  {
   "cell_type": "code",
   "execution_count": 33,
   "metadata": {},
   "outputs": [],
   "source": [
    "def visualizeHeatmap(matrix, title):\n",
    "    fig, ax = plt.subplots()\n",
    "    im = ax.imshow(matrix)\n",
    "    plt.setp(ax.get_xticklabels(), rotation=45, ha=\"right\",rotation_mode=\"anchor\")\n",
    "    ax.set_title(title)\n",
    "    plt.figure(figsize=(20,6))\n",
    "    plt.show()"
   ]
  },
  {
   "cell_type": "code",
   "execution_count": 34,
   "metadata": {},
   "outputs": [
    {
     "data": {
      "image/png": "[encoded data removed]",
      "text/plain": [
       "<Figure size 432x288 with 1 Axes>"
      ]
     },
     "metadata": {
      "needs_background": "light"
     },
     "output_type": "display_data"
    },
    {
     "data": {
      "text/plain": [
       "<Figure size 1440x432 with 0 Axes>"
      ]
     },
     "metadata": {},
     "output_type": "display_data"
    }
   ],
   "source": [
    "distanceMatrix = calculateDistanceMatrix(adjMatrix)\n",
    "distanceMatrix = np.array(distanceMatrix)\n",
    "visualizeHeatmap(distanceMatrix,\"Heatmap - Jarak antar Module\") "
   ]
  },
  {
   "attachments": {},
   "cell_type": "markdown",
   "metadata": {},
   "source": [
    "#### Clustering"
   ]
  },
  {
   "cell_type": "code",
   "execution_count": 35,
   "metadata": {},
   "outputs": [],
   "source": [
    "import scipy.cluster.hierarchy as sch\n",
    "from scipy.spatial.distance import squareform\n",
    "from scipy.cluster.hierarchy import linkage"
   ]
  },
  {
   "cell_type": "code",
   "execution_count": 36,
   "metadata": {},
   "outputs": [],
   "source": [
    "from scipy.cluster.hierarchy import dendrogram\n",
    "import matplotlib.pyplot as plt\n",
    "\n",
    "#Source: https://stackoverflow.com/questions/11917779/how-to-plot-and-annotate-hierarchical-clustering-dendrograms-in-scipy-matplotlib\n",
    "def augmented_dendrogram(*args, **kwargs):\n",
    "\n",
    "    ddata = dendrogram(*args, **kwargs)\n",
    "\n",
    "    if not kwargs.get('no_plot', False):\n",
    "        for i, d in zip(ddata['icoord'], ddata['dcoord']):\n",
    "            x = 0.5 * sum(i[1:3])\n",
    "            y = d[1]\n",
    "            plt.plot(x, y, 'ro')\n",
    "            plt.annotate(\"%.3g\" % y, (x, y), xytext=(0, -8),\n",
    "                         textcoords='offset points',\n",
    "                         va='top', ha='center')\n",
    "\n",
    "    return ddata"
   ]
  },
  {
   "cell_type": "code",
   "execution_count": 109,
   "metadata": {},
   "outputs": [],
   "source": [
    "def visualizeDendogram(z,_method):\n",
    "    # plt.figure(figsize=(4,25), dpi=300)\n",
    "\n",
    "    # plt.figure(figsize=(10,5))\n",
    "    sch.dendrogram(z, color_threshold=0 ,labels=listLabel , link_color_func=lambda *args: 'k' , orientation='right')\n",
    "    # ddata = sch.dendrogram(z,labels=listLabel,distance_sort='descending',leaf_font_size=8.)\n",
    "    # augmented_dendrogram(z, labels=listLabel)\n",
    "    plt.title(f'Dendrogram {_method} Linkage')\n",
    "    plt.xlabel('Module')\n",
    "    plt.ylabel('Distances')\n",
    "    # plt.xticks(rotation=90)\n",
    "    # plt.tick_params(axis='x', which='both', labelsize=0)\n",
    "    plt.show() "
   ]
  },
  {
   "cell_type": "code",
   "execution_count": 38,
   "metadata": {},
   "outputs": [],
   "source": [
    "def calculateCluster(y,_method):\n",
    "    z  =  linkage(y, method=_method)\n",
    "    visualizeDendogram(z,_method)\n",
    "    return z"
   ]
  },
  {
   "cell_type": "code",
   "execution_count": 96,
   "metadata": {},
   "outputs": [],
   "source": [
    "cDM = squareform(distanceMatrix,checks=True)"
   ]
  },
  {
   "cell_type": "code",
   "execution_count": 110,
   "metadata": {},
   "outputs": [
    {
     "data": {
      "image/png": "[encoded data removed]",
      "text/plain": [
       "<Figure size 432x288 with 1 Axes>"
      ]
     },
     "metadata": {
      "needs_background": "light"
     },
     "output_type": "display_data"
    }
   ],
   "source": [
    "zSingle = calculateCluster(cDM,\"single\")"
   ]
  },
  {
   "cell_type": "code",
   "execution_count": 111,
   "metadata": {},
   "outputs": [
    {
     "data": {
      "image/png": "[encoded data removed]",
      "text/plain": [
       "<Figure size 432x288 with 1 Axes>"
      ]
     },
     "metadata": {
      "needs_background": "light"
     },
     "output_type": "display_data"
    }
   ],
   "source": [
    "zComplete = calculateCluster(cDM,\"complete\")"
   ]
  },
  {
   "cell_type": "code",
   "execution_count": 112,
   "metadata": {},
   "outputs": [
    {
     "data": {
      "image/png": "[encoded data removed]",
      "text/plain": [
       "<Figure size 432x288 with 1 Axes>"
      ]
     },
     "metadata": {
      "needs_background": "light"
     },
     "output_type": "display_data"
    }
   ],
   "source": [
    "zAverage = calculateCluster(cDM,\"average\")"
   ]
  },
  {
   "attachments": {},
   "cell_type": "markdown",
   "metadata": {},
   "source": [
    "### Pemilihan Partisi"
   ]
  },
  {
   "cell_type": "code",
   "execution_count": 43,
   "metadata": {},
   "outputs": [],
   "source": [
    "from scipy.cluster.hierarchy import cut_tree"
   ]
  },
  {
   "cell_type": "code",
   "execution_count": 44,
   "metadata": {},
   "outputs": [],
   "source": [
    "def mergeClass(ct):\n",
    "    refCall = {}\n",
    "    for i in range(0,len(ct)):\n",
    "        refCall[listLabel[i]] = ct[i][0]\n",
    "\n",
    "    mergeCall = {}\n",
    "    innerCallClass = {}    \n",
    "    for call, cNum in refCall.items():\n",
    "        if cNum not in innerCallClass:\n",
    "            mergeCall[cNum] = {}\n",
    "            innerCallClass[cNum] = {}\n",
    "        #Inner Class Shell\n",
    "        if call not in innerCallClass[cNum]:\n",
    "            innerCallClass[cNum][call] = {}\n",
    "        for k, w in callGraphFinal[call].items():\n",
    "            #Cek apakah panggilan antar cluster\n",
    "            tmpKey = k\n",
    "            if refCall[k] != cNum:\n",
    "                tmpKey = refCall[k]\n",
    "                #Tambah di Merge untuk outside cluster call\n",
    "                if refCall[k] not in mergeCall[cNum]:\n",
    "                    mergeCall[cNum][refCall[k]] = 0\n",
    "                mergeCall[cNum][refCall[k]] += w\n",
    "\n",
    "            if tmpKey not in innerCallClass[cNum][call]:\n",
    "                innerCallClass[cNum][call][tmpKey] = 0\n",
    "            innerCallClass[cNum][call][tmpKey] += w\n",
    "        \n",
    "    return mergeCall, innerCallClass"
   ]
  },
  {
   "cell_type": "code",
   "execution_count": 45,
   "metadata": {},
   "outputs": [],
   "source": [
    "def cutTreeToCluster(ct):\n",
    "    c = {}\n",
    "    for i, x in enumerate(ct):\n",
    "        if x[0] not in c:\n",
    "            c[x[0]] = []\n",
    "        c[x[0]].append(listLabel[i])\n",
    "    return c        "
   ]
  },
  {
   "attachments": {},
   "cell_type": "markdown",
   "metadata": {},
   "source": [
    "Measuring Focused on One Functionality Characteristic of a Microservice: "
   ]
  },
  {
   "cell_type": "code",
   "execution_count": 46,
   "metadata": {},
   "outputs": [],
   "source": [
    "def CoupP(m, c1,c2):\n",
    "    def NbCalls(m,c1,c2):\n",
    "        return m[c2][c1]\n",
    "    TotalNBCalls = 0\n",
    "    for x in range(0,len(m)):\n",
    "        if m[c1][x] > 0:\n",
    "            TotalNBCalls += m[c1][x]\n",
    "        if m[c2][x] > 0:\n",
    "            TotalNBCalls += m[c2][x]\n",
    "    if TotalNBCalls == 0:\n",
    "        return 0\n",
    "    return (NbCalls(m,c1,c2) + NbCalls(m,c2,c1))/TotalNBCalls"
   ]
  },
  {
   "cell_type": "code",
   "execution_count": 47,
   "metadata": {},
   "outputs": [],
   "source": [
    "def InterCoup(m):\n",
    "    sumCoup = 0\n",
    "    NbPossiblePairs = len(m)\n",
    "    for c1 in range(0,len(m)):\n",
    "        for c2 in range(0,len(m)):\n",
    "          tmp = CoupP(m,c1,c2)\n",
    "          sumCoup += tmp\n",
    "          \n",
    "    return sumCoup/NbPossiblePairs"
   ]
  },
  {
   "cell_type": "code",
   "execution_count": 48,
   "metadata": {},
   "outputs": [],
   "source": [
    "def InterCoh(rm):\n",
    "    NbDirectConnections = 0\n",
    "    NbPossibleConnection = 0\n",
    "    #Menghitung Panggilan Internal\n",
    "    for _, p in rm.items():\n",
    "        if len(p) == 0:\n",
    "            continue\n",
    "        for m ,  call in p.items():\n",
    "            #Pertibangkan Call dalam Addons/Modules\n",
    "            if m in selfCG:\n",
    "                NbDirectConnections += selfCG[m]\n",
    "            for c, w in call.items():\n",
    "                #External Call \n",
    "                if c not in p:\n",
    "                    #Menghitung Panggilan External\n",
    "                    NbPossibleConnection += w\n",
    "                    continue \n",
    "                NbDirectConnections += w\n",
    "    NbPossibleConnection +=  NbDirectConnections \n",
    "    return NbDirectConnections / NbPossibleConnection    \n",
    "    "
   ]
  },
  {
   "cell_type": "code",
   "execution_count": 49,
   "metadata": {},
   "outputs": [],
   "source": [
    "def FOne(m,rm):\n",
    "    interCoup = InterCoup(m)\n",
    "    interCoh = InterCoh(rm)\n",
    "    \n",
    "    return {\n",
    "            \"coupling\": round(interCoup,6),\n",
    "            \"cohesion\": round(interCoh,6),\n",
    "            \"Fone\": round(0.5*(interCoup+interCoh),6),\n",
    "            \"clusterSize\": len(m)\n",
    "    }"
   ]
  },
  {
   "cell_type": "code",
   "execution_count": 50,
   "metadata": {},
   "outputs": [],
   "source": [
    "def calculate_FOne(z, _n_clusters):\n",
    "    ct = cut_tree(z, n_clusters=_n_clusters)\n",
    "    mgCls, inCls = mergeClass(ct)\n",
    "    adjMerge, _ =  createAdjacentMatrix(mgCls)\n",
    "    result = FOne(adjMerge,inCls)\n",
    "    return result"
   ]
  },
  {
   "cell_type": "code",
   "execution_count": 51,
   "metadata": {},
   "outputs": [],
   "source": [
    "# ct = cut_tree(zSingle, n_clusters=3)\n",
    "# clusterCT = cutTreeToCluster(ct)\n",
    "# mgCls, inCls = mergeClass(ct)\n",
    "# adjMerge, _ =  createAdjacentMatrix(mgCls)\n",
    "# calculate_FOne(zSingle, 2)"
   ]
  },
  {
   "cell_type": "code",
   "execution_count": 52,
   "metadata": {},
   "outputs": [
    {
     "data": {
      "text/plain": [
       "335"
      ]
     },
     "execution_count": 52,
     "metadata": {},
     "output_type": "execute_result"
    }
   ],
   "source": [
    "len(listLabel)"
   ]
  },
  {
   "cell_type": "code",
   "execution_count": 53,
   "metadata": {},
   "outputs": [],
   "source": [
    "from joblib import Parallel, delayed\n",
    "def analystCluster(z):\n",
    "    analystRes = []\n",
    "    MAX_PROCESSING = 5\n",
    "\n",
    "    def target_Process(_n_clusters):\n",
    "        try :\n",
    "            return calculate_FOne(z, _n_clusters)\n",
    "        except Exception as e:\n",
    "            print(\"Cluster: \" ,_n_clusters , \" E: \"  ,  e)\n",
    "            return []\n",
    "    \n",
    "    for b in range(1,len(listLabel), MAX_PROCESSING):\n",
    "        t = b\n",
    "        clusterSizeQueue  = []\n",
    "        \n",
    "        while t < b+MAX_PROCESSING and t <= len(listLabel):\n",
    "            clusterSizeQueue.append(t)\n",
    "            t+=1\n",
    "        results = Parallel(n_jobs=-1)(delayed(target_Process)(x) for x in clusterSizeQueue)\n",
    "        analystRes += results   \n",
    "        print(results)\n",
    "    return analystRes"
   ]
  },
  {
   "cell_type": "code",
   "execution_count": 54,
   "metadata": {},
   "outputs": [],
   "source": [
    "# qcSingle = analystCluster(zSingle)"
   ]
  },
  {
   "cell_type": "code",
   "execution_count": 55,
   "metadata": {},
   "outputs": [],
   "source": [
    "# qcComplete = analystCluster(zComplete)"
   ]
  },
  {
   "cell_type": "code",
   "execution_count": 56,
   "metadata": {},
   "outputs": [],
   "source": [
    "# qcAverage = analystCluster(zAverage)"
   ]
  },
  {
   "cell_type": "code",
   "execution_count": 57,
   "metadata": {},
   "outputs": [],
   "source": [
    "# def simpanData(nama,data):\n",
    "#     with open(f\"{nama}.json\", 'w') as file:\n",
    "#         json.dump(data, file)\n",
    "# simpanData(\"SingleQC\",qcSingle)\n",
    "# simpanData(\"CompleteQC\",qcComplete)\n",
    "# simpanData(\"AverageQC\",qcAverage)"
   ]
  },
  {
   "cell_type": "code",
   "execution_count": 58,
   "metadata": {},
   "outputs": [],
   "source": [
    "qcSingle = loadJSON(\"SingleQC.json\")\n",
    "qcComplete = loadJSON(\"CompleteQC.json\")\n",
    "qcAverage = loadJSON(\"AverageQC.json\")\n"
   ]
  },
  {
   "cell_type": "code",
   "execution_count": 59,
   "metadata": {},
   "outputs": [],
   "source": [
    "import matplotlib.pyplot as plt\n",
    "def visualizeQualityCluster(qualityCluster,linkageType):\n",
    "    def getAsListResult(qualityCluster):\n",
    "        clusterSizeIter = []\n",
    "        couplingIter = []\n",
    "        cohesionIter =[]\n",
    "        for v in qualityCluster:\n",
    "            clusterSizeIter.append( v['clusterSize'])\n",
    "            couplingIter.append( v['coupling'])\n",
    "            cohesionIter.append( v['cohesion'])\n",
    "        return clusterSizeIter, couplingIter, cohesionIter\n",
    "    clusterSizeIter, couplingIter, cohesionIter  = getAsListResult(qualityCluster) \n",
    "\n",
    "    plt.plot(clusterSizeIter, couplingIter , label ='Coupling')\n",
    "    plt.plot(clusterSizeIter, cohesionIter  , label ='Cohesion')\n",
    "\n",
    "    plt.xlabel(\"Jumlah Partisi/Service\")\n",
    "    plt.ylabel(\"Coupling x Cohesion\")\n",
    "    plt.legend()\n",
    "    plt.title(f'Perbandingan Coupling & Cohesion dengan Jumlah Service({linkageType})')\n",
    "    plt.show()\n"
   ]
  },
  {
   "cell_type": "code",
   "execution_count": 60,
   "metadata": {},
   "outputs": [
    {
     "data": {
      "image/png": "[encoded data removed]",
      "text/plain": [
       "<Figure size 432x288 with 1 Axes>"
      ]
     },
     "metadata": {
      "needs_background": "light"
     },
     "output_type": "display_data"
    }
   ],
   "source": [
    "visualizeQualityCluster(qcSingle,\"Single Linkage\")"
   ]
  },
  {
   "cell_type": "code",
   "execution_count": 61,
   "metadata": {},
   "outputs": [
    {
     "data": {
      "image/png": "[encoded data removed]",
      "text/plain": [
       "<Figure size 432x288 with 1 Axes>"
      ]
     },
     "metadata": {
      "needs_background": "light"
     },
     "output_type": "display_data"
    }
   ],
   "source": [
    "visualizeQualityCluster(qcComplete,\"Complete Linkage\")"
   ]
  },
  {
   "cell_type": "code",
   "execution_count": 62,
   "metadata": {},
   "outputs": [
    {
     "data": {
      "image/png": "[encoded data removed]",
      "text/plain": [
       "<Figure size 432x288 with 1 Axes>"
      ]
     },
     "metadata": {
      "needs_background": "light"
     },
     "output_type": "display_data"
    }
   ],
   "source": [
    "visualizeQualityCluster(qcAverage,\"Average Linkage\")"
   ]
  },
  {
   "cell_type": "code",
   "execution_count": 63,
   "metadata": {},
   "outputs": [],
   "source": [
    "# tmpCount =  0\n",
    "# for i in range(163,250):\n",
    "#     # if qcAverage[i]['cohesion']-qcAverage[i]['coupling'] > 0.20:\n",
    "#     print(detailStat(qcAverage,zAverage,targetSize=[qcAverage[i]['clusterSize']]))\n",
    "#         # print(f\"Coup: {qcAverage[i]['coupling']} , Coh {qcAverage[i]['cohesion']} , Size: {qcAverage[i]['clusterSize']}\")\n",
    "#     tmpCount +=1\n"
   ]
  },
  {
   "attachments": {},
   "cell_type": "markdown",
   "metadata": {},
   "source": [
    "#### Pemilihan Jumlah Cluster Terbaik"
   ]
  },
  {
   "cell_type": "code",
   "execution_count": 64,
   "metadata": {},
   "outputs": [],
   "source": [
    "def pilihMaxVal(qc,label):\n",
    "    maxVal = {'value':None , 'clusterSize' : len(listLabel)}\n",
    "    for c in qc:\n",
    "        if maxVal['value'] == None:\n",
    "            maxVal = c\n",
    "        if c['value'] >= maxVal['value']  :\n",
    "            maxVal = c\n",
    "    print(f'Linkage Method: {label} \\nJumlah Cluster terbaik: {maxVal[\"clusterSize\"]} service/partisi \\nDetail:',  maxVal)"
   ]
  },
  {
   "attachments": {},
   "cell_type": "markdown",
   "metadata": {},
   "source": [
    "Pembagian service dengan modules-nya"
   ]
  },
  {
   "cell_type": "code",
   "execution_count": 65,
   "metadata": {},
   "outputs": [],
   "source": [
    "def debugCluster(z,size):\n",
    "    ct = cut_tree(z, n_clusters=size)\n",
    "    clusterCT = cutTreeToCluster(ct)\n",
    "    mgCls, inCls = mergeClass(ct)\n",
    "    adjMerge, _ =  createAdjacentMatrix(mgCls)\n",
    "    # print(clusterCT)\n",
    "    return clusterCT\n",
    "    \n",
    "# debugCluster(zAverage,226)"
   ]
  },
  {
   "attachments": {},
   "cell_type": "markdown",
   "metadata": {},
   "source": [
    "### Gen Latex untuk Pelaporan "
   ]
  },
  {
   "cell_type": "code",
   "execution_count": 66,
   "metadata": {},
   "outputs": [
    {
     "data": {
      "text/plain": [
       "{0: ['addons.auth_totp_mail',\n",
       "  'addons.base.wizard.base_partner_merge',\n",
       "  'addons.base.models.ir_sequence',\n",
       "  'addons.contacts',\n",
       "  'addons.base.models.ir_asset'],\n",
       " 1: ['addons.base.models.res_users',\n",
       "  'addons.fleet',\n",
       "  'addons.sales_team',\n",
       "  'addons.iap',\n",
       "  'addons.account_check_printing',\n",
       "  'addons.base_vat',\n",
       "  'addons.partner_autocomplete',\n",
       "  'addons.snailmail_account',\n",
       "  'addons.snailmail',\n",
       "  'addons.membership'],\n",
       " 2: ['addons.auth_signup', 'addons.portal'],\n",
       " 3: ['addons.web'],\n",
       " 4: ['addons.hr_work_entry_contract',\n",
       "  'addons.resource',\n",
       "  'addons.hr_work_entry',\n",
       "  'addons.hr_holidays',\n",
       "  'addons.hr_contract'],\n",
       " 5: ['addons.base.models.ir_http', 'addons.google_recaptcha'],\n",
       " 6: ['addons.base.models.res_config',\n",
       "  'addons.digest',\n",
       "  'addons.base_geolocalize',\n",
       "  'addons.auth_ldap',\n",
       "  'addons.auth_password_policy'],\n",
       " 7: ['addons.base.models.res_partner',\n",
       "  'addons.uom',\n",
       "  'addons.base_sparse_field'],\n",
       " 8: ['addons.website_sale_loyalty', 'addons.sale_loyalty'],\n",
       " 9: ['addons.loyalty',\n",
       "  'addons.sale',\n",
       "  'addons.stock',\n",
       "  'addons.account',\n",
       "  'addons.product',\n",
       "  'addons.analytic',\n",
       "  'addons.point_of_sale',\n",
       "  'addons.hr_expense',\n",
       "  'addons.purchase_stock',\n",
       "  'addons.purchase',\n",
       "  'addons.mrp',\n",
       "  'addons.project',\n",
       "  'addons.lunch'],\n",
       " 10: ['addons.website', 'addons.base.models.ir_rule'],\n",
       " 11: ['addons.website_sale_picking'],\n",
       " 12: ['addons.delivery', 'addons.delivery_mondialrelay'],\n",
       " 13: ['addons.payment', 'addons.base.models.res_company'],\n",
       " 14: ['addons.account_fleet'],\n",
       " 15: ['addons.account_lock'],\n",
       " 16: ['addons.calendar',\n",
       "  'addons.rating',\n",
       "  'addons.survey',\n",
       "  'addons.sms',\n",
       "  'addons.phone_validation',\n",
       "  'addons.gamification',\n",
       "  'addons.bus',\n",
       "  'addons.privacy_lookup'],\n",
       " 17: ['addons.website_event_track_live'],\n",
       " 18: ['addons.website_event_track',\n",
       "  'addons.website_event',\n",
       "  'addons.website_event_exhibitor',\n",
       "  'addons.website_event_booth',\n",
       "  'addons.website_event_meet',\n",
       "  'addons.website_event_track_quiz'],\n",
       " 19: ['addons.http_routing'],\n",
       " 20: ['addons.event', 'addons.link_tracker', 'addons.mass_mailing'],\n",
       " 21: ['addons.mail', 'addons.crm'],\n",
       " 22: ['addons.website_slides_forum'],\n",
       " 23: ['addons.website_forum',\n",
       "  'addons.website_slides',\n",
       "  'addons.website_blog',\n",
       "  'addons.website_crm_partner_assign'],\n",
       " 24: ['addons.website_jitsi',\n",
       "  'addons.base.models.res_lang',\n",
       "  'addons.base.wizard.base_language_install'],\n",
       " 25: ['addons.base.models.res_currency',\n",
       "  'addons.data_recycle',\n",
       "  'addons.account_edi_proxy_client',\n",
       "  'addons.base.models.ir_default',\n",
       "  'addons.base.models.ir_property',\n",
       "  'addons.onboarding'],\n",
       " 26: ['addons.utm',\n",
       "  'addons.mail_plugin',\n",
       "  'addons.barcodes',\n",
       "  'addons.web_tour',\n",
       "  'addons.base_setup'],\n",
       " 27: ['addons.base.models.res_country', 'addons.base_address_extended'],\n",
       " 28: ['addons.stock_picking_batch', 'addons.delivery_stock_picking_batch'],\n",
       " 29: ['addons.im_livechat', 'addons.website_livechat'],\n",
       " 30: ['addons.base.models.image_mixin', 'addons.base.models.avatar_mixin'],\n",
       " 31: ['addons.hr_recruitment_skills', 'addons.hr_skills'],\n",
       " 32: ['addons.hr_recruitment', 'addons.hr'],\n",
       " 33: ['addons.note'],\n",
       " 34: ['addons.web_editor'],\n",
       " 35: ['addons.hr_org_chart'],\n",
       " 36: ['addons.hr_skills_survey'],\n",
       " 37: ['addons.pos_restaurant_stripe'],\n",
       " 38: ['addons.sale_expense', 'addons.sale_expense_margin'],\n",
       " 39: ['addons.mass_mailing_event_track'],\n",
       " 40: ['addons.calendar_sms'],\n",
       " 41: ['addons.google_calendar', 'addons.microsoft_calendar'],\n",
       " 42: ['addons.mail_bot', 'addons.im_livechat_mail_bot'],\n",
       " 43: ['addons.website_event_jitsi'],\n",
       " 44: ['addons.event_booth', 'addons.event_booth_sale'],\n",
       " 45: ['addons.account_sequence'],\n",
       " 46: ['addons.payment_sips'],\n",
       " 47: ['addons.pos_hr', 'addons.pos_epson_printer', 'addons.pos_adyen'],\n",
       " 48: ['addons.hr_recruitment_survey'],\n",
       " 49: ['addons.website_customer', 'addons.website_partner'],\n",
       " 50: ['addons.hr_holidays_attendance', 'addons.hr_attendance'],\n",
       " 51: ['addons.portal_rating'],\n",
       " 52: ['addons.base_install_request',\n",
       "  'addons.base.models.ir_module',\n",
       "  'addons.base.wizard.base_module_uninstall',\n",
       "  'addons.base_import_module',\n",
       "  'addons.base.wizard.base_export_language'],\n",
       " 53: ['addons.base.models.ir_qweb'],\n",
       " 54: ['addons.base.models.ir_ui_view', 'addons.base.models.report_layout'],\n",
       " 55: ['addons.pos_epson_printer_restaurant', 'addons.pos_restaurant'],\n",
       " 56: ['addons.website_event_booth_sale', 'addons.website_sale_slides'],\n",
       " 57: ['addons.base.models.ir_model',\n",
       "  'addons.base.models.ir_ui_menu',\n",
       "  'addons.hr_timesheet_attendance'],\n",
       " 58: ['addons.iap_mail'],\n",
       " 59: ['addons.purchase_requisition_stock', 'addons.purchase_requisition'],\n",
       " 60: ['addons.mrp_product_expiry'],\n",
       " 61: ['addons.product_expiry',\n",
       "  'addons.sale_stock',\n",
       "  'addons.stock_landed_costs',\n",
       "  'addons.repair',\n",
       "  'addons.stock_account',\n",
       "  'addons.stock_sms'],\n",
       " 62: ['addons.website_sale_stock'],\n",
       " 63: ['addons.spreadsheet_account'],\n",
       " 64: ['addons.pos_sale_product_configurator',\n",
       "  'addons.pos_discount',\n",
       "  'addons.pos_sale'],\n",
       " 65: ['addons.pos_restaurant_adyen'],\n",
       " 66: ['addons.mass_mailing_slides'],\n",
       " 67: ['addons.crm_iap_enrich'],\n",
       " 68: ['addons.payment_authorize', 'addons.payment_asiapay'],\n",
       " 69: ['addons.loyalty_delivery'],\n",
       " 70: ['addons.website_sale_comparison', 'addons.product_margin'],\n",
       " 71: ['addons.website_hr_recruitment'],\n",
       " 72: ['addons.project_sms'],\n",
       " 73: ['addons.payment_mollie'],\n",
       " 74: ['addons.project_sale_expense'],\n",
       " 75: ['addons.payment_paypal'],\n",
       " 76: ['addons.mass_mailing_crm_sms'],\n",
       " 77: ['addons.base.models.ir_actions',\n",
       "  'addons.base_automation',\n",
       "  'addons.base.models.ir_filters'],\n",
       " 78: ['addons.spreadsheet'],\n",
       " 79: ['addons.website_event_meet_quiz'],\n",
       " 80: ['addons.barcodes_gs1_nomenclature'],\n",
       " 81: ['addons.payment_custom'],\n",
       " 82: ['addons.mrp_subcontracting',\n",
       "  'addons.mrp_account',\n",
       "  'addons.mrp_subcontracting_account'],\n",
       " 83: ['addons.website_payment_paypal'],\n",
       " 84: ['addons.base.models.ir_config_parameter', 'addons.auth_oauth'],\n",
       " 85: ['addons.base.models.ir_actions_report',\n",
       "  'addons.base.models.report_paperformat'],\n",
       " 86: ['addons.pos_sale_margin'],\n",
       " 87: ['addons.hr_hourly_cost'],\n",
       " 88: ['addons.mrp_landed_costs'],\n",
       " 89: ['addons.base.models.ir_qweb_fields'],\n",
       " 90: ['addons.base_iban'],\n",
       " 91: ['addons.base.models.res_bank'],\n",
       " 92: ['addons.social_media'],\n",
       " 93: ['addons.pos_sale_loyalty'],\n",
       " 94: ['addons.product_images', 'addons.base.models.ir_cron'],\n",
       " 95: ['addons.purchase_price_diff',\n",
       "  'addons.product_email_template',\n",
       "  'addons.website_sale_digital'],\n",
       " 96: ['addons.payment_demo'],\n",
       " 97: ['addons.project_mrp'],\n",
       " 98: ['addons.website_slides_survey'],\n",
       " 99: ['addons.pos_daily_sales_reports', 'addons.pos_mercury'],\n",
       " 100: ['addons.website_event_booth_exhibitor'],\n",
       " 101: ['addons.base.models.ir_binary'],\n",
       " 102: ['addons.payment_aps'],\n",
       " 103: ['addons.sale_timesheet_margin'],\n",
       " 104: ['addons.sale_project_stock'],\n",
       " 105: ['addons.payment_stripe'],\n",
       " 106: ['addons.payment_mercado_pago'],\n",
       " 107: ['addons.website_event_questions'],\n",
       " 108: ['addons.website_profile'],\n",
       " 109: ['addons.account_payment_invoice_online_payment_patch'],\n",
       " 110: ['addons.base_import'],\n",
       " 111: ['addons.hr_presence'],\n",
       " 112: ['addons.payment_payulatam'],\n",
       " 113: ['addons.sale_stock_margin'],\n",
       " 114: ['addons.hr_timesheet', 'addons.sale_timesheet'],\n",
       " 115: ['addons.project_purchase'],\n",
       " 116: ['addons.hr_work_entry_holidays'],\n",
       " 117: ['addons.transifex'],\n",
       " 118: ['addons.payment_buckaroo'],\n",
       " 119: ['addons.crm_mail_plugin'],\n",
       " 120: ['addons.mass_mailing_sale'],\n",
       " 121: ['addons.mass_mailing_event'],\n",
       " 122: ['addons.hr_gamification'],\n",
       " 123: ['addons.payment_razorpay'],\n",
       " 124: ['addons.project_timesheet_holidays'],\n",
       " 125: ['addons.website_sale_delivery_mondialrelay'],\n",
       " 126: ['addons.mail_group', 'addons.website_mail_group'],\n",
       " 127: ['addons.auth_totp_portal'],\n",
       " 128: ['addons.website_event_booth_sale_exhibitor'],\n",
       " 129: ['addons.sale_margin'],\n",
       " 130: ['addons.website_mail'],\n",
       " 131: ['addons.website_crm_livechat'],\n",
       " 132: ['addons.account_qr_code_sepa'],\n",
       " 133: ['addons.mrp_subcontracting_purchase',\n",
       "  'addons.sale_mrp',\n",
       "  'addons.purchase_mrp'],\n",
       " 134: ['addons.web_unsplash'],\n",
       " 135: ['addons.website_sale_product_configurator',\n",
       "  'addons.sale_product_configurator',\n",
       "  'addons.sale_product_matrix'],\n",
       " 136: ['addons.website_membership'],\n",
       " 137: ['addons.event_sale', 'addons.website_event_sale'],\n",
       " 138: ['addons.sale_management', 'addons.sale_quotation_builder'],\n",
       " 139: ['addons.sale_project'],\n",
       " 140: ['addons.payment_flutterwave', 'addons.payment_ogone'],\n",
       " 141: ['addons.account_tax_python'],\n",
       " 142: ['addons.website_sale_wishlist', 'addons.website_sale_stock_wishlist'],\n",
       " 143: ['addons.microsoft_outlook', 'addons.google_gmail'],\n",
       " 144: ['addons.mrp_subcontracting_dropshipping', 'addons.stock_dropshipping'],\n",
       " 145: ['addons.crm_iap_mine', 'addons.website_crm_iap_reveal'],\n",
       " 146: ['addons.mrp_repair'],\n",
       " 147: ['addons.event_sms'],\n",
       " 148: ['addons.hr_skills_slides'],\n",
       " 149: ['addons.project_hr_expense'],\n",
       " 150: ['addons.website_sale', 'addons.website_sale_delivery'],\n",
       " 151: ['addons.iap_crm'],\n",
       " 152: ['addons.microsoft_account'],\n",
       " 153: ['addons.pos_stripe'],\n",
       " 154: ['addons.pos_cache'],\n",
       " 155: ['addons.mass_mailing_sms'],\n",
       " 156: ['addons.website_payment_authorize'],\n",
       " 157: ['addons.website_links'],\n",
       " 158: ['addons.mass_mailing_event_track_sms'],\n",
       " 159: ['addons.website_payment'],\n",
       " 160: ['addons.website_sale_autocomplete', 'addons.website_twitter'],\n",
       " 161: ['addons.maintenance', 'addons.hr_maintenance'],\n",
       " 162: ['addons.payment_alipay'],\n",
       " 163: ['addons.sale_crm'],\n",
       " 164: ['addons.mass_mailing_sale_sms'],\n",
       " 165: ['addons.sale_loyalty_delivery'],\n",
       " 166: ['addons.event_crm'],\n",
       " 167: ['addons.purchase_product_matrix', 'addons.sale_purchase'],\n",
       " 168: ['addons.account_edi_ubl_cii', 'addons.account_edi'],\n",
       " 169: ['addons.mass_mailing_crm'],\n",
       " 170: ['addons.pos_hr_restaurant'],\n",
       " 171: ['addons.account_payment', 'addons.account_debit_note'],\n",
       " 172: ['addons.auth_totp_mail_enforce', 'addons.auth_totp'],\n",
       " 173: ['addons.hw_posbox_homepage', 'addons.hw_drivers'],\n",
       " 174: ['addons.payment_payumoney'],\n",
       " 175: ['addons.website_event_crm_questions'],\n",
       " 176: ['addons.product_matrix'],\n",
       " 177: ['addons.payment_adyen'],\n",
       " 178: ['addons.website_mass_mailing'],\n",
       " 179: ['addons.base.populate.ir_filters'],\n",
       " 180: ['addons.base.populate.res_company'],\n",
       " 181: ['addons.base.populate.res_currency'],\n",
       " 182: ['addons.base.populate.res_partner'],\n",
       " 183: ['addons.base.wizard.base_import_language'],\n",
       " 184: ['addons.base.wizard.base_module_upgrade'],\n",
       " 185: ['addons.base.wizard.base_module_update',\n",
       "  'addons.base.models.res_users_deletion'],\n",
       " 186: ['addons.base.models.ir_attachment'],\n",
       " 187: ['addons.base.models.ir_demo_failure'],\n",
       " 188: ['addons.base.models.ir_demo'],\n",
       " 189: ['addons.base.models.ir_fields'],\n",
       " 190: ['addons.base.models.ir_exports'],\n",
       " 191: ['addons.event_crm_sale'],\n",
       " 192: ['addons.pos_six'],\n",
       " 193: ['addons.website_crm'],\n",
       " 194: ['addons.hr_fleet'],\n",
       " 195: ['addons.pos_loyalty'],\n",
       " 196: ['addons.mass_mailing_event_sms'],\n",
       " 197: ['addons.spreadsheet_dashboard'],\n",
       " 198: ['addons.crm_livechat'],\n",
       " 199: ['addons.sale_purchase_stock']}"
      ]
     },
     "execution_count": 66,
     "metadata": {},
     "output_type": "execute_result"
    }
   ],
   "source": [
    "# debugCluster(zAverage,200)"
   ]
  },
  {
   "cell_type": "code",
   "execution_count": 67,
   "metadata": {},
   "outputs": [],
   "source": [
    "def statQC(qc):\n",
    "    iterSum = 0\n",
    "    stat = { \"coupling\" : {\"min\": 1, \"max\": 0 , \"sum\": 0} ,\"cohesion\" : {\"min\": 1, \"max\": 0 , \"sum\": 0 }  }\n",
    "    for r in qc:\n",
    "        if iterSum == 0:\n",
    "            iterSum +=1\n",
    "            continue\n",
    "        \n",
    "        if r['coupling'] < stat['coupling']['min'] and r['coupling'] != 0:\n",
    "            stat['coupling']['min'] = r['coupling']\n",
    "        if r['coupling'] > stat['coupling']['max']:\n",
    "            stat['coupling']['max'] = r['coupling']\n",
    "            \n",
    "        if r['cohesion'] < stat['cohesion']['min']  and r['cohesion'] != 0:\n",
    "            stat['cohesion']['min'] = r['cohesion']\n",
    "        if r['cohesion'] > stat['cohesion']['max']:\n",
    "            stat['cohesion']['max'] = r['cohesion']\n",
    "        \n",
    "        stat[\"coupling\"]['sum'] += r['coupling']\n",
    "        stat[\"cohesion\"]['sum'] += r['cohesion']\n",
    "        iterSum+=1\n",
    "    return stat , iterSum"
   ]
  },
  {
   "cell_type": "code",
   "execution_count": 68,
   "metadata": {},
   "outputs": [
    {
     "name": "stdout",
     "output_type": "stream",
     "text": [
      "Single\n",
      "{'coupling': {'min': 0.036363, 'max': 1.6, 'sum': 115.19362299999999}, 'cohesion': {'min': 0.616957, 'max': 1.0, 'sum': 279.170608}}\n",
      "AVG Coh:  0.8333450985074627\n",
      "AVG Coup:  0.34386156119402983\n"
     ]
    }
   ],
   "source": [
    "stat, iterSum = statQC(qcSingle)\n",
    "print(\"Single\")\n",
    "print(stat)\n",
    "print(\"AVG Coh: \" ,stat['cohesion']['sum']/iterSum)\n",
    "print(\"AVG Coup: \" , stat['coupling']['sum']/iterSum)"
   ]
  },
  {
   "cell_type": "code",
   "execution_count": 69,
   "metadata": {},
   "outputs": [
    {
     "name": "stdout",
     "output_type": "stream",
     "text": [
      "Complete\n",
      "{'coupling': {'min': 0.555948, 'max': 1.0, 'sum': 222.03552400000004}, 'cohesion': {'min': 0.616957, 'max': 0.984387, 'sum': 222.0503669999999}}\n",
      "AVG Coh:  0.6628369164179102\n",
      "AVG Coup:  0.662792608955224\n"
     ]
    }
   ],
   "source": [
    "stat, iterSum = statQC(qcComplete)\n",
    "print(\"Complete\")\n",
    "print(stat)\n",
    "print(\"AVG Coh: \" ,stat['cohesion']['sum']/iterSum)\n",
    "print(\"AVG Coup: \" , stat['coupling']['sum']/iterSum)"
   ]
  },
  {
   "cell_type": "code",
   "execution_count": 70,
   "metadata": {},
   "outputs": [
    {
     "name": "stdout",
     "output_type": "stream",
     "text": [
      "Average\n",
      "{'coupling': {'min': 0.171387, 'max': 0.837311, 'sum': 172.82830999999996}, 'cohesion': {'min': 0.616957, 'max': 1.0, 'sum': 236.5714669999999}}\n",
      "AVG Coh:  0.7061834835820893\n",
      "AVG Coup:  0.5159054029850745\n"
     ]
    }
   ],
   "source": [
    "stat, iterSum = statQC(qcAverage)\n",
    "print(\"Average\")\n",
    "print(stat)\n",
    "print(\"AVG Coh: \" ,stat['cohesion']['sum']/iterSum)\n",
    "print(\"AVG Coup: \" , stat['coupling']['sum']/iterSum)"
   ]
  },
  {
   "cell_type": "code",
   "execution_count": 71,
   "metadata": {},
   "outputs": [],
   "source": [
    "# Size\tService Size\tCoupling\tCohesion\tMIN Size\tAVG Size\tMax Size\n",
    "def detailStat(qc,z, targetSize = [1, 2, 5, 10, 15, 25, 50 , 75, 90, 110, 130, 150, 175, 195, 200, 208 , 220, 232,  245, 275, 290, 305, 325, 335]):\n",
    "    def humanReadableArr(arr):\n",
    "        count_dict = {}\n",
    "        for num in arr:\n",
    "            if num not in count_dict:\n",
    "                count_dict[num] = 1\n",
    "            else:\n",
    "                count_dict[num] += 1\n",
    "\n",
    "        result = []\n",
    "        for num, count in count_dict.items():\n",
    "            result.append(f\"{num}({count}x)\")\n",
    "\n",
    "        return ', '.join(result)\n",
    "    results = []\n",
    "    for _ , q in enumerate(qc):\n",
    "        if q['clusterSize'] not in targetSize:\n",
    "            continue\n",
    "        minSize = len(qc)\n",
    "        maxSize = 0\n",
    "        sumSize = 0\n",
    "        \n",
    "        ct = cut_tree(z, n_clusters=q['clusterSize'])\n",
    "        clusterCT = cutTreeToCluster(ct)  \n",
    "        serviceSize = []\n",
    "        \n",
    "        for _ , m  in clusterCT.items():\n",
    "            s = len(m)\n",
    "            if s < minSize:\n",
    "                minSize = s\n",
    "            if s > maxSize:\n",
    "                maxSize = s\n",
    "            sumSize += s\n",
    "            serviceSize.append(s)\n",
    "        serviceSize.sort(reverse=True)\n",
    "        # print(q)\n",
    "        results.append({\n",
    "            \"size\": q['clusterSize'],\n",
    "            \"coupling\" : q['coupling'],\n",
    "            \"cohesion\" : q['cohesion'],\n",
    "            \"service_size\" : humanReadableArr(serviceSize),\n",
    "            \"min\" : minSize,\n",
    "            \"max\" : maxSize,\n",
    "            \"range\" : maxSize-minSize,\n",
    "        })\n",
    "    return results\n",
    "def toLatexUkuranService(data):\n",
    "    colorGood = '\\cellcolor{colorGood}'\n",
    "    colorBad = '\\cellcolor{colorBad}'\n",
    "    colorOK = '\\cellcolor{colorOK}'\n",
    "    for x in data:\n",
    "        coupColor = colorGood\n",
    "        cohColor = colorGood\n",
    "        if round(x['coupling'],2) > round(x['cohesion'],2):\n",
    "            coupColor = colorBad\n",
    "            cohColor = colorBad\n",
    "        #Beda tipis (0.10)\n",
    "        elif round(x['cohesion'],2) - round(x['coupling'],2) < 0.11 :\n",
    "           coupColor = colorOK\n",
    "           cohColor = colorOK    \n",
    "        rangeColor = colorGood\n",
    "        if round(x['range'],2)  > 12:\n",
    "            rangeColor = colorBad\n",
    "        print(f\"{x['size']} & {x['service_size']} & {coupColor}  {round(x['coupling'],2)} & {cohColor} {round(x['cohesion'],2)} & {round(x['min'],2)} & {round(x['max'],2)} & {rangeColor} {round(x['range'],2)} \\\\\\\\   \\hline\")"
   ]
  },
  {
   "cell_type": "code",
   "execution_count": 122,
   "metadata": {},
   "outputs": [
    {
     "name": "stdout",
     "output_type": "stream",
     "text": [
      "1 & 335(1x) & \\cellcolor{colorGood}  0.0 & \\cellcolor{colorGood} 1.0 & 335 & 335 & \\cellcolor{colorGood} 0 \\\\   \\hline\n",
      "2 & 333(1x), 2(1x) & \\cellcolor{colorGood}  0.0 & \\cellcolor{colorGood} 1.0 & 2 & 333 & \\cellcolor{colorBad} 331 \\\\   \\hline\n",
      "5 & 326(1x), 5(1x), 2(1x), 1(2x) & \\cellcolor{colorBad}  1.2 & \\cellcolor{colorBad} 1.0 & 1 & 326 & \\cellcolor{colorBad} 325 \\\\   \\hline\n",
      "10 & 319(1x), 5(1x), 2(3x), 1(5x) & \\cellcolor{colorBad}  1.6 & \\cellcolor{colorBad} 1.0 & 1 & 319 & \\cellcolor{colorBad} 318 \\\\   \\hline\n",
      "15 & 315(1x), 3(1x), 2(4x), 1(9x) & \\cellcolor{colorGood}  0.63 & \\cellcolor{colorGood} 1.0 & 1 & 315 & \\cellcolor{colorBad} 314 \\\\   \\hline\n",
      "25 & 299(1x), 5(1x), 3(1x), 2(6x), 1(16x) & \\cellcolor{colorGood}  0.48 & \\cellcolor{colorGood} 0.99 & 1 & 299 & \\cellcolor{colorBad} 298 \\\\   \\hline\n",
      "50 & 246(1x), 15(1x), 6(2x), 4(1x), 3(1x), 2(11x), 1(33x) & \\cellcolor{colorGood}  0.09 & \\cellcolor{colorGood} 0.97 & 1 & 246 & \\cellcolor{colorBad} 245 \\\\   \\hline\n",
      "75 & 246(1x), 7(1x), 3(1x), 2(7x), 1(65x) & \\cellcolor{colorGood}  0.11 & \\cellcolor{colorGood} 0.97 & 1 & 246 & \\cellcolor{colorBad} 245 \\\\   \\hline\n",
      "90 & 241(1x), 2(5x), 1(84x) & \\cellcolor{colorGood}  0.11 & \\cellcolor{colorGood} 0.97 & 1 & 241 & \\cellcolor{colorBad} 240 \\\\   \\hline\n",
      "110 & 216(1x), 3(2x), 2(6x), 1(101x) & \\cellcolor{colorGood}  0.06 & \\cellcolor{colorGood} 0.96 & 1 & 216 & \\cellcolor{colorBad} 215 \\\\   \\hline\n",
      "130 & 190(1x), 7(1x), 3(2x), 2(6x), 1(120x) & \\cellcolor{colorGood}  0.07 & \\cellcolor{colorGood} 0.94 & 1 & 190 & \\cellcolor{colorBad} 189 \\\\   \\hline\n",
      "150 & 169(1x), 3(3x), 2(11x), 1(135x) & \\cellcolor{colorGood}  0.1 & \\cellcolor{colorGood} 0.91 & 1 & 169 & \\cellcolor{colorBad} 168 \\\\   \\hline\n",
      "175 & 133(1x), 6(1x), 3(3x), 2(17x), 1(153x) & \\cellcolor{colorGood}  0.18 & \\cellcolor{colorGood} 0.85 & 1 & 133 & \\cellcolor{colorBad} 132 \\\\   \\hline\n",
      "195 & 96(1x), 8(1x), 6(1x), 5(1x), 3(5x), 2(19x), 1(167x) & \\cellcolor{colorGood}  0.23 & \\cellcolor{colorGood} 0.81 & 1 & 96 & \\cellcolor{colorBad} 95 \\\\   \\hline\n",
      "200 & 89(1x), 8(1x), 5(1x), 4(1x), 3(5x), 2(23x), 1(168x) & \\cellcolor{colorGood}  0.25 & \\cellcolor{colorGood} 0.79 & 1 & 89 & \\cellcolor{colorBad} 88 \\\\   \\hline\n",
      "208 & 66(1x), 11(1x), 8(1x), 6(1x), 5(1x), 4(1x), 3(5x), 2(23x), 1(174x) & \\cellcolor{colorGood}  0.28 & \\cellcolor{colorGood} 0.76 & 1 & 66 & \\cellcolor{colorBad} 65 \\\\   \\hline\n",
      "220 & 60(1x), 8(1x), 6(1x), 5(2x), 4(1x), 3(5x), 2(23x), 1(186x) & \\cellcolor{colorGood}  0.31 & \\cellcolor{colorGood} 0.74 & 1 & 60 & \\cellcolor{colorBad} 59 \\\\   \\hline\n",
      "232 & 60(1x), 8(1x), 6(1x), 5(2x), 3(4x), 2(16x), 1(207x) & \\cellcolor{colorGood}  0.32 & \\cellcolor{colorGood} 0.74 & 1 & 60 & \\cellcolor{colorBad} 59 \\\\   \\hline\n",
      "245 & 54(1x), 8(1x), 5(2x), 3(2x), 2(18x), 1(221x) & \\cellcolor{colorGood}  0.38 & \\cellcolor{colorGood} 0.74 & 1 & 54 & \\cellcolor{colorBad} 53 \\\\   \\hline\n",
      "275 & 15(1x), 5(2x), 4(2x), 3(6x), 2(20x), 1(244x) & \\cellcolor{colorOK}  0.64 & \\cellcolor{colorOK} 0.66 & 1 & 15 & \\cellcolor{colorBad} 14 \\\\   \\hline\n",
      "290 & 7(1x), 5(1x), 4(1x), 3(7x), 2(18x), 1(262x) & \\cellcolor{colorBad}  0.71 & \\cellcolor{colorBad} 0.64 & 1 & 7 & \\cellcolor{colorGood} 6 \\\\   \\hline\n",
      "305 & 6(1x), 4(1x), 3(5x), 2(12x), 1(286x) & \\cellcolor{colorBad}  0.75 & \\cellcolor{colorBad} 0.64 & 1 & 6 & \\cellcolor{colorGood} 5 \\\\   \\hline\n",
      "325 & 3(1x), 2(8x), 1(316x) & \\cellcolor{colorBad}  0.79 & \\cellcolor{colorBad} 0.63 & 1 & 3 & \\cellcolor{colorGood} 2 \\\\   \\hline\n",
      "335 & 1(335x) & \\cellcolor{colorBad}  0.83 & \\cellcolor{colorBad} 0.62 & 1 & 1 & \\cellcolor{colorGood} 0 \\\\   \\hline\n"
     ]
    }
   ],
   "source": [
    "toLatexUkuranService(detailStat(qcSingle,zSingle))"
   ]
  },
  {
   "cell_type": "code",
   "execution_count": 121,
   "metadata": {},
   "outputs": [
    {
     "name": "stdout",
     "output_type": "stream",
     "text": [
      "1 & 335(1x) & \\cellcolor{colorGood}  0.0 & \\cellcolor{colorGood} 1.0 & 335 & 335 & \\cellcolor{colorGood} 0 \\\\   \\hline\n",
      "2 & 324(1x), 11(1x) & \\cellcolor{colorBad}  1.0 & \\cellcolor{colorBad} 0.98 & 11 & 324 & \\cellcolor{colorBad} 313 \\\\   \\hline\n",
      "5 & 212(1x), 88(1x), 17(1x), 11(1x), 7(1x) & \\cellcolor{colorOK}  0.72 & \\cellcolor{colorOK} 0.8 & 7 & 212 & \\cellcolor{colorBad} 205 \\\\   \\hline\n",
      "10 & 132(1x), 88(1x), 31(1x), 17(2x), 16(1x), 11(1x), 8(2x), 7(1x) & \\cellcolor{colorOK}  0.71 & \\cellcolor{colorOK} 0.74 & 7 & 132 & \\cellcolor{colorBad} 125 \\\\   \\hline\n",
      "15 & 107(1x), 88(1x), 31(1x), 17(2x), 16(1x), 11(1x), 10(1x), 8(2x), 7(2x), 4(1x), 2(2x) & \\cellcolor{colorOK}  0.7 & \\cellcolor{colorOK} 0.74 & 2 & 107 & \\cellcolor{colorBad} 105 \\\\   \\hline\n",
      "25 & 88(1x), 46(1x), 31(1x), 17(2x), 16(2x), 11(1x), 10(2x), 8(4x), 7(2x), 5(1x), 4(3x), 2(5x) & \\cellcolor{colorOK}  0.68 & \\cellcolor{colorOK} 0.73 & 2 & 88 & \\cellcolor{colorBad} 86 \\\\   \\hline\n",
      "50 & 67(1x), 25(1x), 17(2x), 16(1x), 15(1x), 10(2x), 8(6x), 7(1x), 6(4x), 5(3x), 4(4x), 3(6x), 2(12x), 1(6x) & \\cellcolor{colorOK}  0.63 & \\cellcolor{colorOK} 0.7 & 1 & 67 & \\cellcolor{colorBad} 66 \\\\   \\hline\n",
      "75 & 34(1x), 21(1x), 16(1x), 13(1x), 9(1x), 8(4x), 7(2x), 6(7x), 5(4x), 4(14x), 3(8x), 2(23x), 1(8x) & \\cellcolor{colorOK}  0.65 & \\cellcolor{colorOK} 0.68 & 1 & 34 & \\cellcolor{colorBad} 33 \\\\   \\hline\n",
      "90 & 19(1x), 16(1x), 9(2x), 8(5x), 7(3x), 6(5x), 5(4x), 4(15x), 3(12x), 2(33x), 1(9x) & \\cellcolor{colorBad}  0.67 & \\cellcolor{colorBad} 0.66 & 1 & 19 & \\cellcolor{colorBad} 18 \\\\   \\hline\n",
      "110 & 19(1x), 16(1x), 9(1x), 8(2x), 7(3x), 6(3x), 5(6x), 4(11x), 3(17x), 2(46x), 1(19x) & \\cellcolor{colorOK}  0.65 & \\cellcolor{colorOK} 0.66 & 1 & 19 & \\cellcolor{colorBad} 18 \\\\   \\hline\n",
      "130 & 16(2x), 7(1x), 6(4x), 5(6x), 4(11x), 3(22x), 2(48x), 1(36x) & \\cellcolor{colorOK}  0.62 & \\cellcolor{colorOK} 0.66 & 1 & 16 & \\cellcolor{colorBad} 15 \\\\   \\hline\n",
      "150 & 16(1x), 15(1x), 6(3x), 5(3x), 4(5x), 3(26x), 2(62x), 1(49x) & \\cellcolor{colorBad}  0.71 & \\cellcolor{colorBad} 0.65 & 1 & 16 & \\cellcolor{colorBad} 15 \\\\   \\hline\n",
      "175 & 16(1x), 15(1x), 5(1x), 4(5x), 3(20x), 2(72x), 1(75x) & \\cellcolor{colorBad}  0.69 & \\cellcolor{colorBad} 0.65 & 1 & 16 & \\cellcolor{colorBad} 15 \\\\   \\hline\n",
      "195 & 14(1x), 8(1x), 5(1x), 4(4x), 3(19x), 2(66x), 1(103x) & \\cellcolor{colorOK}  0.62 & \\cellcolor{colorOK} 0.65 & 1 & 14 & \\cellcolor{colorBad} 13 \\\\   \\hline\n",
      "200 & 12(1x), 6(1x), 5(1x), 4(4x), 3(19x), 2(65x), 1(109x) & \\cellcolor{colorOK}  0.61 & \\cellcolor{colorOK} 0.65 & 1 & 12 & \\cellcolor{colorGood} 11 \\\\   \\hline\n",
      "208 & 9(1x), 5(1x), 4(4x), 3(19x), 2(65x), 1(118x) & \\cellcolor{colorOK}  0.6 & \\cellcolor{colorOK} 0.65 & 1 & 9 & \\cellcolor{colorGood} 8 \\\\   \\hline\n",
      "220 & 5(1x), 4(3x), 3(20x), 2(62x), 1(134x) & \\cellcolor{colorOK}  0.58 & \\cellcolor{colorOK} 0.65 & 1 & 5 & \\cellcolor{colorGood} 4 \\\\   \\hline\n",
      "232 & 5(1x), 4(3x), 3(17x), 2(56x), 1(155x) & \\cellcolor{colorOK}  0.57 & \\cellcolor{colorOK} 0.65 & 1 & 5 & \\cellcolor{colorGood} 4 \\\\   \\hline\n",
      "245 & 4(1x), 3(11x), 2(65x), 1(168x) & \\cellcolor{colorOK}  0.63 & \\cellcolor{colorOK} 0.65 & 1 & 4 & \\cellcolor{colorGood} 3 \\\\   \\hline\n",
      "275 & 3(4x), 2(52x), 1(219x) & \\cellcolor{colorBad}  0.7 & \\cellcolor{colorBad} 0.64 & 1 & 3 & \\cellcolor{colorGood} 2 \\\\   \\hline\n",
      "290 & 3(2x), 2(41x), 1(247x) & \\cellcolor{colorBad}  0.72 & \\cellcolor{colorBad} 0.64 & 1 & 3 & \\cellcolor{colorGood} 2 \\\\   \\hline\n",
      "305 & 3(1x), 2(28x), 1(276x) & \\cellcolor{colorBad}  0.77 & \\cellcolor{colorBad} 0.63 & 1 & 3 & \\cellcolor{colorGood} 2 \\\\   \\hline\n",
      "325 & 2(10x), 1(315x) & \\cellcolor{colorBad}  0.83 & \\cellcolor{colorBad} 0.62 & 1 & 2 & \\cellcolor{colorGood} 1 \\\\   \\hline\n",
      "335 & 1(335x) & \\cellcolor{colorBad}  0.83 & \\cellcolor{colorBad} 0.62 & 1 & 1 & \\cellcolor{colorGood} 0 \\\\   \\hline\n"
     ]
    }
   ],
   "source": [
    "toLatexUkuranService(detailStat(qcComplete,zComplete))"
   ]
  },
  {
   "cell_type": "code",
   "execution_count": 120,
   "metadata": {},
   "outputs": [
    {
     "name": "stdout",
     "output_type": "stream",
     "text": [
      "1 & 335(1x) & \\cellcolor{colorGood}  0.0 & \\cellcolor{colorGood} 1.0 & 335 & 335 & \\cellcolor{colorGood} 0 \\\\   \\hline\n",
      "2 & 333(1x), 2(1x) & \\cellcolor{colorGood}  0.0 & \\cellcolor{colorGood} 1.0 & 2 & 333 & \\cellcolor{colorBad} 331 \\\\   \\hline\n",
      "3 & 332(1x), 2(1x), 1(1x) & \\cellcolor{colorGood}  0.67 & \\cellcolor{colorGood} 1.0 & 1 & 332 & \\cellcolor{colorBad} 331 \\\\   \\hline\n",
      "4 & 330(1x), 2(2x), 1(1x) & \\cellcolor{colorGood}  0.75 & \\cellcolor{colorGood} 1.0 & 1 & 330 & \\cellcolor{colorBad} 329 \\\\   \\hline\n",
      "5 & 329(1x), 2(2x), 1(2x) & \\cellcolor{colorGood}  0.73 & \\cellcolor{colorGood} 1.0 & 1 & 329 & \\cellcolor{colorBad} 328 \\\\   \\hline\n",
      "6 & 328(1x), 2(2x), 1(3x) & \\cellcolor{colorGood}  0.78 & \\cellcolor{colorGood} 1.0 & 1 & 328 & \\cellcolor{colorBad} 327 \\\\   \\hline\n",
      "7 & 327(1x), 2(2x), 1(4x) & \\cellcolor{colorGood}  0.76 & \\cellcolor{colorGood} 1.0 & 1 & 327 & \\cellcolor{colorBad} 326 \\\\   \\hline\n",
      "8 & 326(1x), 2(2x), 1(5x) & \\cellcolor{colorGood}  0.64 & \\cellcolor{colorGood} 1.0 & 1 & 326 & \\cellcolor{colorBad} 325 \\\\   \\hline\n",
      "9 & 325(1x), 2(2x), 1(6x) & \\cellcolor{colorGood}  0.64 & \\cellcolor{colorGood} 1.0 & 1 & 325 & \\cellcolor{colorBad} 324 \\\\   \\hline\n",
      "10 & 305(1x), 20(1x), 2(2x), 1(6x) & \\cellcolor{colorGood}  0.32 & \\cellcolor{colorGood} 0.99 & 1 & 305 & \\cellcolor{colorBad} 304 \\\\   \\hline\n",
      "11 & 299(1x), 20(1x), 6(1x), 2(2x), 1(6x) & \\cellcolor{colorGood}  0.31 & \\cellcolor{colorGood} 0.99 & 1 & 299 & \\cellcolor{colorBad} 298 \\\\   \\hline\n",
      "12 & 298(1x), 20(1x), 6(1x), 2(2x), 1(7x) & \\cellcolor{colorGood}  0.29 & \\cellcolor{colorGood} 0.99 & 1 & 298 & \\cellcolor{colorBad} 297 \\\\   \\hline\n",
      "13 & 297(1x), 20(1x), 6(1x), 2(2x), 1(8x) & \\cellcolor{colorGood}  0.27 & \\cellcolor{colorGood} 0.99 & 1 & 297 & \\cellcolor{colorBad} 296 \\\\   \\hline\n",
      "14 & 295(1x), 20(1x), 6(1x), 2(3x), 1(8x) & \\cellcolor{colorGood}  0.21 & \\cellcolor{colorGood} 0.98 & 1 & 295 & \\cellcolor{colorBad} 294 \\\\   \\hline\n",
      "15 & 293(1x), 20(1x), 6(1x), 2(4x), 1(8x) & \\cellcolor{colorGood}  0.2 & \\cellcolor{colorGood} 0.98 & 1 & 293 & \\cellcolor{colorBad} 292 \\\\   \\hline\n",
      "16 & 284(1x), 20(1x), 9(1x), 6(1x), 2(4x), 1(8x) & \\cellcolor{colorGood}  0.21 & \\cellcolor{colorGood} 0.98 & 1 & 284 & \\cellcolor{colorBad} 283 \\\\   \\hline\n",
      "17 & 276(1x), 20(1x), 9(1x), 8(1x), 6(1x), 2(4x), 1(8x) & \\cellcolor{colorGood}  0.18 & \\cellcolor{colorGood} 0.97 & 1 & 276 & \\cellcolor{colorBad} 275 \\\\   \\hline\n",
      "18 & 271(1x), 20(1x), 9(1x), 8(1x), 6(1x), 5(1x), 2(4x), 1(8x) & \\cellcolor{colorGood}  0.18 & \\cellcolor{colorGood} 0.96 & 1 & 271 & \\cellcolor{colorBad} 270 \\\\   \\hline\n",
      "19 & 267(1x), 20(1x), 9(1x), 8(1x), 6(1x), 5(1x), 4(1x), 2(4x), 1(8x) & \\cellcolor{colorGood}  0.17 & \\cellcolor{colorGood} 0.96 & 1 & 267 & \\cellcolor{colorBad} 266 \\\\   \\hline\n",
      "20 & 255(1x), 20(1x), 12(1x), 9(1x), 8(1x), 6(1x), 5(1x), 4(1x), 2(4x), 1(8x) & \\cellcolor{colorGood}  0.26 & \\cellcolor{colorGood} 0.96 & 1 & 255 & \\cellcolor{colorBad} 254 \\\\   \\hline\n",
      "21 & 254(1x), 20(1x), 12(1x), 9(1x), 8(1x), 6(1x), 5(1x), 4(1x), 2(4x), 1(9x) & \\cellcolor{colorGood}  0.25 & \\cellcolor{colorGood} 0.96 & 1 & 254 & \\cellcolor{colorBad} 253 \\\\   \\hline\n",
      "22 & 254(1x), 20(1x), 11(1x), 9(1x), 8(1x), 6(1x), 5(1x), 4(1x), 2(4x), 1(10x) & \\cellcolor{colorGood}  0.28 & \\cellcolor{colorGood} 0.96 & 1 & 254 & \\cellcolor{colorBad} 253 \\\\   \\hline\n",
      "23 & 249(1x), 20(1x), 11(1x), 9(1x), 8(1x), 6(1x), 5(2x), 4(1x), 2(4x), 1(10x) & \\cellcolor{colorGood}  0.27 & \\cellcolor{colorGood} 0.96 & 1 & 249 & \\cellcolor{colorBad} 248 \\\\   \\hline\n",
      "24 & 249(1x), 20(1x), 11(1x), 9(1x), 8(1x), 5(3x), 4(1x), 2(4x), 1(11x) & \\cellcolor{colorGood}  0.26 & \\cellcolor{colorGood} 0.96 & 1 & 249 & \\cellcolor{colorBad} 248 \\\\   \\hline\n",
      "25 & 198(1x), 51(1x), 20(1x), 11(1x), 9(1x), 8(1x), 5(3x), 4(1x), 2(4x), 1(11x) & \\cellcolor{colorGood}  0.26 & \\cellcolor{colorGood} 0.91 & 1 & 198 & \\cellcolor{colorBad} 197 \\\\   \\hline\n",
      "26 & 173(1x), 51(1x), 25(1x), 20(1x), 11(1x), 9(1x), 8(1x), 5(3x), 4(1x), 2(4x), 1(11x) & \\cellcolor{colorGood}  0.26 & \\cellcolor{colorGood} 0.9 & 1 & 173 & \\cellcolor{colorBad} 172 \\\\   \\hline\n",
      "27 & 166(1x), 51(1x), 25(1x), 20(1x), 11(1x), 9(1x), 8(1x), 7(1x), 5(3x), 4(1x), 2(4x), 1(11x) & \\cellcolor{colorGood}  0.25 & \\cellcolor{colorGood} 0.89 & 1 & 166 & \\cellcolor{colorBad} 165 \\\\   \\hline\n",
      "28 & 166(1x), 51(1x), 25(1x), 20(1x), 11(1x), 8(1x), 7(1x), 6(1x), 5(3x), 4(1x), 3(1x), 2(4x), 1(11x) & \\cellcolor{colorGood}  0.25 & \\cellcolor{colorGood} 0.89 & 1 & 166 & \\cellcolor{colorBad} 165 \\\\   \\hline\n",
      "29 & 166(1x), 51(1x), 20(1x), 17(1x), 11(1x), 8(2x), 7(1x), 6(1x), 5(3x), 4(1x), 3(1x), 2(4x), 1(11x) & \\cellcolor{colorGood}  0.24 & \\cellcolor{colorGood} 0.89 & 1 & 166 & \\cellcolor{colorBad} 165 \\\\   \\hline\n",
      "30 & 166(1x), 37(1x), 20(1x), 17(1x), 14(1x), 11(1x), 8(2x), 7(1x), 6(1x), 5(3x), 4(1x), 3(1x), 2(4x), 1(11x) & \\cellcolor{colorGood}  0.24 & \\cellcolor{colorGood} 0.89 & 1 & 166 & \\cellcolor{colorBad} 165 \\\\   \\hline\n",
      "31 & 166(1x), 37(1x), 20(1x), 17(1x), 14(1x), 11(1x), 8(1x), 7(1x), 6(1x), 5(3x), 4(3x), 3(1x), 2(4x), 1(11x) & \\cellcolor{colorGood}  0.27 & \\cellcolor{colorGood} 0.89 & 1 & 166 & \\cellcolor{colorBad} 165 \\\\   \\hline\n",
      "32 & 166(1x), 37(1x), 20(1x), 17(1x), 14(1x), 11(1x), 8(1x), 7(1x), 5(4x), 4(3x), 3(1x), 2(4x), 1(12x) & \\cellcolor{colorGood}  0.26 & \\cellcolor{colorGood} 0.89 & 1 & 166 & \\cellcolor{colorBad} 165 \\\\   \\hline\n",
      "33 & 166(1x), 26(1x), 20(1x), 17(1x), 14(1x), 11(2x), 8(1x), 7(1x), 5(4x), 4(3x), 3(1x), 2(4x), 1(12x) & \\cellcolor{colorGood}  0.25 & \\cellcolor{colorGood} 0.89 & 1 & 166 & \\cellcolor{colorBad} 165 \\\\   \\hline\n",
      "34 & 158(1x), 26(1x), 20(1x), 17(1x), 14(1x), 11(2x), 8(2x), 7(1x), 5(4x), 4(3x), 3(1x), 2(4x), 1(12x) & \\cellcolor{colorGood}  0.26 & \\cellcolor{colorGood} 0.89 & 1 & 158 & \\cellcolor{colorBad} 157 \\\\   \\hline\n",
      "35 & 142(1x), 26(1x), 20(1x), 17(1x), 16(1x), 14(1x), 11(2x), 8(2x), 7(1x), 5(4x), 4(3x), 3(1x), 2(4x), 1(12x) & \\cellcolor{colorGood}  0.31 & \\cellcolor{colorGood} 0.87 & 1 & 142 & \\cellcolor{colorBad} 141 \\\\   \\hline\n",
      "36 & 142(1x), 23(1x), 20(1x), 17(1x), 16(1x), 14(1x), 11(2x), 8(2x), 7(1x), 5(4x), 4(3x), 3(2x), 2(4x), 1(12x) & \\cellcolor{colorGood}  0.3 & \\cellcolor{colorGood} 0.87 & 1 & 142 & \\cellcolor{colorBad} 141 \\\\   \\hline\n",
      "37 & 142(1x), 23(1x), 20(1x), 17(1x), 15(1x), 14(1x), 11(2x), 8(2x), 7(1x), 5(4x), 4(3x), 3(2x), 2(4x), 1(13x) & \\cellcolor{colorGood}  0.3 & \\cellcolor{colorGood} 0.87 & 1 & 142 & \\cellcolor{colorBad} 141 \\\\   \\hline\n",
      "38 & 142(1x), 23(1x), 20(1x), 17(1x), 15(1x), 14(1x), 11(1x), 9(1x), 8(2x), 7(1x), 5(4x), 4(3x), 3(2x), 2(5x), 1(13x) & \\cellcolor{colorGood}  0.3 & \\cellcolor{colorGood} 0.87 & 1 & 142 & \\cellcolor{colorBad} 141 \\\\   \\hline\n",
      "39 & 142(1x), 23(1x), 20(1x), 17(1x), 15(1x), 14(1x), 11(1x), 9(1x), 8(2x), 7(1x), 5(4x), 4(2x), 3(2x), 2(7x), 1(13x) & \\cellcolor{colorGood}  0.29 & \\cellcolor{colorGood} 0.87 & 1 & 142 & \\cellcolor{colorBad} 141 \\\\   \\hline\n",
      "40 & 142(1x), 23(1x), 20(1x), 17(1x), 15(1x), 12(1x), 11(1x), 9(1x), 8(2x), 7(1x), 5(4x), 4(2x), 3(2x), 2(8x), 1(13x) & \\cellcolor{colorGood}  0.28 & \\cellcolor{colorGood} 0.87 & 1 & 142 & \\cellcolor{colorBad} 141 \\\\   \\hline\n",
      "41 & 142(1x), 23(1x), 17(1x), 16(1x), 15(1x), 12(1x), 11(1x), 9(1x), 8(2x), 7(1x), 5(4x), 4(3x), 3(2x), 2(8x), 1(13x) & \\cellcolor{colorGood}  0.28 & \\cellcolor{colorGood} 0.87 & 1 & 142 & \\cellcolor{colorBad} 141 \\\\   \\hline\n",
      "42 & 142(1x), 23(1x), 17(1x), 16(1x), 15(1x), 12(1x), 11(1x), 9(1x), 8(2x), 7(1x), 5(4x), 4(2x), 3(2x), 2(10x), 1(13x) & \\cellcolor{colorGood}  0.29 & \\cellcolor{colorGood} 0.87 & 1 & 142 & \\cellcolor{colorBad} 141 \\\\   \\hline\n",
      "43 & 142(1x), 23(1x), 17(1x), 16(1x), 15(1x), 12(1x), 11(1x), 9(1x), 8(2x), 5(5x), 4(2x), 3(2x), 2(11x), 1(13x) & \\cellcolor{colorGood}  0.29 & \\cellcolor{colorGood} 0.87 & 1 & 142 & \\cellcolor{colorBad} 141 \\\\   \\hline\n",
      "44 & 74(1x), 68(1x), 23(1x), 17(1x), 16(1x), 15(1x), 12(1x), 11(1x), 9(1x), 8(2x), 5(5x), 4(2x), 3(2x), 2(11x), 1(13x) & \\cellcolor{colorGood}  0.33 & \\cellcolor{colorGood} 0.82 & 1 & 74 & \\cellcolor{colorBad} 73 \\\\   \\hline\n",
      "45 & 74(1x), 68(1x), 23(1x), 17(1x), 16(1x), 15(1x), 12(1x), 11(1x), 9(1x), 8(1x), 5(6x), 4(2x), 3(3x), 2(11x), 1(13x) & \\cellcolor{colorGood}  0.33 & \\cellcolor{colorGood} 0.82 & 1 & 74 & \\cellcolor{colorBad} 73 \\\\   \\hline\n",
      "46 & 74(1x), 68(1x), 17(1x), 16(2x), 15(1x), 12(1x), 11(1x), 9(1x), 8(1x), 7(1x), 5(6x), 4(2x), 3(3x), 2(11x), 1(13x) & \\cellcolor{colorGood}  0.32 & \\cellcolor{colorGood} 0.82 & 1 & 74 & \\cellcolor{colorBad} 73 \\\\   \\hline\n",
      "47 & 74(1x), 68(1x), 17(1x), 16(2x), 15(1x), 11(1x), 9(1x), 8(1x), 7(1x), 6(2x), 5(6x), 4(2x), 3(3x), 2(11x), 1(13x) & \\cellcolor{colorGood}  0.31 & \\cellcolor{colorGood} 0.82 & 1 & 74 & \\cellcolor{colorBad} 73 \\\\   \\hline\n",
      "48 & 74(1x), 68(1x), 17(1x), 16(2x), 15(1x), 11(1x), 9(1x), 8(1x), 7(1x), 6(2x), 5(6x), 4(1x), 3(4x), 2(11x), 1(14x) & \\cellcolor{colorGood}  0.35 & \\cellcolor{colorGood} 0.82 & 1 & 74 & \\cellcolor{colorBad} 73 \\\\   \\hline\n",
      "49 & 74(1x), 68(1x), 17(1x), 16(2x), 15(1x), 11(1x), 8(1x), 7(1x), 6(3x), 5(6x), 4(1x), 3(5x), 2(11x), 1(14x) & \\cellcolor{colorGood}  0.34 & \\cellcolor{colorGood} 0.82 & 1 & 74 & \\cellcolor{colorBad} 73 \\\\   \\hline\n",
      "50 & 74(1x), 54(1x), 17(1x), 16(2x), 15(1x), 14(1x), 11(1x), 8(1x), 7(1x), 6(3x), 5(6x), 4(1x), 3(5x), 2(11x), 1(14x) & \\cellcolor{colorGood}  0.37 & \\cellcolor{colorGood} 0.78 & 1 & 74 & \\cellcolor{colorBad} 73 \\\\   \\hline\n",
      "51 & 71(1x), 54(1x), 17(1x), 16(2x), 15(1x), 14(1x), 11(1x), 8(1x), 7(1x), 6(3x), 5(6x), 4(1x), 3(6x), 2(11x), 1(14x) & \\cellcolor{colorGood}  0.36 & \\cellcolor{colorGood} 0.78 & 1 & 71 & \\cellcolor{colorBad} 70 \\\\   \\hline\n",
      "52 & 71(1x), 54(1x), 17(1x), 16(2x), 15(1x), 14(1x), 11(1x), 8(1x), 7(1x), 6(3x), 5(5x), 4(1x), 3(7x), 2(12x), 1(14x) & \\cellcolor{colorGood}  0.36 & \\cellcolor{colorGood} 0.78 & 1 & 71 & \\cellcolor{colorBad} 70 \\\\   \\hline\n",
      "53 & 71(1x), 54(1x), 17(1x), 16(1x), 15(1x), 14(1x), 12(1x), 11(1x), 8(1x), 7(1x), 6(3x), 5(5x), 4(2x), 3(7x), 2(12x), 1(14x) & \\cellcolor{colorGood}  0.37 & \\cellcolor{colorGood} 0.78 & 1 & 71 & \\cellcolor{colorBad} 70 \\\\   \\hline\n",
      "54 & 71(1x), 54(1x), 17(1x), 16(1x), 15(1x), 14(1x), 12(1x), 8(1x), 7(1x), 6(4x), 5(6x), 4(2x), 3(7x), 2(12x), 1(14x) & \\cellcolor{colorGood}  0.36 & \\cellcolor{colorGood} 0.78 & 1 & 71 & \\cellcolor{colorBad} 70 \\\\   \\hline\n",
      "55 & 71(1x), 54(1x), 17(1x), 16(1x), 15(1x), 14(1x), 12(1x), 8(1x), 7(1x), 6(4x), 5(5x), 4(2x), 3(8x), 2(13x), 1(14x) & \\cellcolor{colorGood}  0.35 & \\cellcolor{colorGood} 0.78 & 1 & 71 & \\cellcolor{colorBad} 70 \\\\   \\hline\n",
      "56 & 71(1x), 54(1x), 17(1x), 16(1x), 15(1x), 14(1x), 12(1x), 8(1x), 7(1x), 6(4x), 5(4x), 4(2x), 3(9x), 2(14x), 1(14x) & \\cellcolor{colorGood}  0.35 & \\cellcolor{colorGood} 0.78 & 1 & 71 & \\cellcolor{colorBad} 70 \\\\   \\hline\n",
      "57 & 54(1x), 50(1x), 21(1x), 17(1x), 16(1x), 15(1x), 14(1x), 12(1x), 8(1x), 7(1x), 6(4x), 5(4x), 4(2x), 3(9x), 2(14x), 1(14x) & \\cellcolor{colorGood}  0.35 & \\cellcolor{colorGood} 0.78 & 1 & 54 & \\cellcolor{colorBad} 53 \\\\   \\hline\n",
      "58 & 54(1x), 50(1x), 21(1x), 17(1x), 16(1x), 15(1x), 14(1x), 12(1x), 8(1x), 7(1x), 6(4x), 5(4x), 4(2x), 3(8x), 2(15x), 1(15x) & \\cellcolor{colorGood}  0.36 & \\cellcolor{colorGood} 0.78 & 1 & 54 & \\cellcolor{colorBad} 53 \\\\   \\hline\n",
      "59 & 54(1x), 50(1x), 21(1x), 17(1x), 16(1x), 15(1x), 14(1x), 12(1x), 7(1x), 6(4x), 5(4x), 4(4x), 3(8x), 2(15x), 1(15x) & \\cellcolor{colorGood}  0.35 & \\cellcolor{colorGood} 0.78 & 1 & 54 & \\cellcolor{colorBad} 53 \\\\   \\hline\n",
      "60 & 50(1x), 32(1x), 22(1x), 21(1x), 17(1x), 16(1x), 15(1x), 14(1x), 12(1x), 7(1x), 6(4x), 5(4x), 4(4x), 3(8x), 2(15x), 1(15x) & \\cellcolor{colorGood}  0.37 & \\cellcolor{colorGood} 0.73 & 1 & 50 & \\cellcolor{colorBad} 49 \\\\   \\hline\n",
      "61 & 33(1x), 32(1x), 22(1x), 21(1x), 17(2x), 16(1x), 15(1x), 14(1x), 12(1x), 7(1x), 6(4x), 5(4x), 4(4x), 3(8x), 2(15x), 1(15x) & \\cellcolor{colorGood}  0.38 & \\cellcolor{colorGood} 0.73 & 1 & 33 & \\cellcolor{colorBad} 32 \\\\   \\hline\n",
      "62 & 33(1x), 32(1x), 21(1x), 17(3x), 16(1x), 15(1x), 14(1x), 12(1x), 7(1x), 6(4x), 5(5x), 4(4x), 3(8x), 2(15x), 1(15x) & \\cellcolor{colorGood}  0.41 & \\cellcolor{colorGood} 0.73 & 1 & 33 & \\cellcolor{colorBad} 32 \\\\   \\hline\n",
      "63 & 33(1x), 32(1x), 21(1x), 17(3x), 16(1x), 15(1x), 12(2x), 7(1x), 6(4x), 5(5x), 4(4x), 3(8x), 2(16x), 1(15x) & \\cellcolor{colorGood}  0.42 & \\cellcolor{colorGood} 0.73 & 1 & 33 & \\cellcolor{colorBad} 32 \\\\   \\hline\n",
      "64 & 33(1x), 32(1x), 21(1x), 17(3x), 16(1x), 13(1x), 12(2x), 7(1x), 6(4x), 5(5x), 4(4x), 3(8x), 2(17x), 1(15x) & \\cellcolor{colorGood}  0.42 & \\cellcolor{colorGood} 0.73 & 1 & 33 & \\cellcolor{colorBad} 32 \\\\   \\hline\n",
      "65 & 33(1x), 32(1x), 21(1x), 17(2x), 16(1x), 13(1x), 12(2x), 10(1x), 7(2x), 6(4x), 5(5x), 4(4x), 3(8x), 2(17x), 1(15x) & \\cellcolor{colorGood}  0.41 & \\cellcolor{colorGood} 0.73 & 1 & 33 & \\cellcolor{colorBad} 32 \\\\   \\hline\n",
      "66 & 33(1x), 32(1x), 21(1x), 17(2x), 16(1x), 13(1x), 12(2x), 10(1x), 7(2x), 6(4x), 5(5x), 4(4x), 3(8x), 2(16x), 1(17x) & \\cellcolor{colorGood}  0.4 & \\cellcolor{colorGood} 0.73 & 1 & 33 & \\cellcolor{colorBad} 32 \\\\   \\hline\n",
      "67 & 33(1x), 32(1x), 21(1x), 17(2x), 16(1x), 13(1x), 12(2x), 10(1x), 7(2x), 6(4x), 5(5x), 4(4x), 3(7x), 2(17x), 1(18x) & \\cellcolor{colorGood}  0.4 & \\cellcolor{colorGood} 0.73 & 1 & 33 & \\cellcolor{colorBad} 32 \\\\   \\hline\n",
      "68 & 33(1x), 32(1x), 21(1x), 17(2x), 16(1x), 13(1x), 12(1x), 10(1x), 8(1x), 7(2x), 6(4x), 5(5x), 4(5x), 3(7x), 2(17x), 1(18x) & \\cellcolor{colorGood}  0.4 & \\cellcolor{colorGood} 0.73 & 1 & 33 & \\cellcolor{colorBad} 32 \\\\   \\hline\n",
      "69 & 33(1x), 29(1x), 21(1x), 17(2x), 16(1x), 13(1x), 12(1x), 10(1x), 8(1x), 7(2x), 6(4x), 5(5x), 4(5x), 3(8x), 2(17x), 1(18x) & \\cellcolor{colorGood}  0.4 & \\cellcolor{colorGood} 0.72 & 1 & 33 & \\cellcolor{colorBad} 32 \\\\   \\hline\n",
      "70 & 29(1x), 28(1x), 21(1x), 17(2x), 16(1x), 13(1x), 12(1x), 10(1x), 8(1x), 7(2x), 6(4x), 5(6x), 4(5x), 3(8x), 2(17x), 1(18x) & \\cellcolor{colorGood}  0.41 & \\cellcolor{colorGood} 0.72 & 1 & 29 & \\cellcolor{colorBad} 28 \\\\   \\hline\n",
      "71 & 29(1x), 28(1x), 17(2x), 16(1x), 13(1x), 12(1x), 11(1x), 10(2x), 8(1x), 7(2x), 6(4x), 5(6x), 4(5x), 3(8x), 2(17x), 1(18x) & \\cellcolor{colorGood}  0.43 & \\cellcolor{colorGood} 0.72 & 1 & 29 & \\cellcolor{colorBad} 28 \\\\   \\hline\n",
      "72 & 29(1x), 28(1x), 17(2x), 16(1x), 13(1x), 12(1x), 11(1x), 10(2x), 8(1x), 7(2x), 6(4x), 5(6x), 4(5x), 3(7x), 2(18x), 1(19x) & \\cellcolor{colorGood}  0.42 & \\cellcolor{colorGood} 0.72 & 1 & 29 & \\cellcolor{colorBad} 28 \\\\   \\hline\n",
      "73 & 29(1x), 28(1x), 17(2x), 16(1x), 12(2x), 11(1x), 10(2x), 8(1x), 7(2x), 6(4x), 5(6x), 4(5x), 3(7x), 2(18x), 1(20x) & \\cellcolor{colorGood}  0.42 & \\cellcolor{colorGood} 0.72 & 1 & 29 & \\cellcolor{colorBad} 28 \\\\   \\hline\n",
      "74 & 29(1x), 28(1x), 17(2x), 16(1x), 12(2x), 11(1x), 10(2x), 8(1x), 7(2x), 6(4x), 5(5x), 4(5x), 3(8x), 2(19x), 1(20x) & \\cellcolor{colorGood}  0.41 & \\cellcolor{colorGood} 0.72 & 1 & 29 & \\cellcolor{colorBad} 28 \\\\   \\hline\n",
      "75 & 29(1x), 28(1x), 17(2x), 16(1x), 12(2x), 11(1x), 10(2x), 8(1x), 7(2x), 6(4x), 5(5x), 4(5x), 3(7x), 2(20x), 1(21x) & \\cellcolor{colorGood}  0.43 & \\cellcolor{colorGood} 0.72 & 1 & 29 & \\cellcolor{colorBad} 28 \\\\   \\hline\n",
      "76 & 29(1x), 28(1x), 17(2x), 16(1x), 12(2x), 11(1x), 10(2x), 8(1x), 7(2x), 6(3x), 5(5x), 4(6x), 3(7x), 2(21x), 1(21x) & \\cellcolor{colorGood}  0.42 & \\cellcolor{colorGood} 0.72 & 1 & 29 & \\cellcolor{colorBad} 28 \\\\   \\hline\n",
      "77 & 29(1x), 24(1x), 17(2x), 16(1x), 12(2x), 11(1x), 10(2x), 8(1x), 7(2x), 6(3x), 5(5x), 4(7x), 3(7x), 2(21x), 1(21x) & \\cellcolor{colorGood}  0.42 & \\cellcolor{colorGood} 0.72 & 1 & 29 & \\cellcolor{colorBad} 28 \\\\   \\hline\n",
      "78 & 29(1x), 24(1x), 17(1x), 16(1x), 15(1x), 12(2x), 11(1x), 10(2x), 8(1x), 7(2x), 6(3x), 5(5x), 4(7x), 3(7x), 2(22x), 1(21x) & \\cellcolor{colorGood}  0.44 & \\cellcolor{colorGood} 0.72 & 1 & 29 & \\cellcolor{colorBad} 28 \\\\   \\hline\n",
      "79 & 29(1x), 24(1x), 17(1x), 16(1x), 15(1x), 12(2x), 11(1x), 10(2x), 8(1x), 7(2x), 6(3x), 5(4x), 4(7x), 3(8x), 2(23x), 1(21x) & \\cellcolor{colorGood}  0.44 & \\cellcolor{colorGood} 0.72 & 1 & 29 & \\cellcolor{colorBad} 28 \\\\   \\hline\n",
      "80 & 29(1x), 24(1x), 17(1x), 16(1x), 15(1x), 12(2x), 11(1x), 10(2x), 7(2x), 6(4x), 5(4x), 4(7x), 3(8x), 2(24x), 1(21x) & \\cellcolor{colorGood}  0.44 & \\cellcolor{colorGood} 0.72 & 1 & 29 & \\cellcolor{colorBad} 28 \\\\   \\hline\n",
      "81 & 29(1x), 24(1x), 17(1x), 16(1x), 15(1x), 12(2x), 11(1x), 10(1x), 7(2x), 6(5x), 5(4x), 4(8x), 3(8x), 2(24x), 1(21x) & \\cellcolor{colorGood}  0.43 & \\cellcolor{colorGood} 0.72 & 1 & 29 & \\cellcolor{colorBad} 28 \\\\   \\hline\n",
      "82 & 29(1x), 24(1x), 17(1x), 16(1x), 15(1x), 12(1x), 11(1x), 10(1x), 7(2x), 6(7x), 5(4x), 4(8x), 3(8x), 2(24x), 1(21x) & \\cellcolor{colorGood}  0.44 & \\cellcolor{colorGood} 0.72 & 1 & 29 & \\cellcolor{colorBad} 28 \\\\   \\hline\n",
      "83 & 29(1x), 24(1x), 17(1x), 16(1x), 15(1x), 12(1x), 11(1x), 10(1x), 7(2x), 6(7x), 5(4x), 4(7x), 3(8x), 2(26x), 1(21x) & \\cellcolor{colorGood}  0.45 & \\cellcolor{colorGood} 0.72 & 1 & 29 & \\cellcolor{colorBad} 28 \\\\   \\hline\n",
      "84 & 29(1x), 24(1x), 17(1x), 16(1x), 15(1x), 12(1x), 11(1x), 10(1x), 7(2x), 6(7x), 5(4x), 4(7x), 3(7x), 2(27x), 1(22x) & \\cellcolor{colorGood}  0.44 & \\cellcolor{colorGood} 0.72 & 1 & 29 & \\cellcolor{colorBad} 28 \\\\   \\hline\n",
      "85 & 29(1x), 24(1x), 17(1x), 16(1x), 15(1x), 12(1x), 11(1x), 10(1x), 7(2x), 6(7x), 5(3x), 4(8x), 3(7x), 2(27x), 1(23x) & \\cellcolor{colorGood}  0.44 & \\cellcolor{colorGood} 0.72 & 1 & 29 & \\cellcolor{colorBad} 28 \\\\   \\hline\n",
      "86 & 29(1x), 24(1x), 17(1x), 16(1x), 15(1x), 12(1x), 11(1x), 10(1x), 7(2x), 6(7x), 5(2x), 4(9x), 3(7x), 2(27x), 1(24x) & \\cellcolor{colorGood}  0.43 & \\cellcolor{colorGood} 0.72 & 1 & 29 & \\cellcolor{colorBad} 28 \\\\   \\hline\n",
      "87 & 29(1x), 24(1x), 17(1x), 16(1x), 12(1x), 11(2x), 10(1x), 7(2x), 6(7x), 5(2x), 4(10x), 3(7x), 2(27x), 1(24x) & \\cellcolor{colorGood}  0.43 & \\cellcolor{colorGood} 0.71 & 1 & 29 & \\cellcolor{colorBad} 28 \\\\   \\hline\n",
      "88 & 29(1x), 24(1x), 17(1x), 16(1x), 11(2x), 10(1x), 7(2x), 6(9x), 5(2x), 4(10x), 3(7x), 2(27x), 1(24x) & \\cellcolor{colorGood}  0.46 & \\cellcolor{colorGood} 0.71 & 1 & 29 & \\cellcolor{colorBad} 28 \\\\   \\hline\n",
      "89 & 29(1x), 19(1x), 17(1x), 16(1x), 11(2x), 10(1x), 7(2x), 6(9x), 5(3x), 4(10x), 3(7x), 2(27x), 1(24x) & \\cellcolor{colorGood}  0.45 & \\cellcolor{colorGood} 0.71 & 1 & 29 & \\cellcolor{colorBad} 28 \\\\   \\hline\n",
      "90 & 29(1x), 19(1x), 16(1x), 13(1x), 11(2x), 10(1x), 7(2x), 6(9x), 5(3x), 4(11x), 3(7x), 2(27x), 1(24x) & \\cellcolor{colorGood}  0.46 & \\cellcolor{colorGood} 0.71 & 1 & 29 & \\cellcolor{colorBad} 28 \\\\   \\hline\n",
      "91 & 29(1x), 19(1x), 16(1x), 13(1x), 11(1x), 10(1x), 7(3x), 6(9x), 5(3x), 4(12x), 3(7x), 2(27x), 1(24x) & \\cellcolor{colorGood}  0.48 & \\cellcolor{colorGood} 0.71 & 1 & 29 & \\cellcolor{colorBad} 28 \\\\   \\hline\n",
      "92 & 29(1x), 19(1x), 16(1x), 13(1x), 11(1x), 10(1x), 7(3x), 6(9x), 5(3x), 4(11x), 3(7x), 2(29x), 1(24x) & \\cellcolor{colorGood}  0.47 & \\cellcolor{colorGood} 0.71 & 1 & 29 & \\cellcolor{colorBad} 28 \\\\   \\hline\n",
      "93 & 29(1x), 19(1x), 15(1x), 13(1x), 11(1x), 10(1x), 7(3x), 6(9x), 5(3x), 4(11x), 3(7x), 2(29x), 1(25x) & \\cellcolor{colorGood}  0.47 & \\cellcolor{colorGood} 0.71 & 1 & 29 & \\cellcolor{colorBad} 28 \\\\   \\hline\n",
      "94 & 29(1x), 19(1x), 15(1x), 13(1x), 11(1x), 10(1x), 7(3x), 6(9x), 5(3x), 4(10x), 3(8x), 2(29x), 1(26x) & \\cellcolor{colorGood}  0.46 & \\cellcolor{colorGood} 0.71 & 1 & 29 & \\cellcolor{colorBad} 28 \\\\   \\hline\n",
      "95 & 29(1x), 19(1x), 15(1x), 13(1x), 11(1x), 10(1x), 7(3x), 6(9x), 5(3x), 4(10x), 3(8x), 2(28x), 1(28x) & \\cellcolor{colorGood}  0.46 & \\cellcolor{colorGood} 0.71 & 1 & 29 & \\cellcolor{colorBad} 28 \\\\   \\hline\n",
      "96 & 29(1x), 19(1x), 15(1x), 13(1x), 11(1x), 10(1x), 7(3x), 6(9x), 5(3x), 4(10x), 3(7x), 2(29x), 1(29x) & \\cellcolor{colorGood}  0.46 & \\cellcolor{colorGood} 0.71 & 1 & 29 & \\cellcolor{colorBad} 28 \\\\   \\hline\n",
      "97 & 29(1x), 19(1x), 15(1x), 13(1x), 11(1x), 10(1x), 7(3x), 6(9x), 5(3x), 4(10x), 3(7x), 2(28x), 1(31x) & \\cellcolor{colorGood}  0.45 & \\cellcolor{colorGood} 0.71 & 1 & 29 & \\cellcolor{colorBad} 28 \\\\   \\hline\n",
      "98 & 29(1x), 19(1x), 15(1x), 13(1x), 11(1x), 10(1x), 7(3x), 6(9x), 5(3x), 4(10x), 3(7x), 2(27x), 1(33x) & \\cellcolor{colorGood}  0.45 & \\cellcolor{colorGood} 0.71 & 1 & 29 & \\cellcolor{colorBad} 28 \\\\   \\hline\n",
      "99 & 29(1x), 19(1x), 15(1x), 13(1x), 11(1x), 10(1x), 7(3x), 6(9x), 5(3x), 4(10x), 3(7x), 2(26x), 1(35x) & \\cellcolor{colorGood}  0.44 & \\cellcolor{colorGood} 0.71 & 1 & 29 & \\cellcolor{colorBad} 28 \\\\   \\hline\n",
      "100 & 29(1x), 19(1x), 15(1x), 13(1x), 11(1x), 10(1x), 7(3x), 6(9x), 5(3x), 4(9x), 3(8x), 2(26x), 1(36x) & \\cellcolor{colorGood}  0.44 & \\cellcolor{colorGood} 0.71 & 1 & 29 & \\cellcolor{colorBad} 28 \\\\   \\hline\n",
      "101 & 29(1x), 19(1x), 15(1x), 13(1x), 11(1x), 10(1x), 7(3x), 6(8x), 5(4x), 4(9x), 3(8x), 2(26x), 1(37x) & \\cellcolor{colorGood}  0.43 & \\cellcolor{colorGood} 0.71 & 1 & 29 & \\cellcolor{colorBad} 28 \\\\   \\hline\n",
      "102 & 29(1x), 19(1x), 15(1x), 13(1x), 11(1x), 10(1x), 7(3x), 6(8x), 5(4x), 4(8x), 3(9x), 2(26x), 1(38x) & \\cellcolor{colorGood}  0.43 & \\cellcolor{colorGood} 0.71 & 1 & 29 & \\cellcolor{colorBad} 28 \\\\   \\hline\n",
      "103 & 29(1x), 19(1x), 15(1x), 13(1x), 11(1x), 10(1x), 7(3x), 6(8x), 5(4x), 4(8x), 3(8x), 2(27x), 1(39x) & \\cellcolor{colorGood}  0.43 & \\cellcolor{colorGood} 0.71 & 1 & 29 & \\cellcolor{colorBad} 28 \\\\   \\hline\n",
      "104 & 29(1x), 19(1x), 15(1x), 13(1x), 11(1x), 10(1x), 7(3x), 6(8x), 5(4x), 4(8x), 3(7x), 2(28x), 1(40x) & \\cellcolor{colorGood}  0.42 & \\cellcolor{colorGood} 0.71 & 1 & 29 & \\cellcolor{colorBad} 28 \\\\   \\hline\n",
      "105 & 29(1x), 19(1x), 15(1x), 13(1x), 11(1x), 10(1x), 7(2x), 6(9x), 5(4x), 4(8x), 3(7x), 2(28x), 1(41x) & \\cellcolor{colorGood}  0.42 & \\cellcolor{colorGood} 0.71 & 1 & 29 & \\cellcolor{colorBad} 28 \\\\   \\hline\n",
      "106 & 29(1x), 19(1x), 15(1x), 13(1x), 11(1x), 10(1x), 7(2x), 6(9x), 5(4x), 4(8x), 3(6x), 2(29x), 1(42x) & \\cellcolor{colorGood}  0.41 & \\cellcolor{colorGood} 0.71 & 1 & 29 & \\cellcolor{colorBad} 28 \\\\   \\hline\n",
      "107 & 29(1x), 19(1x), 15(1x), 13(1x), 11(1x), 10(1x), 7(2x), 6(9x), 5(4x), 4(7x), 3(6x), 2(31x), 1(42x) & \\cellcolor{colorGood}  0.42 & \\cellcolor{colorGood} 0.71 & 1 & 29 & \\cellcolor{colorBad} 28 \\\\   \\hline\n",
      "108 & 29(1x), 19(1x), 15(1x), 13(1x), 11(1x), 10(1x), 7(2x), 6(8x), 5(4x), 4(7x), 3(8x), 2(31x), 1(42x) & \\cellcolor{colorGood}  0.42 & \\cellcolor{colorGood} 0.71 & 1 & 29 & \\cellcolor{colorBad} 28 \\\\   \\hline\n",
      "109 & 29(1x), 19(1x), 15(1x), 13(1x), 11(1x), 8(1x), 7(2x), 6(8x), 5(4x), 4(7x), 3(8x), 2(32x), 1(42x) & \\cellcolor{colorGood}  0.42 & \\cellcolor{colorGood} 0.71 & 1 & 29 & \\cellcolor{colorBad} 28 \\\\   \\hline\n",
      "110 & 29(1x), 19(1x), 15(1x), 11(2x), 8(1x), 7(2x), 6(8x), 5(4x), 4(7x), 3(8x), 2(33x), 1(42x) & \\cellcolor{colorGood}  0.41 & \\cellcolor{colorGood} 0.71 & 1 & 29 & \\cellcolor{colorBad} 28 \\\\   \\hline\n",
      "111 & 29(1x), 19(1x), 15(1x), 11(2x), 8(1x), 7(2x), 6(8x), 5(4x), 4(7x), 3(7x), 2(34x), 1(43x) & \\cellcolor{colorGood}  0.41 & \\cellcolor{colorGood} 0.71 & 1 & 29 & \\cellcolor{colorBad} 28 \\\\   \\hline\n",
      "112 & 23(1x), 19(1x), 15(1x), 11(2x), 8(1x), 7(2x), 6(9x), 5(4x), 4(7x), 3(7x), 2(34x), 1(43x) & \\cellcolor{colorGood}  0.43 & \\cellcolor{colorGood} 0.7 & 1 & 23 & \\cellcolor{colorBad} 22 \\\\   \\hline\n",
      "113 & 23(1x), 19(1x), 15(1x), 11(2x), 8(1x), 7(1x), 6(9x), 5(5x), 4(7x), 3(7x), 2(35x), 1(43x) & \\cellcolor{colorGood}  0.44 & \\cellcolor{colorGood} 0.7 & 1 & 23 & \\cellcolor{colorBad} 22 \\\\   \\hline\n",
      "114 & 23(1x), 19(1x), 15(1x), 11(2x), 8(1x), 7(1x), 6(9x), 5(5x), 4(6x), 3(7x), 2(37x), 1(43x) & \\cellcolor{colorGood}  0.44 & \\cellcolor{colorGood} 0.7 & 1 & 23 & \\cellcolor{colorBad} 22 \\\\   \\hline\n",
      "115 & 23(1x), 19(1x), 15(1x), 11(2x), 8(1x), 7(1x), 6(9x), 5(5x), 4(5x), 3(7x), 2(39x), 1(43x) & \\cellcolor{colorGood}  0.44 & \\cellcolor{colorGood} 0.7 & 1 & 23 & \\cellcolor{colorBad} 22 \\\\   \\hline\n",
      "116 & 23(1x), 19(1x), 15(1x), 11(2x), 8(1x), 7(1x), 6(9x), 5(5x), 4(4x), 3(7x), 2(41x), 1(43x) & \\cellcolor{colorGood}  0.43 & \\cellcolor{colorGood} 0.7 & 1 & 23 & \\cellcolor{colorBad} 22 \\\\   \\hline\n",
      "117 & 23(1x), 19(1x), 15(1x), 11(2x), 8(1x), 7(1x), 6(9x), 5(5x), 4(3x), 3(7x), 2(43x), 1(43x) & \\cellcolor{colorGood}  0.43 & \\cellcolor{colorGood} 0.7 & 1 & 23 & \\cellcolor{colorBad} 22 \\\\   \\hline\n",
      "118 & 23(1x), 19(1x), 15(1x), 11(2x), 8(1x), 7(1x), 6(9x), 5(5x), 4(2x), 3(7x), 2(45x), 1(43x) & \\cellcolor{colorGood}  0.44 & \\cellcolor{colorGood} 0.7 & 1 & 23 & \\cellcolor{colorBad} 22 \\\\   \\hline\n",
      "119 & 23(1x), 19(1x), 15(1x), 11(2x), 8(1x), 7(1x), 6(8x), 5(5x), 4(2x), 3(9x), 2(45x), 1(43x) & \\cellcolor{colorGood}  0.43 & \\cellcolor{colorGood} 0.7 & 1 & 23 & \\cellcolor{colorBad} 22 \\\\   \\hline\n",
      "120 & 23(1x), 19(1x), 15(1x), 11(1x), 8(2x), 7(1x), 6(8x), 5(5x), 4(2x), 3(10x), 2(45x), 1(43x) & \\cellcolor{colorGood}  0.45 & \\cellcolor{colorGood} 0.7 & 1 & 23 & \\cellcolor{colorBad} 22 \\\\   \\hline\n",
      "121 & 23(1x), 19(1x), 15(1x), 11(1x), 8(2x), 6(8x), 5(5x), 4(3x), 3(11x), 2(45x), 1(43x) & \\cellcolor{colorGood}  0.45 & \\cellcolor{colorGood} 0.7 & 1 & 23 & \\cellcolor{colorBad} 22 \\\\   \\hline\n",
      "122 & 23(1x), 16(1x), 15(1x), 11(1x), 8(2x), 6(8x), 5(5x), 4(3x), 3(12x), 2(45x), 1(43x) & \\cellcolor{colorGood}  0.44 & \\cellcolor{colorGood} 0.7 & 1 & 23 & \\cellcolor{colorBad} 22 \\\\   \\hline\n",
      "123 & 23(1x), 16(1x), 15(1x), 11(1x), 8(2x), 6(8x), 5(5x), 4(2x), 3(12x), 2(47x), 1(43x) & \\cellcolor{colorGood}  0.45 & \\cellcolor{colorGood} 0.7 & 1 & 23 & \\cellcolor{colorBad} 22 \\\\   \\hline\n",
      "124 & 23(1x), 16(1x), 15(1x), 11(1x), 8(2x), 6(7x), 5(6x), 4(2x), 3(12x), 2(47x), 1(44x) & \\cellcolor{colorGood}  0.45 & \\cellcolor{colorGood} 0.7 & 1 & 23 & \\cellcolor{colorBad} 22 \\\\   \\hline\n",
      "125 & 23(1x), 16(1x), 15(1x), 11(1x), 8(2x), 6(7x), 5(6x), 4(2x), 3(11x), 2(48x), 1(45x) & \\cellcolor{colorGood}  0.45 & \\cellcolor{colorGood} 0.7 & 1 & 23 & \\cellcolor{colorBad} 22 \\\\   \\hline\n",
      "126 & 23(1x), 16(1x), 15(1x), 11(1x), 8(2x), 6(7x), 5(5x), 4(2x), 3(12x), 2(49x), 1(45x) & \\cellcolor{colorGood}  0.46 & \\cellcolor{colorGood} 0.7 & 1 & 23 & \\cellcolor{colorBad} 22 \\\\   \\hline\n",
      "127 & 23(1x), 16(1x), 15(1x), 11(1x), 8(2x), 6(7x), 5(5x), 4(2x), 3(12x), 2(48x), 1(47x) & \\cellcolor{colorGood}  0.45 & \\cellcolor{colorGood} 0.7 & 1 & 23 & \\cellcolor{colorBad} 22 \\\\   \\hline\n",
      "128 & 23(1x), 16(1x), 15(1x), 11(1x), 8(2x), 6(6x), 5(5x), 4(2x), 3(14x), 2(48x), 1(47x) & \\cellcolor{colorGood}  0.45 & \\cellcolor{colorGood} 0.7 & 1 & 23 & \\cellcolor{colorBad} 22 \\\\   \\hline\n",
      "129 & 23(1x), 16(1x), 15(1x), 11(1x), 8(1x), 6(7x), 5(5x), 4(2x), 3(14x), 2(49x), 1(47x) & \\cellcolor{colorGood}  0.45 & \\cellcolor{colorGood} 0.7 & 1 & 23 & \\cellcolor{colorBad} 22 \\\\   \\hline\n",
      "130 & 16(1x), 15(1x), 13(1x), 11(1x), 10(1x), 8(1x), 6(7x), 5(5x), 4(2x), 3(14x), 2(49x), 1(47x) & \\cellcolor{colorGood}  0.48 & \\cellcolor{colorGood} 0.67 & 1 & 16 & \\cellcolor{colorBad} 15 \\\\   \\hline\n",
      "131 & 16(1x), 15(1x), 13(1x), 11(1x), 10(1x), 8(1x), 6(6x), 5(6x), 4(2x), 3(14x), 2(49x), 1(48x) & \\cellcolor{colorGood}  0.47 & \\cellcolor{colorGood} 0.67 & 1 & 16 & \\cellcolor{colorBad} 15 \\\\   \\hline\n",
      "132 & 16(1x), 15(1x), 13(1x), 10(1x), 8(2x), 6(6x), 5(6x), 4(2x), 3(15x), 2(49x), 1(48x) & \\cellcolor{colorGood}  0.48 & \\cellcolor{colorGood} 0.67 & 1 & 16 & \\cellcolor{colorBad} 15 \\\\   \\hline\n",
      "133 & 16(1x), 15(1x), 13(1x), 10(1x), 8(2x), 6(6x), 5(6x), 4(1x), 3(16x), 2(49x), 1(49x) & \\cellcolor{colorGood}  0.48 & \\cellcolor{colorGood} 0.67 & 1 & 16 & \\cellcolor{colorBad} 15 \\\\   \\hline\n",
      "134 & 16(1x), 15(1x), 13(1x), 10(1x), 8(2x), 6(6x), 5(6x), 3(17x), 2(49x), 1(50x) & \\cellcolor{colorGood}  0.52 & \\cellcolor{colorGood} 0.67 & 1 & 16 & \\cellcolor{colorBad} 15 \\\\   \\hline\n",
      "135 & 16(1x), 15(1x), 13(1x), 10(1x), 8(1x), 6(7x), 5(6x), 3(17x), 2(50x), 1(50x) & \\cellcolor{colorGood}  0.53 & \\cellcolor{colorGood} 0.67 & 1 & 16 & \\cellcolor{colorBad} 15 \\\\   \\hline\n",
      "136 & 16(1x), 15(1x), 13(1x), 10(1x), 8(1x), 6(7x), 5(6x), 3(16x), 2(51x), 1(51x) & \\cellcolor{colorGood}  0.53 & \\cellcolor{colorGood} 0.67 & 1 & 16 & \\cellcolor{colorBad} 15 \\\\   \\hline\n",
      "137 & 16(1x), 15(1x), 13(1x), 10(1x), 8(1x), 6(6x), 5(6x), 4(1x), 3(16x), 2(52x), 1(51x) & \\cellcolor{colorGood}  0.53 & \\cellcolor{colorGood} 0.67 & 1 & 16 & \\cellcolor{colorBad} 15 \\\\   \\hline\n",
      "138 & 16(1x), 15(1x), 13(1x), 10(1x), 8(1x), 6(6x), 5(6x), 4(1x), 3(15x), 2(53x), 1(52x) & \\cellcolor{colorGood}  0.52 & \\cellcolor{colorGood} 0.67 & 1 & 16 & \\cellcolor{colorBad} 15 \\\\   \\hline\n",
      "139 & 16(1x), 15(1x), 13(1x), 10(1x), 8(1x), 6(6x), 5(5x), 4(1x), 3(16x), 2(54x), 1(52x) & \\cellcolor{colorGood}  0.53 & \\cellcolor{colorGood} 0.67 & 1 & 16 & \\cellcolor{colorBad} 15 \\\\   \\hline\n",
      "140 & 16(1x), 15(1x), 13(1x), 10(1x), 8(1x), 6(5x), 5(6x), 4(1x), 3(16x), 2(54x), 1(53x) & \\cellcolor{colorOK}  0.59 & \\cellcolor{colorOK} 0.67 & 1 & 16 & \\cellcolor{colorBad} 15 \\\\   \\hline\n",
      "141 & 16(1x), 15(1x), 13(1x), 10(1x), 8(1x), 6(5x), 5(6x), 4(1x), 3(15x), 2(55x), 1(54x) & \\cellcolor{colorOK}  0.6 & \\cellcolor{colorOK} 0.67 & 1 & 16 & \\cellcolor{colorBad} 15 \\\\   \\hline\n",
      "142 & 16(1x), 15(1x), 13(1x), 10(1x), 8(1x), 6(5x), 5(5x), 4(1x), 3(16x), 2(56x), 1(54x) & \\cellcolor{colorOK}  0.6 & \\cellcolor{colorOK} 0.67 & 1 & 16 & \\cellcolor{colorBad} 15 \\\\   \\hline\n",
      "143 & 16(1x), 13(2x), 10(1x), 8(1x), 6(5x), 5(5x), 4(1x), 3(16x), 2(57x), 1(54x) & \\cellcolor{colorOK}  0.59 & \\cellcolor{colorOK} 0.67 & 1 & 16 & \\cellcolor{colorBad} 15 \\\\   \\hline\n",
      "144 & 13(3x), 10(1x), 8(1x), 6(5x), 5(5x), 4(1x), 3(17x), 2(57x), 1(54x) & \\cellcolor{colorOK}  0.59 & \\cellcolor{colorOK} 0.67 & 1 & 13 & \\cellcolor{colorGood} 12 \\\\   \\hline\n",
      "145 & 13(3x), 10(1x), 8(1x), 6(5x), 5(5x), 4(1x), 3(17x), 2(56x), 1(56x) & \\cellcolor{colorOK}  0.59 & \\cellcolor{colorOK} 0.67 & 1 & 13 & \\cellcolor{colorGood} 12 \\\\   \\hline\n",
      "146 & 13(3x), 10(1x), 8(1x), 6(5x), 5(5x), 4(1x), 3(17x), 2(55x), 1(58x) & \\cellcolor{colorOK}  0.59 & \\cellcolor{colorOK} 0.67 & 1 & 13 & \\cellcolor{colorGood} 12 \\\\   \\hline\n",
      "147 & 13(3x), 10(1x), 8(1x), 6(5x), 5(5x), 4(1x), 3(17x), 2(54x), 1(60x) & \\cellcolor{colorOK}  0.58 & \\cellcolor{colorOK} 0.67 & 1 & 13 & \\cellcolor{colorGood} 12 \\\\   \\hline\n",
      "148 & 13(2x), 12(1x), 10(1x), 8(1x), 6(5x), 5(5x), 4(1x), 3(17x), 2(54x), 1(61x) & \\cellcolor{colorOK}  0.58 & \\cellcolor{colorOK} 0.67 & 1 & 13 & \\cellcolor{colorGood} 12 \\\\   \\hline\n",
      "149 & 13(2x), 12(1x), 10(1x), 8(1x), 6(5x), 5(5x), 4(1x), 3(16x), 2(55x), 1(62x) & \\cellcolor{colorOK}  0.57 & \\cellcolor{colorOK} 0.67 & 1 & 13 & \\cellcolor{colorGood} 12 \\\\   \\hline\n",
      "150 & 13(2x), 10(2x), 8(1x), 6(5x), 5(5x), 4(1x), 3(16x), 2(56x), 1(62x) & \\cellcolor{colorOK}  0.57 & \\cellcolor{colorOK} 0.67 & 1 & 13 & \\cellcolor{colorGood} 12 \\\\   \\hline\n",
      "151 & 13(2x), 10(2x), 8(1x), 6(5x), 5(5x), 4(1x), 3(16x), 2(55x), 1(64x) & \\cellcolor{colorOK}  0.57 & \\cellcolor{colorOK} 0.67 & 1 & 13 & \\cellcolor{colorGood} 12 \\\\   \\hline\n",
      "152 & 13(2x), 10(1x), 9(1x), 8(1x), 6(5x), 5(5x), 4(1x), 3(16x), 2(55x), 1(65x) & \\cellcolor{colorOK}  0.56 & \\cellcolor{colorOK} 0.67 & 1 & 13 & \\cellcolor{colorGood} 12 \\\\   \\hline\n",
      "153 & 13(2x), 10(1x), 8(2x), 6(5x), 5(5x), 4(1x), 3(16x), 2(55x), 1(66x) & \\cellcolor{colorOK}  0.56 & \\cellcolor{colorOK} 0.67 & 1 & 13 & \\cellcolor{colorGood} 12 \\\\   \\hline\n",
      "154 & 13(2x), 10(1x), 8(1x), 7(1x), 6(5x), 5(5x), 4(1x), 3(16x), 2(55x), 1(67x) & \\cellcolor{colorOK}  0.56 & \\cellcolor{colorOK} 0.67 & 1 & 13 & \\cellcolor{colorGood} 12 \\\\   \\hline\n",
      "155 & 13(2x), 10(1x), 8(1x), 6(6x), 5(5x), 4(1x), 3(16x), 2(55x), 1(68x) & \\cellcolor{colorGood}  0.55 & \\cellcolor{colorGood} 0.67 & 1 & 13 & \\cellcolor{colorGood} 12 \\\\   \\hline\n",
      "156 & 13(2x), 10(1x), 8(1x), 6(6x), 5(5x), 4(1x), 3(16x), 2(54x), 1(70x) & \\cellcolor{colorGood}  0.55 & \\cellcolor{colorGood} 0.67 & 1 & 13 & \\cellcolor{colorGood} 12 \\\\   \\hline\n",
      "157 & 13(2x), 10(1x), 8(1x), 6(6x), 5(5x), 4(1x), 3(16x), 2(53x), 1(72x) & \\cellcolor{colorGood}  0.55 & \\cellcolor{colorGood} 0.67 & 1 & 13 & \\cellcolor{colorGood} 12 \\\\   \\hline\n",
      "158 & 13(2x), 10(1x), 8(1x), 6(6x), 5(5x), 4(1x), 3(16x), 2(52x), 1(74x) & \\cellcolor{colorGood}  0.54 & \\cellcolor{colorGood} 0.67 & 1 & 13 & \\cellcolor{colorGood} 12 \\\\   \\hline\n",
      "159 & 13(2x), 10(1x), 8(1x), 6(5x), 5(6x), 4(1x), 3(16x), 2(52x), 1(75x) & \\cellcolor{colorGood}  0.54 & \\cellcolor{colorGood} 0.67 & 1 & 13 & \\cellcolor{colorGood} 12 \\\\   \\hline\n",
      "160 & 13(2x), 10(1x), 8(1x), 6(5x), 5(6x), 4(1x), 3(16x), 2(51x), 1(77x) & \\cellcolor{colorGood}  0.54 & \\cellcolor{colorGood} 0.67 & 1 & 13 & \\cellcolor{colorGood} 12 \\\\   \\hline\n",
      "161 & 13(2x), 10(1x), 8(1x), 6(5x), 5(6x), 4(1x), 3(16x), 2(50x), 1(79x) & \\cellcolor{colorGood}  0.53 & \\cellcolor{colorGood} 0.67 & 1 & 13 & \\cellcolor{colorGood} 12 \\\\   \\hline\n",
      "162 & 13(2x), 10(1x), 8(1x), 6(5x), 5(5x), 4(2x), 3(16x), 2(50x), 1(80x) & \\cellcolor{colorGood}  0.53 & \\cellcolor{colorGood} 0.67 & 1 & 13 & \\cellcolor{colorGood} 12 \\\\   \\hline\n",
      "163 & 13(2x), 10(1x), 8(1x), 6(5x), 5(5x), 4(1x), 3(17x), 2(50x), 1(81x) & \\cellcolor{colorGood}  0.53 & \\cellcolor{colorGood} 0.67 & 1 & 13 & \\cellcolor{colorGood} 12 \\\\   \\hline\n",
      "164 & 13(2x), 10(1x), 8(1x), 6(5x), 5(5x), 4(1x), 3(16x), 2(51x), 1(82x) & \\cellcolor{colorGood}  0.52 & \\cellcolor{colorGood} 0.67 & 1 & 13 & \\cellcolor{colorGood} 12 \\\\   \\hline\n",
      "165 & 13(2x), 10(1x), 8(1x), 6(5x), 5(5x), 4(1x), 3(16x), 2(50x), 1(84x) & \\cellcolor{colorGood}  0.52 & \\cellcolor{colorGood} 0.67 & 1 & 13 & \\cellcolor{colorGood} 12 \\\\   \\hline\n",
      "166 & 13(2x), 10(1x), 8(1x), 6(5x), 5(5x), 4(1x), 3(15x), 2(51x), 1(85x) & \\cellcolor{colorGood}  0.52 & \\cellcolor{colorGood} 0.67 & 1 & 13 & \\cellcolor{colorGood} 12 \\\\   \\hline\n",
      "167 & 13(2x), 10(1x), 8(1x), 6(5x), 5(4x), 4(2x), 3(15x), 2(51x), 1(86x) & \\cellcolor{colorGood}  0.51 & \\cellcolor{colorGood} 0.67 & 1 & 13 & \\cellcolor{colorGood} 12 \\\\   \\hline\n",
      "168 & 13(2x), 10(1x), 8(1x), 6(5x), 5(4x), 4(2x), 3(15x), 2(50x), 1(88x) & \\cellcolor{colorGood}  0.51 & \\cellcolor{colorGood} 0.67 & 1 & 13 & \\cellcolor{colorGood} 12 \\\\   \\hline\n",
      "169 & 13(2x), 10(1x), 8(1x), 6(5x), 5(4x), 4(1x), 3(16x), 2(50x), 1(89x) & \\cellcolor{colorGood}  0.51 & \\cellcolor{colorGood} 0.67 & 1 & 13 & \\cellcolor{colorGood} 12 \\\\   \\hline\n",
      "170 & 13(2x), 10(1x), 8(1x), 6(5x), 5(4x), 4(1x), 3(15x), 2(51x), 1(90x) & \\cellcolor{colorGood}  0.51 & \\cellcolor{colorGood} 0.67 & 1 & 13 & \\cellcolor{colorGood} 12 \\\\   \\hline\n",
      "171 & 13(2x), 10(1x), 8(1x), 6(5x), 5(4x), 4(1x), 3(15x), 2(50x), 1(92x) & \\cellcolor{colorGood}  0.5 & \\cellcolor{colorGood} 0.67 & 1 & 13 & \\cellcolor{colorGood} 12 \\\\   \\hline\n",
      "172 & 13(2x), 10(1x), 8(1x), 6(5x), 5(4x), 4(1x), 3(14x), 2(51x), 1(93x) & \\cellcolor{colorGood}  0.51 & \\cellcolor{colorGood} 0.67 & 1 & 13 & \\cellcolor{colorGood} 12 \\\\   \\hline\n",
      "173 & 13(2x), 10(1x), 8(1x), 6(5x), 5(4x), 4(1x), 3(14x), 2(50x), 1(95x) & \\cellcolor{colorGood}  0.51 & \\cellcolor{colorGood} 0.67 & 1 & 13 & \\cellcolor{colorGood} 12 \\\\   \\hline\n",
      "174 & 13(2x), 10(1x), 8(1x), 6(4x), 5(5x), 4(1x), 3(14x), 2(50x), 1(96x) & \\cellcolor{colorGood}  0.5 & \\cellcolor{colorGood} 0.67 & 1 & 13 & \\cellcolor{colorGood} 12 \\\\   \\hline\n",
      "175 & 13(2x), 10(1x), 8(1x), 6(4x), 5(5x), 4(1x), 3(14x), 2(49x), 1(98x) & \\cellcolor{colorGood}  0.5 & \\cellcolor{colorGood} 0.67 & 1 & 13 & \\cellcolor{colorGood} 12 \\\\   \\hline\n",
      "176 & 13(2x), 10(1x), 8(1x), 6(4x), 5(5x), 4(1x), 3(13x), 2(50x), 1(99x) & \\cellcolor{colorGood}  0.5 & \\cellcolor{colorGood} 0.67 & 1 & 13 & \\cellcolor{colorGood} 12 \\\\   \\hline\n",
      "177 & 13(2x), 10(1x), 8(1x), 6(4x), 5(5x), 4(1x), 3(13x), 2(49x), 1(101x) & \\cellcolor{colorGood}  0.5 & \\cellcolor{colorGood} 0.67 & 1 & 13 & \\cellcolor{colorGood} 12 \\\\   \\hline\n",
      "178 & 13(2x), 10(1x), 8(1x), 6(4x), 5(5x), 4(1x), 3(13x), 2(48x), 1(103x) & \\cellcolor{colorGood}  0.5 & \\cellcolor{colorGood} 0.67 & 1 & 13 & \\cellcolor{colorGood} 12 \\\\   \\hline\n",
      "179 & 13(2x), 10(1x), 8(1x), 6(4x), 5(4x), 4(2x), 3(13x), 2(48x), 1(104x) & \\cellcolor{colorGood}  0.49 & \\cellcolor{colorGood} 0.67 & 1 & 13 & \\cellcolor{colorGood} 12 \\\\   \\hline\n",
      "180 & 13(2x), 10(1x), 8(1x), 6(3x), 5(5x), 4(2x), 3(13x), 2(48x), 1(105x) & \\cellcolor{colorGood}  0.49 & \\cellcolor{colorGood} 0.67 & 1 & 13 & \\cellcolor{colorGood} 12 \\\\   \\hline\n",
      "181 & 13(2x), 10(1x), 8(1x), 6(3x), 5(5x), 4(2x), 3(13x), 2(47x), 1(107x) & \\cellcolor{colorGood}  0.49 & \\cellcolor{colorGood} 0.67 & 1 & 13 & \\cellcolor{colorGood} 12 \\\\   \\hline\n",
      "182 & 13(2x), 10(1x), 8(1x), 6(3x), 5(5x), 4(2x), 3(13x), 2(46x), 1(109x) & \\cellcolor{colorGood}  0.49 & \\cellcolor{colorGood} 0.67 & 1 & 13 & \\cellcolor{colorGood} 12 \\\\   \\hline\n",
      "183 & 13(2x), 10(1x), 8(1x), 6(3x), 5(5x), 4(1x), 3(14x), 2(46x), 1(110x) & \\cellcolor{colorGood}  0.48 & \\cellcolor{colorGood} 0.67 & 1 & 13 & \\cellcolor{colorGood} 12 \\\\   \\hline\n",
      "184 & 13(2x), 10(1x), 8(1x), 6(3x), 5(4x), 4(2x), 3(14x), 2(46x), 1(111x) & \\cellcolor{colorGood}  0.48 & \\cellcolor{colorGood} 0.67 & 1 & 13 & \\cellcolor{colorGood} 12 \\\\   \\hline\n",
      "185 & 13(2x), 10(1x), 8(1x), 6(3x), 5(4x), 4(2x), 3(14x), 2(45x), 1(113x) & \\cellcolor{colorGood}  0.48 & \\cellcolor{colorGood} 0.67 & 1 & 13 & \\cellcolor{colorGood} 12 \\\\   \\hline\n",
      "186 & 13(2x), 10(1x), 8(1x), 6(3x), 5(4x), 4(2x), 3(13x), 2(46x), 1(114x) & \\cellcolor{colorGood}  0.48 & \\cellcolor{colorGood} 0.67 & 1 & 13 & \\cellcolor{colorGood} 12 \\\\   \\hline\n",
      "187 & 13(2x), 10(1x), 8(1x), 6(3x), 5(4x), 4(1x), 3(14x), 2(46x), 1(115x) & \\cellcolor{colorGood}  0.47 & \\cellcolor{colorGood} 0.67 & 1 & 13 & \\cellcolor{colorGood} 12 \\\\   \\hline\n",
      "188 & 13(2x), 10(1x), 8(1x), 6(3x), 5(4x), 4(1x), 3(14x), 2(45x), 1(117x) & \\cellcolor{colorGood}  0.47 & \\cellcolor{colorGood} 0.67 & 1 & 13 & \\cellcolor{colorGood} 12 \\\\   \\hline\n",
      "189 & 13(2x), 10(1x), 8(1x), 6(3x), 5(4x), 4(1x), 3(13x), 2(46x), 1(118x) & \\cellcolor{colorGood}  0.47 & \\cellcolor{colorGood} 0.67 & 1 & 13 & \\cellcolor{colorGood} 12 \\\\   \\hline\n",
      "190 & 13(2x), 10(1x), 8(1x), 6(3x), 5(4x), 4(1x), 3(12x), 2(47x), 1(119x) & \\cellcolor{colorGood}  0.47 & \\cellcolor{colorGood} 0.67 & 1 & 13 & \\cellcolor{colorGood} 12 \\\\   \\hline\n",
      "191 & 13(2x), 10(1x), 8(1x), 6(3x), 5(4x), 4(1x), 3(12x), 2(46x), 1(121x) & \\cellcolor{colorGood}  0.47 & \\cellcolor{colorGood} 0.67 & 1 & 13 & \\cellcolor{colorGood} 12 \\\\   \\hline\n",
      "192 & 13(2x), 10(1x), 8(1x), 6(3x), 5(4x), 4(1x), 3(11x), 2(47x), 1(122x) & \\cellcolor{colorGood}  0.46 & \\cellcolor{colorGood} 0.67 & 1 & 13 & \\cellcolor{colorGood} 12 \\\\   \\hline\n",
      "193 & 13(1x), 12(1x), 10(1x), 8(1x), 6(3x), 5(4x), 4(1x), 3(11x), 2(47x), 1(123x) & \\cellcolor{colorGood}  0.46 & \\cellcolor{colorGood} 0.67 & 1 & 13 & \\cellcolor{colorGood} 12 \\\\   \\hline\n",
      "194 & 13(1x), 12(1x), 10(1x), 8(1x), 6(3x), 5(4x), 4(1x), 3(11x), 2(46x), 1(125x) & \\cellcolor{colorGood}  0.46 & \\cellcolor{colorGood} 0.67 & 1 & 13 & \\cellcolor{colorGood} 12 \\\\   \\hline\n",
      "195 & 13(1x), 10(2x), 8(1x), 6(3x), 5(4x), 4(1x), 3(11x), 2(47x), 1(125x) & \\cellcolor{colorGood}  0.46 & \\cellcolor{colorGood} 0.67 & 1 & 13 & \\cellcolor{colorGood} 12 \\\\   \\hline\n",
      "196 & 13(1x), 10(1x), 9(1x), 8(1x), 6(3x), 5(4x), 4(1x), 3(11x), 2(47x), 1(126x) & \\cellcolor{colorGood}  0.45 & \\cellcolor{colorGood} 0.67 & 1 & 13 & \\cellcolor{colorGood} 12 \\\\   \\hline\n",
      "197 & 13(1x), 10(1x), 8(2x), 6(3x), 5(4x), 4(1x), 3(11x), 2(47x), 1(127x) & \\cellcolor{colorGood}  0.45 & \\cellcolor{colorGood} 0.67 & 1 & 13 & \\cellcolor{colorGood} 12 \\\\   \\hline\n",
      "198 & 13(1x), 10(1x), 8(1x), 7(1x), 6(3x), 5(4x), 4(1x), 3(11x), 2(47x), 1(128x) & \\cellcolor{colorGood}  0.45 & \\cellcolor{colorGood} 0.67 & 1 & 13 & \\cellcolor{colorGood} 12 \\\\   \\hline\n",
      "199 & 13(1x), 10(1x), 8(1x), 6(4x), 5(4x), 4(1x), 3(11x), 2(47x), 1(129x) & \\cellcolor{colorGood}  0.45 & \\cellcolor{colorGood} 0.67 & 1 & 13 & \\cellcolor{colorGood} 12 \\\\   \\hline\n",
      "200 & 13(1x), 10(1x), 8(1x), 6(3x), 5(5x), 4(1x), 3(11x), 2(47x), 1(130x) & \\cellcolor{colorGood}  0.44 & \\cellcolor{colorGood} 0.67 & 1 & 13 & \\cellcolor{colorGood} 12 \\\\   \\hline\n",
      "201 & 13(1x), 10(1x), 8(1x), 6(3x), 5(4x), 4(2x), 3(11x), 2(47x), 1(131x) & \\cellcolor{colorGood}  0.44 & \\cellcolor{colorGood} 0.67 & 1 & 13 & \\cellcolor{colorGood} 12 \\\\   \\hline\n",
      "202 & 13(1x), 10(1x), 8(1x), 6(3x), 5(4x), 4(1x), 3(12x), 2(47x), 1(132x) & \\cellcolor{colorGood}  0.44 & \\cellcolor{colorGood} 0.67 & 1 & 13 & \\cellcolor{colorGood} 12 \\\\   \\hline\n",
      "203 & 13(1x), 10(1x), 8(1x), 6(3x), 5(4x), 4(1x), 3(11x), 2(48x), 1(133x) & \\cellcolor{colorGood}  0.44 & \\cellcolor{colorGood} 0.67 & 1 & 13 & \\cellcolor{colorGood} 12 \\\\   \\hline\n",
      "204 & 13(1x), 10(1x), 8(1x), 6(3x), 5(4x), 4(1x), 3(11x), 2(47x), 1(135x) & \\cellcolor{colorGood}  0.44 & \\cellcolor{colorGood} 0.67 & 1 & 13 & \\cellcolor{colorGood} 12 \\\\   \\hline\n",
      "205 & 13(1x), 10(1x), 8(1x), 6(3x), 5(4x), 4(1x), 3(11x), 2(46x), 1(137x) & \\cellcolor{colorGood}  0.43 & \\cellcolor{colorGood} 0.67 & 1 & 13 & \\cellcolor{colorGood} 12 \\\\   \\hline\n",
      "206 & 13(1x), 10(1x), 8(1x), 6(3x), 5(4x), 4(1x), 3(11x), 2(45x), 1(139x) & \\cellcolor{colorGood}  0.43 & \\cellcolor{colorGood} 0.67 & 1 & 13 & \\cellcolor{colorGood} 12 \\\\   \\hline\n",
      "207 & 13(1x), 10(1x), 8(1x), 6(2x), 5(4x), 4(2x), 3(11x), 2(46x), 1(139x) & \\cellcolor{colorGood}  0.44 & \\cellcolor{colorGood} 0.67 & 1 & 13 & \\cellcolor{colorGood} 12 \\\\   \\hline\n",
      "208 & 13(1x), 10(1x), 8(1x), 6(2x), 5(4x), 4(2x), 3(10x), 2(47x), 1(140x) & \\cellcolor{colorGood}  0.43 & \\cellcolor{colorGood} 0.67 & 1 & 13 & \\cellcolor{colorGood} 12 \\\\   \\hline\n",
      "209 & 13(1x), 10(1x), 8(1x), 6(2x), 5(4x), 4(2x), 3(9x), 2(48x), 1(141x) & \\cellcolor{colorGood}  0.43 & \\cellcolor{colorGood} 0.67 & 1 & 13 & \\cellcolor{colorGood} 12 \\\\   \\hline\n",
      "210 & 13(1x), 10(1x), 8(1x), 6(2x), 5(4x), 4(2x), 3(8x), 2(49x), 1(142x) & \\cellcolor{colorGood}  0.43 & \\cellcolor{colorGood} 0.67 & 1 & 13 & \\cellcolor{colorGood} 12 \\\\   \\hline\n",
      "211 & 13(1x), 10(1x), 6(2x), 5(5x), 4(2x), 3(9x), 2(49x), 1(142x) & \\cellcolor{colorGood}  0.44 & \\cellcolor{colorGood} 0.67 & 1 & 13 & \\cellcolor{colorGood} 12 \\\\   \\hline\n",
      "212 & 13(1x), 6(3x), 5(5x), 4(3x), 3(9x), 2(49x), 1(142x) & \\cellcolor{colorGood}  0.45 & \\cellcolor{colorGood} 0.67 & 1 & 13 & \\cellcolor{colorGood} 12 \\\\   \\hline\n",
      "213 & 13(1x), 6(3x), 5(5x), 4(3x), 3(8x), 2(50x), 1(143x) & \\cellcolor{colorGood}  0.45 & \\cellcolor{colorGood} 0.67 & 1 & 13 & \\cellcolor{colorGood} 12 \\\\   \\hline\n",
      "214 & 13(1x), 6(2x), 5(6x), 4(3x), 3(8x), 2(50x), 1(144x) & \\cellcolor{colorGood}  0.45 & \\cellcolor{colorGood} 0.67 & 1 & 13 & \\cellcolor{colorGood} 12 \\\\   \\hline\n",
      "215 & 13(1x), 6(2x), 5(5x), 4(3x), 3(9x), 2(51x), 1(144x) & \\cellcolor{colorGood}  0.46 & \\cellcolor{colorGood} 0.67 & 1 & 13 & \\cellcolor{colorGood} 12 \\\\   \\hline\n",
      "216 & 13(1x), 6(2x), 5(5x), 4(3x), 3(9x), 2(50x), 1(146x) & \\cellcolor{colorGood}  0.47 & \\cellcolor{colorGood} 0.67 & 1 & 13 & \\cellcolor{colorGood} 12 \\\\   \\hline\n",
      "217 & 13(1x), 6(1x), 5(6x), 4(3x), 3(9x), 2(50x), 1(147x) & \\cellcolor{colorGood}  0.47 & \\cellcolor{colorGood} 0.67 & 1 & 13 & \\cellcolor{colorGood} 12 \\\\   \\hline\n",
      "218 & 13(1x), 6(1x), 5(5x), 4(3x), 3(10x), 2(51x), 1(147x) & \\cellcolor{colorGood}  0.48 & \\cellcolor{colorGood} 0.67 & 1 & 13 & \\cellcolor{colorGood} 12 \\\\   \\hline\n",
      "219 & 13(1x), 6(1x), 5(5x), 4(3x), 3(10x), 2(50x), 1(149x) & \\cellcolor{colorGood}  0.49 & \\cellcolor{colorGood} 0.67 & 1 & 13 & \\cellcolor{colorGood} 12 \\\\   \\hline\n",
      "220 & 10(1x), 6(1x), 5(5x), 4(3x), 3(11x), 2(50x), 1(149x) & \\cellcolor{colorGood}  0.48 & \\cellcolor{colorGood} 0.66 & 1 & 10 & \\cellcolor{colorGood} 9 \\\\   \\hline\n",
      "221 & 10(1x), 6(1x), 5(5x), 4(2x), 3(12x), 2(50x), 1(150x) & \\cellcolor{colorGood}  0.48 & \\cellcolor{colorGood} 0.66 & 1 & 10 & \\cellcolor{colorGood} 9 \\\\   \\hline\n",
      "222 & 10(1x), 6(1x), 5(5x), 4(2x), 3(12x), 2(49x), 1(152x) & \\cellcolor{colorGood}  0.49 & \\cellcolor{colorGood} 0.66 & 1 & 10 & \\cellcolor{colorGood} 9 \\\\   \\hline\n",
      "223 & 10(1x), 6(1x), 5(5x), 4(1x), 3(13x), 2(49x), 1(153x) & \\cellcolor{colorGood}  0.49 & \\cellcolor{colorGood} 0.66 & 1 & 10 & \\cellcolor{colorGood} 9 \\\\   \\hline\n",
      "224 & 10(1x), 5(5x), 4(1x), 3(15x), 2(49x), 1(153x) & \\cellcolor{colorGood}  0.5 & \\cellcolor{colorGood} 0.66 & 1 & 10 & \\cellcolor{colorGood} 9 \\\\   \\hline\n",
      "225 & 10(1x), 5(5x), 3(16x), 2(49x), 1(154x) & \\cellcolor{colorGood}  0.5 & \\cellcolor{colorGood} 0.66 & 1 & 10 & \\cellcolor{colorGood} 9 \\\\   \\hline\n",
      "226 & 10(1x), 5(5x), 3(15x), 2(50x), 1(155x) & \\cellcolor{colorGood}  0.51 & \\cellcolor{colorGood} 0.66 & 1 & 10 & \\cellcolor{colorGood} 9 \\\\   \\hline\n",
      "227 & 10(1x), 5(5x), 3(15x), 2(49x), 1(157x) & \\cellcolor{colorGood}  0.51 & \\cellcolor{colorGood} 0.66 & 1 & 10 & \\cellcolor{colorGood} 9 \\\\   \\hline\n",
      "228 & 10(1x), 5(5x), 3(15x), 2(48x), 1(159x) & \\cellcolor{colorGood}  0.52 & \\cellcolor{colorGood} 0.65 & 1 & 10 & \\cellcolor{colorGood} 9 \\\\   \\hline\n",
      "229 & 10(1x), 5(4x), 4(1x), 3(15x), 2(48x), 1(160x) & \\cellcolor{colorGood}  0.52 & \\cellcolor{colorGood} 0.65 & 1 & 10 & \\cellcolor{colorGood} 9 \\\\   \\hline\n",
      "230 & 6(1x), 5(4x), 4(2x), 3(15x), 2(48x), 1(160x) & \\cellcolor{colorGood}  0.52 & \\cellcolor{colorGood} 0.65 & 1 & 6 & \\cellcolor{colorGood} 5 \\\\   \\hline\n",
      "231 & 6(1x), 5(4x), 4(2x), 3(15x), 2(47x), 1(162x) & \\cellcolor{colorGood}  0.52 & \\cellcolor{colorGood} 0.65 & 1 & 6 & \\cellcolor{colorGood} 5 \\\\   \\hline\n",
      "232 & 6(1x), 5(4x), 4(2x), 3(14x), 2(48x), 1(163x) & \\cellcolor{colorGood}  0.52 & \\cellcolor{colorGood} 0.65 & 1 & 6 & \\cellcolor{colorGood} 5 \\\\   \\hline\n",
      "233 & 6(1x), 5(4x), 4(2x), 3(14x), 2(47x), 1(165x) & \\cellcolor{colorGood}  0.52 & \\cellcolor{colorGood} 0.65 & 1 & 6 & \\cellcolor{colorGood} 5 \\\\   \\hline\n",
      "234 & 6(1x), 5(4x), 4(2x), 3(13x), 2(48x), 1(166x) & \\cellcolor{colorGood}  0.52 & \\cellcolor{colorGood} 0.65 & 1 & 6 & \\cellcolor{colorGood} 5 \\\\   \\hline\n",
      "235 & 6(1x), 5(4x), 4(2x), 3(12x), 2(49x), 1(167x) & \\cellcolor{colorGood}  0.52 & \\cellcolor{colorGood} 0.65 & 1 & 6 & \\cellcolor{colorGood} 5 \\\\   \\hline\n",
      "236 & 6(1x), 5(4x), 4(2x), 3(12x), 2(48x), 1(169x) & \\cellcolor{colorGood}  0.51 & \\cellcolor{colorGood} 0.65 & 1 & 6 & \\cellcolor{colorGood} 5 \\\\   \\hline\n",
      "237 & 6(1x), 5(4x), 4(2x), 3(11x), 2(49x), 1(170x) & \\cellcolor{colorGood}  0.52 & \\cellcolor{colorGood} 0.65 & 1 & 6 & \\cellcolor{colorGood} 5 \\\\   \\hline\n",
      "238 & 6(1x), 5(4x), 4(2x), 3(10x), 2(50x), 1(171x) & \\cellcolor{colorGood}  0.53 & \\cellcolor{colorGood} 0.65 & 1 & 6 & \\cellcolor{colorGood} 5 \\\\   \\hline\n",
      "239 & 5(4x), 4(3x), 3(10x), 2(51x), 1(171x) & \\cellcolor{colorOK}  0.55 & \\cellcolor{colorOK} 0.65 & 1 & 5 & \\cellcolor{colorGood} 4 \\\\   \\hline\n",
      "240 & 5(4x), 4(3x), 3(10x), 2(50x), 1(173x) & \\cellcolor{colorOK}  0.55 & \\cellcolor{colorOK} 0.65 & 1 & 5 & \\cellcolor{colorGood} 4 \\\\   \\hline\n",
      "241 & 5(3x), 4(4x), 3(10x), 2(50x), 1(174x) & \\cellcolor{colorOK}  0.55 & \\cellcolor{colorOK} 0.65 & 1 & 5 & \\cellcolor{colorGood} 4 \\\\   \\hline\n",
      "242 & 5(2x), 4(4x), 3(11x), 2(51x), 1(174x) & \\cellcolor{colorOK}  0.56 & \\cellcolor{colorOK} 0.65 & 1 & 5 & \\cellcolor{colorGood} 4 \\\\   \\hline\n",
      "243 & 5(2x), 4(4x), 3(10x), 2(52x), 1(175x) & \\cellcolor{colorOK}  0.57 & \\cellcolor{colorOK} 0.65 & 1 & 5 & \\cellcolor{colorGood} 4 \\\\   \\hline\n",
      "244 & 5(1x), 4(4x), 3(11x), 2(53x), 1(175x) & \\cellcolor{colorOK}  0.57 & \\cellcolor{colorOK} 0.65 & 1 & 5 & \\cellcolor{colorGood} 4 \\\\   \\hline\n",
      "245 & 5(1x), 4(4x), 3(11x), 2(52x), 1(177x) & \\cellcolor{colorOK}  0.57 & \\cellcolor{colorOK} 0.65 & 1 & 5 & \\cellcolor{colorGood} 4 \\\\   \\hline\n",
      "246 & 5(1x), 4(4x), 3(11x), 2(51x), 1(179x) & \\cellcolor{colorOK}  0.57 & \\cellcolor{colorOK} 0.65 & 1 & 5 & \\cellcolor{colorGood} 4 \\\\   \\hline\n",
      "247 & 5(1x), 4(4x), 3(11x), 2(50x), 1(181x) & \\cellcolor{colorOK}  0.57 & \\cellcolor{colorOK} 0.65 & 1 & 5 & \\cellcolor{colorGood} 4 \\\\   \\hline\n",
      "248 & 5(1x), 4(4x), 3(11x), 2(49x), 1(183x) & \\cellcolor{colorOK}  0.57 & \\cellcolor{colorOK} 0.65 & 1 & 5 & \\cellcolor{colorGood} 4 \\\\   \\hline\n",
      "249 & 5(1x), 4(4x), 3(11x), 2(48x), 1(185x) & \\cellcolor{colorOK}  0.57 & \\cellcolor{colorOK} 0.65 & 1 & 5 & \\cellcolor{colorGood} 4 \\\\   \\hline\n",
      "250 & 5(1x), 4(4x), 3(11x), 2(47x), 1(187x) & \\cellcolor{colorOK}  0.57 & \\cellcolor{colorOK} 0.65 & 1 & 5 & \\cellcolor{colorGood} 4 \\\\   \\hline\n",
      "251 & 5(1x), 4(4x), 3(11x), 2(46x), 1(189x) & \\cellcolor{colorOK}  0.56 & \\cellcolor{colorOK} 0.65 & 1 & 5 & \\cellcolor{colorGood} 4 \\\\   \\hline\n",
      "252 & 5(1x), 4(4x), 3(11x), 2(45x), 1(191x) & \\cellcolor{colorOK}  0.57 & \\cellcolor{colorOK} 0.65 & 1 & 5 & \\cellcolor{colorGood} 4 \\\\   \\hline\n",
      "253 & 5(1x), 4(4x), 3(10x), 2(46x), 1(192x) & \\cellcolor{colorOK}  0.57 & \\cellcolor{colorOK} 0.65 & 1 & 5 & \\cellcolor{colorGood} 4 \\\\   \\hline\n",
      "254 & 5(1x), 4(4x), 3(9x), 2(47x), 1(193x) & \\cellcolor{colorOK}  0.57 & \\cellcolor{colorOK} 0.65 & 1 & 5 & \\cellcolor{colorGood} 4 \\\\   \\hline\n",
      "255 & 5(1x), 4(4x), 3(9x), 2(46x), 1(195x) & \\cellcolor{colorOK}  0.57 & \\cellcolor{colorOK} 0.65 & 1 & 5 & \\cellcolor{colorGood} 4 \\\\   \\hline\n",
      "256 & 5(1x), 4(4x), 3(9x), 2(45x), 1(197x) & \\cellcolor{colorOK}  0.58 & \\cellcolor{colorOK} 0.65 & 1 & 5 & \\cellcolor{colorGood} 4 \\\\   \\hline\n",
      "257 & 5(1x), 4(3x), 3(9x), 2(47x), 1(197x) & \\cellcolor{colorOK}  0.62 & \\cellcolor{colorOK} 0.65 & 1 & 5 & \\cellcolor{colorGood} 4 \\\\   \\hline\n",
      "258 & 5(1x), 4(2x), 3(10x), 2(47x), 1(198x) & \\cellcolor{colorOK}  0.63 & \\cellcolor{colorOK} 0.65 & 1 & 5 & \\cellcolor{colorGood} 4 \\\\   \\hline\n",
      "259 & 5(1x), 4(1x), 3(11x), 2(47x), 1(199x) & \\cellcolor{colorOK}  0.63 & \\cellcolor{colorOK} 0.65 & 1 & 5 & \\cellcolor{colorGood} 4 \\\\   \\hline\n",
      "260 & 4(1x), 3(12x), 2(48x), 1(199x) & \\cellcolor{colorOK}  0.63 & \\cellcolor{colorOK} 0.64 & 1 & 4 & \\cellcolor{colorGood} 3 \\\\   \\hline\n",
      "261 & 4(1x), 3(11x), 2(49x), 1(200x) & \\cellcolor{colorOK}  0.63 & \\cellcolor{colorOK} 0.64 & 1 & 4 & \\cellcolor{colorGood} 3 \\\\   \\hline\n",
      "262 & 4(1x), 3(10x), 2(50x), 1(201x) & \\cellcolor{colorBad}  0.65 & \\cellcolor{colorBad} 0.64 & 1 & 4 & \\cellcolor{colorGood} 3 \\\\   \\hline\n",
      "263 & 3(10x), 2(52x), 1(201x) & \\cellcolor{colorBad}  0.67 & \\cellcolor{colorBad} 0.64 & 1 & 3 & \\cellcolor{colorGood} 2 \\\\   \\hline\n",
      "264 & 3(9x), 2(53x), 1(202x) & \\cellcolor{colorBad}  0.68 & \\cellcolor{colorBad} 0.64 & 1 & 3 & \\cellcolor{colorGood} 2 \\\\   \\hline\n",
      "265 & 3(8x), 2(54x), 1(203x) & \\cellcolor{colorBad}  0.68 & \\cellcolor{colorBad} 0.64 & 1 & 3 & \\cellcolor{colorGood} 2 \\\\   \\hline\n",
      "266 & 3(8x), 2(53x), 1(205x) & \\cellcolor{colorBad}  0.68 & \\cellcolor{colorBad} 0.64 & 1 & 3 & \\cellcolor{colorGood} 2 \\\\   \\hline\n",
      "267 & 3(8x), 2(52x), 1(207x) & \\cellcolor{colorBad}  0.68 & \\cellcolor{colorBad} 0.64 & 1 & 3 & \\cellcolor{colorGood} 2 \\\\   \\hline\n",
      "268 & 3(8x), 2(51x), 1(209x) & \\cellcolor{colorBad}  0.69 & \\cellcolor{colorBad} 0.64 & 1 & 3 & \\cellcolor{colorGood} 2 \\\\   \\hline\n",
      "269 & 3(8x), 2(50x), 1(211x) & \\cellcolor{colorBad}  0.69 & \\cellcolor{colorBad} 0.64 & 1 & 3 & \\cellcolor{colorGood} 2 \\\\   \\hline\n",
      "270 & 3(8x), 2(49x), 1(213x) & \\cellcolor{colorBad}  0.69 & \\cellcolor{colorBad} 0.64 & 1 & 3 & \\cellcolor{colorGood} 2 \\\\   \\hline\n",
      "271 & 3(8x), 2(48x), 1(215x) & \\cellcolor{colorBad}  0.69 & \\cellcolor{colorBad} 0.64 & 1 & 3 & \\cellcolor{colorGood} 2 \\\\   \\hline\n",
      "272 & 3(8x), 2(47x), 1(217x) & \\cellcolor{colorBad}  0.69 & \\cellcolor{colorBad} 0.64 & 1 & 3 & \\cellcolor{colorGood} 2 \\\\   \\hline\n",
      "273 & 3(8x), 2(46x), 1(219x) & \\cellcolor{colorBad}  0.69 & \\cellcolor{colorBad} 0.64 & 1 & 3 & \\cellcolor{colorGood} 2 \\\\   \\hline\n",
      "274 & 3(8x), 2(45x), 1(221x) & \\cellcolor{colorBad}  0.68 & \\cellcolor{colorBad} 0.64 & 1 & 3 & \\cellcolor{colorGood} 2 \\\\   \\hline\n",
      "275 & 3(8x), 2(44x), 1(223x) & \\cellcolor{colorBad}  0.69 & \\cellcolor{colorBad} 0.64 & 1 & 3 & \\cellcolor{colorGood} 2 \\\\   \\hline\n",
      "276 & 3(8x), 2(43x), 1(225x) & \\cellcolor{colorBad}  0.69 & \\cellcolor{colorBad} 0.64 & 1 & 3 & \\cellcolor{colorGood} 2 \\\\   \\hline\n",
      "277 & 3(8x), 2(42x), 1(227x) & \\cellcolor{colorBad}  0.69 & \\cellcolor{colorBad} 0.64 & 1 & 3 & \\cellcolor{colorGood} 2 \\\\   \\hline\n",
      "278 & 3(7x), 2(43x), 1(228x) & \\cellcolor{colorBad}  0.68 & \\cellcolor{colorBad} 0.64 & 1 & 3 & \\cellcolor{colorGood} 2 \\\\   \\hline\n",
      "279 & 3(7x), 2(42x), 1(230x) & \\cellcolor{colorBad}  0.68 & \\cellcolor{colorBad} 0.64 & 1 & 3 & \\cellcolor{colorGood} 2 \\\\   \\hline\n",
      "280 & 3(7x), 2(41x), 1(232x) & \\cellcolor{colorBad}  0.69 & \\cellcolor{colorBad} 0.64 & 1 & 3 & \\cellcolor{colorGood} 2 \\\\   \\hline\n",
      "281 & 3(6x), 2(42x), 1(233x) & \\cellcolor{colorBad}  0.69 & \\cellcolor{colorBad} 0.64 & 1 & 3 & \\cellcolor{colorGood} 2 \\\\   \\hline\n",
      "282 & 3(6x), 2(41x), 1(235x) & \\cellcolor{colorBad}  0.7 & \\cellcolor{colorBad} 0.64 & 1 & 3 & \\cellcolor{colorGood} 2 \\\\   \\hline\n",
      "283 & 3(6x), 2(40x), 1(237x) & \\cellcolor{colorBad}  0.7 & \\cellcolor{colorBad} 0.64 & 1 & 3 & \\cellcolor{colorGood} 2 \\\\   \\hline\n",
      "284 & 3(6x), 2(39x), 1(239x) & \\cellcolor{colorBad}  0.7 & \\cellcolor{colorBad} 0.64 & 1 & 3 & \\cellcolor{colorGood} 2 \\\\   \\hline\n",
      "285 & 3(6x), 2(38x), 1(241x) & \\cellcolor{colorBad}  0.7 & \\cellcolor{colorBad} 0.64 & 1 & 3 & \\cellcolor{colorGood} 2 \\\\   \\hline\n",
      "286 & 3(6x), 2(37x), 1(243x) & \\cellcolor{colorBad}  0.7 & \\cellcolor{colorBad} 0.64 & 1 & 3 & \\cellcolor{colorGood} 2 \\\\   \\hline\n",
      "287 & 3(6x), 2(36x), 1(245x) & \\cellcolor{colorBad}  0.7 & \\cellcolor{colorBad} 0.64 & 1 & 3 & \\cellcolor{colorGood} 2 \\\\   \\hline\n",
      "288 & 3(6x), 2(35x), 1(247x) & \\cellcolor{colorBad}  0.7 & \\cellcolor{colorBad} 0.64 & 1 & 3 & \\cellcolor{colorGood} 2 \\\\   \\hline\n",
      "289 & 3(6x), 2(34x), 1(249x) & \\cellcolor{colorBad}  0.71 & \\cellcolor{colorBad} 0.64 & 1 & 3 & \\cellcolor{colorGood} 2 \\\\   \\hline\n",
      "290 & 3(6x), 2(33x), 1(251x) & \\cellcolor{colorBad}  0.71 & \\cellcolor{colorBad} 0.64 & 1 & 3 & \\cellcolor{colorGood} 2 \\\\   \\hline\n",
      "291 & 3(6x), 2(32x), 1(253x) & \\cellcolor{colorBad}  0.71 & \\cellcolor{colorBad} 0.64 & 1 & 3 & \\cellcolor{colorGood} 2 \\\\   \\hline\n",
      "292 & 3(6x), 2(31x), 1(255x) & \\cellcolor{colorBad}  0.71 & \\cellcolor{colorBad} 0.64 & 1 & 3 & \\cellcolor{colorGood} 2 \\\\   \\hline\n",
      "293 & 3(5x), 2(32x), 1(256x) & \\cellcolor{colorBad}  0.71 & \\cellcolor{colorBad} 0.64 & 1 & 3 & \\cellcolor{colorGood} 2 \\\\   \\hline\n",
      "294 & 3(5x), 2(31x), 1(258x) & \\cellcolor{colorBad}  0.72 & \\cellcolor{colorBad} 0.64 & 1 & 3 & \\cellcolor{colorGood} 2 \\\\   \\hline\n",
      "295 & 3(5x), 2(30x), 1(260x) & \\cellcolor{colorBad}  0.72 & \\cellcolor{colorBad} 0.64 & 1 & 3 & \\cellcolor{colorGood} 2 \\\\   \\hline\n",
      "296 & 3(4x), 2(31x), 1(261x) & \\cellcolor{colorBad}  0.73 & \\cellcolor{colorBad} 0.64 & 1 & 3 & \\cellcolor{colorGood} 2 \\\\   \\hline\n",
      "297 & 3(4x), 2(30x), 1(263x) & \\cellcolor{colorBad}  0.74 & \\cellcolor{colorBad} 0.64 & 1 & 3 & \\cellcolor{colorGood} 2 \\\\   \\hline\n",
      "298 & 3(4x), 2(29x), 1(265x) & \\cellcolor{colorBad}  0.75 & \\cellcolor{colorBad} 0.64 & 1 & 3 & \\cellcolor{colorGood} 2 \\\\   \\hline\n",
      "299 & 3(4x), 2(28x), 1(267x) & \\cellcolor{colorBad}  0.75 & \\cellcolor{colorBad} 0.64 & 1 & 3 & \\cellcolor{colorGood} 2 \\\\   \\hline\n",
      "300 & 3(4x), 2(27x), 1(269x) & \\cellcolor{colorBad}  0.75 & \\cellcolor{colorBad} 0.64 & 1 & 3 & \\cellcolor{colorGood} 2 \\\\   \\hline\n",
      "301 & 3(4x), 2(26x), 1(271x) & \\cellcolor{colorBad}  0.75 & \\cellcolor{colorBad} 0.64 & 1 & 3 & \\cellcolor{colorGood} 2 \\\\   \\hline\n",
      "302 & 3(4x), 2(25x), 1(273x) & \\cellcolor{colorBad}  0.76 & \\cellcolor{colorBad} 0.63 & 1 & 3 & \\cellcolor{colorGood} 2 \\\\   \\hline\n",
      "303 & 3(4x), 2(24x), 1(275x) & \\cellcolor{colorBad}  0.75 & \\cellcolor{colorBad} 0.63 & 1 & 3 & \\cellcolor{colorGood} 2 \\\\   \\hline\n",
      "304 & 3(4x), 2(23x), 1(277x) & \\cellcolor{colorBad}  0.76 & \\cellcolor{colorBad} 0.63 & 1 & 3 & \\cellcolor{colorGood} 2 \\\\   \\hline\n",
      "305 & 3(4x), 2(22x), 1(279x) & \\cellcolor{colorBad}  0.76 & \\cellcolor{colorBad} 0.63 & 1 & 3 & \\cellcolor{colorGood} 2 \\\\   \\hline\n",
      "306 & 3(4x), 2(21x), 1(281x) & \\cellcolor{colorBad}  0.76 & \\cellcolor{colorBad} 0.63 & 1 & 3 & \\cellcolor{colorGood} 2 \\\\   \\hline\n",
      "307 & 3(4x), 2(20x), 1(283x) & \\cellcolor{colorBad}  0.76 & \\cellcolor{colorBad} 0.63 & 1 & 3 & \\cellcolor{colorGood} 2 \\\\   \\hline\n",
      "308 & 3(3x), 2(21x), 1(284x) & \\cellcolor{colorBad}  0.76 & \\cellcolor{colorBad} 0.63 & 1 & 3 & \\cellcolor{colorGood} 2 \\\\   \\hline\n",
      "309 & 3(3x), 2(20x), 1(286x) & \\cellcolor{colorBad}  0.77 & \\cellcolor{colorBad} 0.63 & 1 & 3 & \\cellcolor{colorGood} 2 \\\\   \\hline\n",
      "310 & 3(3x), 2(19x), 1(288x) & \\cellcolor{colorBad}  0.77 & \\cellcolor{colorBad} 0.63 & 1 & 3 & \\cellcolor{colorGood} 2 \\\\   \\hline\n",
      "311 & 3(2x), 2(20x), 1(289x) & \\cellcolor{colorBad}  0.77 & \\cellcolor{colorBad} 0.63 & 1 & 3 & \\cellcolor{colorGood} 2 \\\\   \\hline\n",
      "312 & 3(1x), 2(21x), 1(290x) & \\cellcolor{colorBad}  0.77 & \\cellcolor{colorBad} 0.63 & 1 & 3 & \\cellcolor{colorGood} 2 \\\\   \\hline\n",
      "313 & 3(1x), 2(20x), 1(292x) & \\cellcolor{colorBad}  0.78 & \\cellcolor{colorBad} 0.63 & 1 & 3 & \\cellcolor{colorGood} 2 \\\\   \\hline\n",
      "314 & 3(1x), 2(19x), 1(294x) & \\cellcolor{colorBad}  0.78 & \\cellcolor{colorBad} 0.63 & 1 & 3 & \\cellcolor{colorGood} 2 \\\\   \\hline\n",
      "315 & 3(1x), 2(18x), 1(296x) & \\cellcolor{colorBad}  0.79 & \\cellcolor{colorBad} 0.63 & 1 & 3 & \\cellcolor{colorGood} 2 \\\\   \\hline\n",
      "316 & 3(1x), 2(17x), 1(298x) & \\cellcolor{colorBad}  0.79 & \\cellcolor{colorBad} 0.63 & 1 & 3 & \\cellcolor{colorGood} 2 \\\\   \\hline\n",
      "317 & 3(1x), 2(16x), 1(300x) & \\cellcolor{colorBad}  0.79 & \\cellcolor{colorBad} 0.63 & 1 & 3 & \\cellcolor{colorGood} 2 \\\\   \\hline\n",
      "318 & 3(1x), 2(15x), 1(302x) & \\cellcolor{colorBad}  0.8 & \\cellcolor{colorBad} 0.63 & 1 & 3 & \\cellcolor{colorGood} 2 \\\\   \\hline\n",
      "319 & 3(1x), 2(14x), 1(304x) & \\cellcolor{colorBad}  0.8 & \\cellcolor{colorBad} 0.63 & 1 & 3 & \\cellcolor{colorGood} 2 \\\\   \\hline\n",
      "320 & 3(1x), 2(13x), 1(306x) & \\cellcolor{colorBad}  0.81 & \\cellcolor{colorBad} 0.63 & 1 & 3 & \\cellcolor{colorGood} 2 \\\\   \\hline\n",
      "321 & 2(14x), 1(307x) & \\cellcolor{colorBad}  0.82 & \\cellcolor{colorBad} 0.63 & 1 & 2 & \\cellcolor{colorGood} 1 \\\\   \\hline\n",
      "322 & 2(13x), 1(309x) & \\cellcolor{colorBad}  0.82 & \\cellcolor{colorBad} 0.63 & 1 & 2 & \\cellcolor{colorGood} 1 \\\\   \\hline\n",
      "323 & 2(12x), 1(311x) & \\cellcolor{colorBad}  0.82 & \\cellcolor{colorBad} 0.62 & 1 & 2 & \\cellcolor{colorGood} 1 \\\\   \\hline\n",
      "324 & 2(11x), 1(313x) & \\cellcolor{colorBad}  0.83 & \\cellcolor{colorBad} 0.62 & 1 & 2 & \\cellcolor{colorGood} 1 \\\\   \\hline\n",
      "325 & 2(10x), 1(315x) & \\cellcolor{colorBad}  0.83 & \\cellcolor{colorBad} 0.62 & 1 & 2 & \\cellcolor{colorGood} 1 \\\\   \\hline\n",
      "326 & 2(9x), 1(317x) & \\cellcolor{colorBad}  0.81 & \\cellcolor{colorBad} 0.62 & 1 & 2 & \\cellcolor{colorGood} 1 \\\\   \\hline\n",
      "327 & 2(8x), 1(319x) & \\cellcolor{colorBad}  0.81 & \\cellcolor{colorBad} 0.62 & 1 & 2 & \\cellcolor{colorGood} 1 \\\\   \\hline\n",
      "328 & 2(7x), 1(321x) & \\cellcolor{colorBad}  0.82 & \\cellcolor{colorBad} 0.62 & 1 & 2 & \\cellcolor{colorGood} 1 \\\\   \\hline\n",
      "329 & 2(6x), 1(323x) & \\cellcolor{colorBad}  0.82 & \\cellcolor{colorBad} 0.62 & 1 & 2 & \\cellcolor{colorGood} 1 \\\\   \\hline\n",
      "330 & 2(5x), 1(325x) & \\cellcolor{colorBad}  0.82 & \\cellcolor{colorBad} 0.62 & 1 & 2 & \\cellcolor{colorGood} 1 \\\\   \\hline\n",
      "331 & 2(4x), 1(327x) & \\cellcolor{colorBad}  0.82 & \\cellcolor{colorBad} 0.62 & 1 & 2 & \\cellcolor{colorGood} 1 \\\\   \\hline\n",
      "332 & 2(3x), 1(329x) & \\cellcolor{colorBad}  0.83 & \\cellcolor{colorBad} 0.62 & 1 & 2 & \\cellcolor{colorGood} 1 \\\\   \\hline\n",
      "333 & 2(2x), 1(331x) & \\cellcolor{colorBad}  0.84 & \\cellcolor{colorBad} 0.62 & 1 & 2 & \\cellcolor{colorGood} 1 \\\\   \\hline\n",
      "334 & 2(1x), 1(333x) & \\cellcolor{colorBad}  0.83 & \\cellcolor{colorBad} 0.62 & 1 & 2 & \\cellcolor{colorGood} 1 \\\\   \\hline\n",
      "335 & 1(335x) & \\cellcolor{colorBad}  0.83 & \\cellcolor{colorBad} 0.62 & 1 & 1 & \\cellcolor{colorGood} 0 \\\\   \\hline\n"
     ]
    }
   ],
   "source": [
    "toLatexUkuranService(detailStat(qcAverage,zAverage,targetSize=[x for x in range(1,336)]))"
   ]
  },
  {
   "cell_type": "code",
   "execution_count": 123,
   "metadata": {},
   "outputs": [],
   "source": [
    "def detailService(z, size):\n",
    "    ct = cut_tree(z, n_clusters=size)\n",
    "    clusterCT = cutTreeToCluster(ct) \n",
    "    # targetIdx = [0, 1, 2, 3, 4, 5, 6, 7 , 8 , 9, 12, 13 , 16, 19, 21, 31, 55, 56, 57 , 79, 100, 132, 158, 192, 199] \n",
    "    \n",
    "    # print(len(targetIdx))\n",
    "    for i , m  in clusterCT.items():\n",
    "        # if i not in targetIdx:\n",
    "        #     continue\n",
    "        strRaw = ', '.join(m)\n",
    "        cleanStr = strRaw.replace('_', '{\\_}')\n",
    "        cleanStr = cleanStr.replace(\"addons.\", \"\")\n",
    "        print(f\"{1+i} & { cleanStr } \\\\\\\\ \\hline\")"
   ]
  },
  {
   "cell_type": "code",
   "execution_count": 125,
   "metadata": {},
   "outputs": [],
   "source": [
    "# detailService(zAverage,200)"
   ]
  },
  {
   "cell_type": "code",
   "execution_count": 77,
   "metadata": {},
   "outputs": [],
   "source": [
    "def traverseDictionary(data):\n",
    "    if 'outsideCall' in data:\n",
    "        return data\n",
    "    else:\n",
    "        for _ , value in data.items():\n",
    "            if isinstance(value, dict):\n",
    "                return traverseDictionary(value)\n",
    "    return None"
   ]
  },
  {
   "cell_type": "code",
   "execution_count": 78,
   "metadata": {},
   "outputs": [],
   "source": [
    "def getDetailModule(targetModules):\n",
    "    relInfo = odooTree.getRelation(targetModules)\n",
    "    relInfo = traverseDictionary(relInfo)\n",
    "\n",
    "    result = {}\n",
    "    for r in relInfo['relation']:\n",
    "        memoRel = {}\n",
    "        rDetail = odooTree.countCall(f\"{targetModules}.{r}\")\n",
    "        for k, rdV in rDetail.items():\n",
    "            kArrName = k.split(\".\")\n",
    "            newKName = \".\".join(kArrName[1:3])\n",
    "            if newKName not in memoRel:\n",
    "                memoRel[newKName] = 0\n",
    "            #Untuk kasus pemanggilan fungsi di diri sendiri !\n",
    "            if isinstance(rdV, dict):\n",
    "                for k, inCall in rdV.items():\n",
    "                    memoRel[newKName] += inCall        \n",
    "                continue\n",
    "            memoRel[newKName] += rdV\n",
    "        result[r] = memoRel\n",
    "        # print(f\"{r} => \" , memoRel)\n",
    "    return result\n",
    "        "
   ]
  },
  {
   "cell_type": "code",
   "execution_count": 79,
   "metadata": {},
   "outputs": [
    {
     "data": {
      "text/plain": [
       "{'calendar_event': {'mail.models': 3, 'calendar.models': 43, 'base.models': 6},\n",
       " 'calendar_alarm_manager': {'calendar.models': 4},\n",
       " 'res_users': {'base.models': 1, 'calendar.models': 1},\n",
       " 'res_partner': {'base.models': 1, 'calendar.models': 6},\n",
       " 'calendar_recurrence': {'calendar.models': 28, 'base.models': 2},\n",
       " 'calendar_attendee': {'base.models': 6, 'calendar.models': 3},\n",
       " 'calendar_alarm': {'base.models': 2, 'mail.models': 1, 'calendar.models': 0},\n",
       " 'calendar_event_type': {'base.models': 2, 'calendar.models': 0},\n",
       " 'calendar_filter': {'base.models': 4, 'calendar.models': 0},\n",
       " 'ir_http': {'base.models': 1, 'calendar.models': 0},\n",
       " 'mail_activity': {'mail.models': 1, 'calendar.models': 1},\n",
       " 'mail_activity_mixin': {'mail.models': 1, 'calendar.models': 1},\n",
       " 'mail_activity_type': {'mail.models': 1, 'calendar.models': 0}}"
      ]
     },
     "execution_count": 79,
     "metadata": {},
     "output_type": "execute_result"
    }
   ],
   "source": [
    "targetModules = \"addons.calendar.models\"\n",
    "getDetailModule(targetModules)"
   ]
  },
  {
   "cell_type": "code",
   "execution_count": 80,
   "metadata": {},
   "outputs": [],
   "source": [
    "def generateRowModelModule(moduleStr, targetModules):\n",
    "    def dict_to_string(dictionary):\n",
    "        pairs = []\n",
    "        for key, value in dictionary.items():\n",
    "            pairs.append(f\"{key}: {value}\")\n",
    "        return \", \".join(pairs)\n",
    "    result = getDetailModule(targetModules)\n",
    "    iter = 0\n",
    "    moduleStr = moduleStr.replace('_', '{\\_}')\n",
    "    row = \"\\\\multirow{\" + str(len(result)) + \"}{*}{\" + moduleStr + \"}\" \n",
    "    for moduleName, detailModels in result.items():\n",
    "        relStr = dict_to_string(detailModels)\n",
    "        relStr = relStr.replace('_', '{\\_}')\n",
    "        moduleName = moduleName.replace('_', '{\\_}')\n",
    "        if iter == 0:\n",
    "            row += \" &  \"+  moduleName + \" &  \" +  relStr + \" \\\\\\\\\" \n",
    "            iter += 1\n",
    "            continue\n",
    "        row += \" \\\\cline{2-3} \" + \" &  \"+  moduleName + \" &  \" +  relStr \n",
    "        iter += 1\n",
    "        row += \" \\\\\\\\\"\n",
    "    print(row)\n",
    "    print(\"--end\")"
   ]
  },
  {
   "cell_type": "code",
   "execution_count": 81,
   "metadata": {},
   "outputs": [],
   "source": [
    "# moduleName = \"res.users\"\n",
    "# detailModels = [\n",
    "#     {\"user\": \"login : 1, abc : 2\"},\n",
    "#     {\"admin\": \"sistem : 1\"}\n",
    "# ]\n",
    "\n",
    "# latex_row = genLatexRow(moduleName,  detailModels)\n",
    "# print(latex_row)\n"
   ]
  },
  {
   "cell_type": "code",
   "execution_count": 82,
   "metadata": {},
   "outputs": [],
   "source": [
    "# generateRowModelModule(\"product.models\",\"addons.product.models\")"
   ]
  },
  {
   "cell_type": "code",
   "execution_count": 83,
   "metadata": {},
   "outputs": [],
   "source": [
    "# generateRowModelModule(\"point_of_sale.models\",\"addons.point_of_sale.models\")"
   ]
  },
  {
   "cell_type": "code",
   "execution_count": 84,
   "metadata": {},
   "outputs": [],
   "source": [
    "# generateRowModelModule(\"calendar.models\",\"addons.calendar.models\")"
   ]
  },
  {
   "cell_type": "code",
   "execution_count": 122,
   "metadata": {},
   "outputs": [],
   "source": [
    "# targetModules = \"addons.product.models\"\n",
    "# printDetailModule(targetModules)"
   ]
  },
  {
   "attachments": {},
   "cell_type": "markdown",
   "metadata": {},
   "source": []
  }
 ],
 "metadata": {
  "kernelspec": {
   "display_name": "Python 3.10.6 64-bit",
   "language": "python",
   "name": "python3"
  },
  "language_info": {
   "codemirror_mode": {
    "name": "ipython",
    "version": 3
   },
   "file_extension": ".py",
   "mimetype": "text/x-python",
   "name": "python",
   "nbconvert_exporter": "python",
   "pygments_lexer": "ipython3",
   "version": "3.9.7"
  },
  "orig_nbformat": 4,
  "vscode": {
   "interpreter": {
    "hash": "916dbcbb3f70747c44a77c7bcd40155683ae19c65e1c03b4aa3499c5328201f1"
   }
  }
 },
 "nbformat": 4,
 "nbformat_minor": 2
}
