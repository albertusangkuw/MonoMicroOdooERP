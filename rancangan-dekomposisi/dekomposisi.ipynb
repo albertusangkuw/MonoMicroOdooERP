{
 "cells": [
  {
   "cell_type": "markdown",
   "metadata": {},
   "source": [
    "### 👨‍🏭 Albertus Septian Angkuw"
   ]
  },
  {
   "cell_type": "markdown",
   "metadata": {},
   "source": [
    "#### Pembuatan Call Graph"
   ]
  },
  {
   "cell_type": "code",
   "execution_count": 26,
   "metadata": {},
   "outputs": [
    {
     "name": "stdout",
     "output_type": "stream",
     "text": [
      "Defaulting to user installation because normal site-packages is not writeable\n",
      "Requirement already satisfied: pycg in /usr/local/lib/python3.10/dist-packages/pycg-0.0.6-py3.10.egg (0.0.6)\n",
      "Note: you may need to restart the kernel to use updated packages.\n"
     ]
    }
   ],
   "source": [
    "%pip install pycg"
   ]
  },
  {
   "cell_type": "code",
   "execution_count": 27,
   "metadata": {},
   "outputs": [
    {
     "name": "stdout",
     "output_type": "stream",
     "text": [
      "Current Path set: /home/asa/Documents/Skripsi/TA-1119002/rancangan-dekomposisi/odoo16\n"
     ]
    }
   ],
   "source": [
    "# currentPath = input(\"\")\n",
    "currentPath = \"/home/asa/Documents/Skripsi/TA-1119002/rancangan-dekomposisi/odoo16\"\n",
    "print('Current Path set:' ,currentPath)"
   ]
  },
  {
   "cell_type": "code",
   "execution_count": 28,
   "metadata": {},
   "outputs": [],
   "source": [
    "import os\n",
    "def walkTroughFolder(folderSC,filterExt='.py'):\n",
    "    listFile = []\n",
    "    for file in os.listdir(f'{currentPath}/{folderSC}'):\n",
    "        if os.path.isdir(f'{currentPath}/{folderSC}/{file}'):\n",
    "            listFile += walkTroughFolder(f'{folderSC}/{file}')\n",
    "        elif file.endswith(filterExt):\n",
    "            #print(os.path.join(f'/{folderSC}', file))\n",
    "            listFile.append(os.path.join(f'/{folderSC}', file))\n",
    "    return listFile"
   ]
  },
  {
   "cell_type": "code",
   "execution_count": 29,
   "metadata": {},
   "outputs": [],
   "source": [
    "import time\n",
    "def scanPyCG(currentPath,package):\n",
    "    timestamp = int(time.time())\n",
    "    targetFile = f'py_files=$(find {currentPath}/{package} -type f -name \"*.py\")'\n",
    "    execute = f'pycg --package {package} $py_files -o {currentPath}/{package}-{timestamp}.json '\n",
    "    os.system(f'{targetFile} && {execute}')\n",
    "    return f'{currentPath}/{package}-{timestamp}.json'"
   ]
  },
  {
   "cell_type": "code",
   "execution_count": 30,
   "metadata": {},
   "outputs": [
    {
     "name": "stdout",
     "output_type": "stream",
     "text": [
      "Total py Files \"Odoo\": 412 Files \"Addons\": 4853 \n"
     ]
    }
   ],
   "source": [
    "print(f'Total py Files \"Odoo\": {len(walkTroughFolder(\"odoo\"))} Files \"Addons\": {len(walkTroughFolder(\"addons\"))} ')"
   ]
  },
  {
   "cell_type": "code",
   "execution_count": 31,
   "metadata": {},
   "outputs": [],
   "source": [
    "# addonsJSON = scanPyCG(currentPath,f'{folderSC}/addons')\n",
    "# odooJSON = scanPyCG(currentPath,f'{folderSC}/odoo')"
   ]
  },
  {
   "cell_type": "code",
   "execution_count": 32,
   "metadata": {},
   "outputs": [],
   "source": [
    "addonsJSON = f'{currentPath}/odooOnlyAddonsNoPackage.json'\n",
    "odooJSON = f'{currentPath}/odooCoreNoPackage.json'"
   ]
  },
  {
   "cell_type": "markdown",
   "metadata": {},
   "source": [
    "#### Pembacaan Hasil Call Graph JSON"
   ]
  },
  {
   "cell_type": "code",
   "execution_count": 33,
   "metadata": {},
   "outputs": [],
   "source": [
    "import json\n",
    "def loadJSON(path):\n",
    "   return json.load(open(path))"
   ]
  },
  {
   "cell_type": "code",
   "execution_count": 34,
   "metadata": {},
   "outputs": [
    {
     "name": "stdout",
     "output_type": "stream",
     "text": [
      "[[], [], ['odoo.api.depends'], ['odoo.fields.Date.today', 'odoo.models.Model.product_id.with_company', 'odoo.models.Model.browse', '<builtin>.super'], []]\n",
      "[[], [], [], ['odoo.fields.Char'], []]\n"
     ]
    }
   ],
   "source": [
    "cgAddonsSource =loadJSON(addonsJSON)\n",
    "cgOdooSource =loadJSON(odooJSON)\n",
    "print(list(cgAddonsSource.values())[:5])\n",
    "print(list(cgOdooSource.values())[:5])"
   ]
  },
  {
   "cell_type": "code",
   "execution_count": 35,
   "metadata": {},
   "outputs": [
    {
     "name": "stdout",
     "output_type": "stream",
     "text": [
      "5586\n",
      "24931\n"
     ]
    }
   ],
   "source": [
    "print(len(cgOdooSource))\n",
    "print(len(cgAddonsSource))"
   ]
  },
  {
   "cell_type": "code",
   "execution_count": 36,
   "metadata": {},
   "outputs": [],
   "source": [
    "def getListRootPackage(path):\n",
    "    listRootPackage = []\n",
    "    for file in os.listdir(f'{path}'):\n",
    "        if os.path.isdir(f'{path}/{file}'):\n",
    "            listRootPackage.append(file)\n",
    "        elif file.endswith('.py'):\n",
    "            listRootPackage.append('.'.join(file.split(\".\")[:-1]))\n",
    "    return listRootPackage"
   ]
  },
  {
   "cell_type": "code",
   "execution_count": 37,
   "metadata": {},
   "outputs": [],
   "source": [
    "def addPrefixFolder(cg,root,listPackage):\n",
    "    def checkParent(key):\n",
    "        parentkey = key.split('.')[0]\n",
    "        if parentkey in listPackage:\n",
    "            key = f'{root}.{key}'\n",
    "        return key\n",
    "    newCG = {}\n",
    "    for key, relation in cg.items():\n",
    "        key = checkParent(key)\n",
    "        if key not in newCG:\n",
    "            newCG[key] = []\n",
    "        for i in relation:\n",
    "            newRelKey = checkParent(i)\n",
    "            newCG[key].append(newRelKey)\n",
    "    return newCG"
   ]
  },
  {
   "cell_type": "code",
   "execution_count": 38,
   "metadata": {},
   "outputs": [],
   "source": [
    "listPackageOdoo = getListRootPackage(f'{currentPath}/odoo')\n",
    "listPackageAddons = getListRootPackage(f'{currentPath}/addons')"
   ]
  },
  {
   "cell_type": "code",
   "execution_count": 39,
   "metadata": {},
   "outputs": [],
   "source": [
    "cgOdoo = addPrefixFolder(cgOdooSource,\"odoo\",listPackageOdoo)\n",
    "cgAddons = addPrefixFolder(cgAddonsSource,\"addons\",listPackageAddons)"
   ]
  },
  {
   "cell_type": "code",
   "execution_count": 40,
   "metadata": {},
   "outputs": [],
   "source": [
    "cgSource = {}\n",
    "for key, rel in cgOdoo.items():\n",
    "    if key not in cgSource:\n",
    "        cgSource[key] = []\n",
    "    for tmp in rel:\n",
    "        if tmp not in cgSource:\n",
    "            cgSource[tmp] = []\n",
    "    cgSource[key] = cgSource[key] + rel\n",
    "\n",
    "for key, rel in cgAddons.items():\n",
    "    if key not in cgSource:\n",
    "        cgSource[key] = []\n",
    "    for tmp in rel:\n",
    "        if tmp not in cgSource:\n",
    "            cgSource[tmp] = []\n",
    "    cgSource[key] = cgSource[key] + rel"
   ]
  },
  {
   "cell_type": "code",
   "execution_count": 41,
   "metadata": {},
   "outputs": [
    {
     "data": {
      "text/plain": [
       "29821"
      ]
     },
     "execution_count": 41,
     "metadata": {},
     "output_type": "execute_result"
    }
   ],
   "source": [
    "len(cgSource)"
   ]
  },
  {
   "cell_type": "markdown",
   "metadata": {},
   "source": [
    "#### Visualisasi Call Graph"
   ]
  },
  {
   "cell_type": "code",
   "execution_count": 42,
   "metadata": {},
   "outputs": [
    {
     "name": "stdout",
     "output_type": "stream",
     "text": [
      "Defaulting to user installation because normal site-packages is not writeable\n",
      "Requirement already satisfied: pygraphviz in /usr/local/lib/python3.10/dist-packages (1.10)\n",
      "Note: you may need to restart the kernel to use updated packages.\n"
     ]
    }
   ],
   "source": [
    "%pip install pygraphviz"
   ]
  },
  {
   "cell_type": "code",
   "execution_count": 43,
   "metadata": {},
   "outputs": [],
   "source": [
    "import pygraphviz as pgv\n",
    "def cobaDot():\n",
    "    d = {\"1\": {\"2\": 7 }, \"2\": {\"1\": 1, \"3\": 1, \"5\" : 1}}\n",
    "    A = pgv.AGraph(d,strict=False, directed=True)\n",
    "    A.layout(prog=\"dot\")\n",
    "    A.draw(f'{currentPath}/contoh-CG.svg') \n",
    "    print(A)\n",
    "#cobaDot()"
   ]
  },
  {
   "cell_type": "code",
   "execution_count": 46,
   "metadata": {},
   "outputs": [],
   "source": [
    "def buatGraphviz(graph, _strict=False, _directed=True,_prog=\"fdp\",filename=\"GV\"):\n",
    "    A = pgv.AGraph(graph,strict=_strict, directed=_directed)\n",
    "    A.layout(prog=_prog)\n",
    "    A.draw(f'{currentPath}/{filename}.svg') \n",
    "    print(f'Image saved at: {currentPath}/{filename}.svg')"
   ]
  },
  {
   "cell_type": "markdown",
   "metadata": {},
   "source": [
    "#### Call Graph Raw"
   ]
  },
  {
   "cell_type": "code",
   "execution_count": 47,
   "metadata": {},
   "outputs": [],
   "source": [
    "callGraphRaw = {}\n",
    "for key, value in cgSource.items():\n",
    "    callGraphRaw[key] = {}\n",
    "    for v in value:\n",
    "        callGraphRaw[key][v] = 1"
   ]
  },
  {
   "cell_type": "code",
   "execution_count": 48,
   "metadata": {},
   "outputs": [],
   "source": [
    "# buatGraphviz(graph=callGraphRaw,filename=f'{folderSC}-RAW-CG')"
   ]
  },
  {
   "cell_type": "markdown",
   "metadata": {},
   "source": [
    "#### Filter Call diluar Project"
   ]
  },
  {
   "cell_type": "code",
   "execution_count": 49,
   "metadata": {},
   "outputs": [
    {
     "name": "stdout",
     "output_type": "stream",
     "text": [
      "Total Top Node: 17282 \n",
      "Total Edge: 15457 <['odoo.addons.test_inherits_depends.__manifest__', 'odoo.addons.test_inherits_depends.models', 'odoo.fields.Char']>\n",
      "Total OutsideEdge: 157 <['abc', 'cProfile', 'signal']>\n"
     ]
    }
   ],
   "source": [
    "callGraphFiltered = {}\n",
    "listRootFolder = [ 'odoo', 'addons']\n",
    "edgeGraph = []\n",
    "outsideCall = set()\n",
    "for key, value in cgSource.items():\n",
    "    rootSource = key.split('.')[0]\n",
    "    if rootSource not in listRootFolder:\n",
    "        outsideCall.add(rootSource)\n",
    "        continue\n",
    "    childFilter = {}\n",
    "    for v in value:\n",
    "        childSource = v.split('.')[0]\n",
    "        if childSource not in listRootFolder:\n",
    "            outsideCall.add(childSource)\n",
    "            continue\n",
    "        childFilter[v] = 1\n",
    "    if len(childFilter) == 0:\n",
    "        edgeGraph.append(key)\n",
    "        continue\n",
    "    for c in childFilter:\n",
    "        if c not in callGraphFiltered:\n",
    "            callGraphFiltered[c] = {}\n",
    "    callGraphFiltered[key] = childFilter\n",
    "    \n",
    "print(f'Total Top Node: {len(callGraphFiltered)} ')\n",
    "print(f'Total Edge: {len(edgeGraph)} <{edgeGraph[:3]}>')\n",
    "print(f'Total OutsideEdge: {len(outsideCall)} <{list(outsideCall)[:3]}>')"
   ]
  },
  {
   "cell_type": "code",
   "execution_count": 50,
   "metadata": {},
   "outputs": [],
   "source": [
    "# buatGraphviz(callGraphFiltered,filename=f'{folderSC}-CG')"
   ]
  },
  {
   "cell_type": "markdown",
   "metadata": {},
   "source": [
    "#### Extrasi Data"
   ]
  },
  {
   "cell_type": "code",
   "execution_count": 1,
   "metadata": {},
   "outputs": [],
   "source": [
    "import os\n",
    "import importlib.util\n",
    "import inspect"
   ]
  },
  {
   "cell_type": "code",
   "execution_count": 2,
   "metadata": {},
   "outputs": [],
   "source": [
    "def symlink_rel(src, dst):\n",
    "    rel_path_src = os.path.relpath(src, os.path.dirname(dst))\n",
    "    os.symlink(rel_path_src, dst)"
   ]
  },
  {
   "cell_type": "code",
   "execution_count": 3,
   "metadata": {},
   "outputs": [],
   "source": [
    "# Checks if file is a broken link. 0: broken link; 1: valid link; 2: not a link\n",
    "def isvalidlink(path):\n",
    "    if not os.path.islink(path):\n",
    "        return 2\n",
    "    try:\n",
    "        os.stat(path)\n",
    "    except os.error:\n",
    "        return 0\n",
    "    return 1"
   ]
  },
  {
   "cell_type": "code",
   "execution_count": 4,
   "metadata": {},
   "outputs": [],
   "source": [
    "def merge_symlink(target, source):\n",
    "    counter = 0\n",
    "    for file in os.listdir(source):\n",
    "        if os.path.isdir(f'{source}/{file}') :\n",
    "            if os.path.isdir(f'{target}/{file}'):\n",
    "                print(\"Existing Folder in target folder \" , file)\n",
    "                continue\n",
    "            if isvalidlink(f'{target}/{file}') == 1:\n",
    "                os.unlink( f'{target}/{file}')\n",
    "                # print(\"Removed Old Link in target folder \" , file)\n",
    "            symlink_rel(f'{source}/{file}', f'{target}/{file}')\n",
    "            if isvalidlink(f'{target}/{file}') == 0:\n",
    "                print(\"Please Remove broken symlink: {}\".format(file))\n",
    "                return \n",
    "            counter+=1\n",
    "            # print(f'Added Symslink: {source}/{file} -> {target}/{file}')\n",
    "    print(\"Success Added {} symlink\".format(counter))    "
   ]
  },
  {
   "cell_type": "code",
   "execution_count": 5,
   "metadata": {},
   "outputs": [],
   "source": [
    "def unmerge_symlink(target):\n",
    "    # Delete All Links\n",
    "    counter = 0\n",
    "    for file in os.listdir(target):\n",
    "        link = os.path.join(target,file)\n",
    "        if isvalidlink(link) == 1:\n",
    "            os.unlink( f'{target}/{file}')\n",
    "            counter+=1\n",
    "            # print(\"Clean Up  symlink: {}\".format(file))\n",
    "    print(\"Success Clean Up {} symlink\".format(counter))    "
   ]
  },
  {
   "cell_type": "code",
   "execution_count": 6,
   "metadata": {},
   "outputs": [],
   "source": [
    "def pathToModule(files,removeFile=True):\n",
    "    coreModule = []\n",
    "    for x in files:\n",
    "        if x.count('.') > 1:\n",
    "            print(\"Skipped, Path Contain '.' : \" , x)\n",
    "            continue\n",
    "        tmpArr = x[:-3].split(\"/\")[2:]\n",
    "        if removeFile:\n",
    "            tmpArr = tmpArr[:-1]\n",
    "        tmp = '.'.join(tmpArr)\n",
    "        if tmp not in coreModule:\n",
    "            coreModule.append(tmp)\n",
    "    return coreModule"
   ]
  },
  {
   "cell_type": "code",
   "execution_count": 57,
   "metadata": {},
   "outputs": [
    {
     "name": "stdout",
     "output_type": "stream",
     "text": [
      "Skipped, Path Contain '.' :  /addons/web/static/lib/py.js/doc/conf.py\n",
      "Skipped, Path Contain '.' :  /addons/l10n_sg/migrations/9.0.2.0/pre-set_tags_and_taxes_updatable.py\n",
      "Skipped, Path Contain '.' :  /addons/l10n_sg/migrations/2.1/post-migrate_update_tax.py\n",
      "Skipped, Path Contain '.' :  /addons/l10n_de_skr04/migrations/9.0.2.0/pre-set_tags_and_taxes_updatable.py\n",
      "Skipped, Path Contain '.' :  /addons/l10n_de_skr04/migrations/3.1/post-migrate_update_taxes.py\n",
      "Skipped, Path Contain '.' :  /addons/l10n_pl/migrations/9.0.2.0/pre-set_tags_and_taxes_updatable.py\n",
      "Skipped, Path Contain '.' :  /addons/l10n_no/migrations/9.0.2.0/pre-set_tags_and_taxes_updatable.py\n",
      "Skipped, Path Contain '.' :  /addons/l10n_no/migrations/2.1/post-migrate_update_taxes.py\n",
      "Skipped, Path Contain '.' :  /addons/l10n_it/migrations/15.0.0.3/post-migrate.py\n",
      "Skipped, Path Contain '.' :  /addons/l10n_de_skr03/migrations/9.0.2.0/pre-set_tags_and_taxes_updatable.py\n",
      "Skipped, Path Contain '.' :  /addons/l10n_de_skr03/migrations/3.1/post-migrate_update_taxes.py\n",
      "Skipped, Path Contain '.' :  /addons/l10n_nl/migrations/9.0.2.0/pre-set_tags_and_taxes_updatable.py\n",
      "Skipped, Path Contain '.' :  /addons/l10n_in/migrations/9.0.2.0/pre-set_tags_and_taxes_updatable.py\n",
      "Skipped, Path Contain '.' :  /addons/l10n_de/migrations/1.1/post-migrate_update_amls.py\n",
      "Skipped, Path Contain '.' :  /addons/l10n_ch/migrations/0.0.0/pre-migrate-qr-template.py\n",
      "Skipped, Path Contain '.' :  /addons/l10n_ch/migrations/9.0.9.0/pre-set_tags_and_taxes_updatable.py\n",
      "Skipped, Path Contain '.' :  /addons/purchase/migrations/9.0.1.2/pre-create-properties.py\n",
      "Skipped, Path Contain '.' :  /addons/l10n_ec/migrations/3.4/post-migration.py\n",
      "Skipped, Path Contain '.' :  /addons/l10n_vn/migrations/14.0.2.0.1/post-migration.py\n",
      "Skipped, Path Contain '.' :  /addons/l10n_fr/migrations/9.0.1.1/pre-set_tags_and_taxes_updatable.py\n",
      "Skipped, Path Contain '.' :  /addons/l10n_fr/migrations/2.1/post-migrate_update_taxes.py\n",
      "Skipped, Path Contain '.' :  /addons/l10n_lu/migrations/2.1/post-migrate_update_taxes.py\n",
      "Skipped, Path Contain '.' :  /addons/l10n_es/upgrades/15.0.5.0/post-61-tag-split-2021.py\n",
      "Skipped, Path Contain '.' :  /addons/l10n_es/upgrades/5.1/post-migrate_update_taxes.py\n"
     ]
    }
   ],
   "source": [
    "listModule = [ f'{\"odoo.\"}{s}' for s in pathToModule(walkTroughFolder('odoo')) ]\n",
    "listModule += [ f'{\"addons.\"}{s}' for s in pathToModule(walkTroughFolder('addons'))]"
   ]
  },
  {
   "cell_type": "code",
   "execution_count": 15,
   "metadata": {},
   "outputs": [],
   "source": [
    "def scanModule(modulePath):\n",
    "    # modulePath = \"addons.account.models\"\n",
    "    runcommand = importlib.import_module(modulePath)\n",
    "    listClass = {}\n",
    "    for name, obj in inspect.getmembers(runcommand):\n",
    "        if inspect.ismodule(obj):\n",
    "            # print(\"Module:\" ,  name)\n",
    "            member = inspect.getmembers(obj)\n",
    "            tmpClass = {}\n",
    "            for item in member:\n",
    "                if inspect.isclass(item[1]):\n",
    "                    print(item[1])\n",
    "                    if hasattr(item[1], '__class__') and str(item[1].__class__) != \"<class 'odoo.models.MetaModel'>\":\n",
    "                        # print(f'Class \"{item[0]}\" Skipped because not MetaModel')\n",
    "                        continue\n",
    "                    if hasattr(item[1], '_name'):\n",
    "                        tmpClass[item[0]] = { 'name' : item[1]._name}\n",
    "                    if hasattr(item[1], '_inherit'):\n",
    "                        tmpClass[item[0]]['inherit'] = item[1]._inherit                       \n",
    "                    if hasattr(item[1], '_inherits'):\n",
    "                        tmpClass[item[0]]['inherits'] = item[1]._inherits\n",
    "                    classMembers = inspect.getmembers(item[1])\n",
    "                    tmpClass[item[0]]['attribute_rel'] = {}\n",
    "                    for attrClass in classMembers:\n",
    "                        if hasattr(attrClass[1], 'comodel_name'):\n",
    "                            if attrClass[1].comodel_name != None:\n",
    "                                tmpClass[item[0]]['attribute_rel'][attrClass[0]] = attrClass[1].comodel_name \n",
    "            # print(f'Total Model Class: {len(tmpClass)} ')\n",
    "            # print(\"--------------------\")\n",
    "            if len(tmpClass) > 0:\n",
    "                listClass[name] = tmpClass\n",
    "    return listClass\n",
    "        "
   ]
  },
  {
   "cell_type": "code",
   "execution_count": 16,
   "metadata": {},
   "outputs": [
    {
     "name": "stdout",
     "output_type": "stream",
     "text": [
      "<class 'odoo.exceptions.AccessError'>\n",
      "<class 'odoo.api.Cache'>\n",
      "<class 'odoo.exceptions.CacheMiss'>\n",
      "<class 'odoo.api.Environment'>\n",
      "<class 'collections.abc.Mapping'>\n",
      "<class 'odoo.api.Meta'>\n",
      "<class 'odoo.tools.misc.OrderedSet'>\n",
      "<class 'odoo.api.Params'>\n",
      "<class 'odoo.tools.query.Query'>\n",
      "<class 'odoo.modules.registry.Registry'>\n",
      "<class 'odoo.tools.misc.StackMap'>\n",
      "<class 'odoo.api.Starred'>\n",
      "<class 'odoo.api.Transaction'>\n",
      "<class '_weakrefset.WeakSet'>\n",
      "<class 'collections.defaultdict'>\n",
      "<class 'odoo.tools.misc.frozendict'>\n",
      "<class 'odoo.tools.func.lazy_property'>\n",
      "<class 'odoo.exceptions.AccessError'>\n",
      "<class 'odoo.models.BaseModel'>\n",
      "<class 'odoo.fields.Binary'>\n",
      "<class 'odoo.fields.Boolean'>\n",
      "<class 'odoo.exceptions.CacheMiss'>\n",
      "<class 'odoo.fields.Char'>\n",
      "<enum 'Command'>\n",
      "<class 'odoo.fields.Date'>\n",
      "<class 'odoo.fields.Datetime'>\n",
      "<class 'odoo.fields.Field'>\n",
      "<class 'odoo.fields.Float'>\n",
      "<class 'odoo.fields.Html'>\n",
      "<class 'odoo.fields.Id'>\n",
      "<class 'odoo.fields.Image'>\n",
      "<class 'odoo.fields.Integer'>\n",
      "<class 'odoo.fields.Json'>\n",
      "<class 'odoo.fields.Many2many'>\n",
      "<class 'odoo.fields.Many2one'>\n",
      "<class 'odoo.fields.Many2oneReference'>\n",
      "<class 'markupsafe.Markup'>\n",
      "<class 'odoo.fields.MetaField'>\n",
      "<class 'odoo.exceptions.MissingError'>\n",
      "<class 'odoo.fields.Monetary'>\n",
      "<class 'odoo.models.NewId'>\n",
      "<class 'NoneType'>\n",
      "<class 'odoo.fields.One2many'>\n",
      "<class 'odoo.tools.misc.OrderedSet'>\n",
      "<class 'odoo.fields.PrefetchMany2one'>\n",
      "<class 'odoo.fields.PrefetchX2many'>\n",
      "<class 'odoo.fields.Properties'>\n",
      "<class 'odoo.fields.PropertiesDefinition'>\n",
      "<class 'psycopg2._json.Json'>\n",
      "<class 'odoo.fields.Reference'>\n",
      "<class 'odoo.fields.Selection'>\n",
      "<class 'odoo.fields.Text'>\n",
      "<class 'odoo.exceptions.UserError'>\n",
      "<class 'memoryview'>\n",
      "<class 'odoo.fields._Relational'>\n",
      "<class 'odoo.fields._RelationalMulti'>\n",
      "<class 'odoo.fields._String'>\n",
      "<class 'operator.attrgetter'>\n",
      "<class 'datetime.date'>\n",
      "<class 'datetime.datetime'>\n",
      "<class 'collections.defaultdict'>\n",
      "<class 'datetime.time'>\n",
      "<class 'odoo.models.BaseModel'>\n",
      "<class 'odoo.exceptions.AccessError'>\n",
      "<class 'odoo.models.BaseModel'>\n",
      "<enum 'Command'>\n",
      "<class 'odoo.tools.misc.CountingStream'>\n",
      "<class 'odoo.fields.Datetime'>\n",
      "<class 'odoo.fields.Field'>\n",
      "<class 'psycopg2._json.Json'>\n",
      "<class 'odoo.tools.lru.LRU'>\n",
      "<class 'odoo.tools.misc.LastOrderedSet'>\n",
      "<class 'odoo.models.MetaModel'>\n",
      "<class 'odoo.exceptions.MissingError'>\n",
      "<class 'odoo.models.Model'>\n",
      "<class 'collections.abc.MutableMapping'>\n",
      "<class 'odoo.models.NewId'>\n",
      "<class 'collections.OrderedDict'>\n",
      "<class 'odoo.tools.misc.OrderedSet'>\n",
      "<class 'odoo.models.OriginIds'>\n",
      "<class 'odoo.tools.query.Query'>\n",
      "<class 'odoo.models.RecordCache'>\n",
      "<class 'odoo.tools.misc.ReversedIterable'>\n",
      "<class 'odoo.models.TransientModel'>\n",
      "<class 'odoo.exceptions.UserError'>\n",
      "<class 'odoo.exceptions.ValidationError'>\n",
      "<class 'odoo.tools.translate._lt'>\n",
      "<class 'operator.attrgetter'>\n",
      "<class 'contextlib.closing'>\n",
      "<class 'collections.defaultdict'>\n",
      "<class 'odoo.tools.misc.frozendict'>\n",
      "<class 'operator.itemgetter'>\n",
      "<class 'odoo.tools.func.lazy_classproperty'>\n",
      "<class 'odoo.tools.cache.ormcache'>\n"
     ]
    },
    {
     "data": {
      "text/plain": [
       "{'fields': {'BaseModel': {'name': None,\n",
       "   'inherit': (),\n",
       "   'inherits': {},\n",
       "   'attribute_rel': {}}},\n",
       " 'models': {'AbstractModel': {'name': None,\n",
       "   'inherit': (),\n",
       "   'inherits': {},\n",
       "   'attribute_rel': {}},\n",
       "  'BaseModel': {'name': None,\n",
       "   'inherit': (),\n",
       "   'inherits': {},\n",
       "   'attribute_rel': {}},\n",
       "  'Model': {'name': None, 'inherit': (), 'inherits': {}, 'attribute_rel': {}},\n",
       "  'TransientModel': {'name': None,\n",
       "   'inherit': (),\n",
       "   'inherits': {},\n",
       "   'attribute_rel': {}}}}"
      ]
     },
     "execution_count": 16,
     "metadata": {},
     "output_type": "execute_result"
    }
   ],
   "source": [
    "scanModule(\"addons.sample.sample\")"
   ]
  },
  {
   "cell_type": "code",
   "execution_count": 59,
   "metadata": {},
   "outputs": [
    {
     "name": "stdout",
     "output_type": "stream",
     "text": [
      "Existing Folder in target folder  __pycache__\n",
      "Success Added 461 symlink\n",
      "No module named 'odoo.'\n"
     ]
    },
    {
     "name": "stderr",
     "output_type": "stream",
     "text": [
      "sudo: a terminal is required to read the password; either use the -S option to read from standard input or configure an askpass helper\n",
      "Exception in thread Thread-4:\n",
      "Traceback (most recent call last):\n",
      "  File \"/usr/lib/python3.10/threading.py\", line 1016, in _bootstrap_inner\n",
      "sudo: a password is required\n",
      "    self.run()\n",
      "  File \"/home/asa/Documents/Skripsi/TA-1119002/rancangan-dekomposisi/odoo16/odoo/addons/hw_drivers/main.py\", line 80, in run\n",
      "    helpers.start_nginx_server()\n",
      "  File \"/home/asa/Documents/Skripsi/TA-1119002/rancangan-dekomposisi/odoo16/odoo/addons/hw_drivers/tools/helpers.py\", line 71, in start_nginx_server\n",
      "    subprocess.check_call([\"sudo\", \"service\", \"nginx\", \"restart\"])\n",
      "  File \"/usr/lib/python3.10/subprocess.py\", line 369, in check_call\n",
      "    raise CalledProcessError(retcode, cmd)\n",
      "subprocess.CalledProcessError: Command '['sudo', 'service', 'nginx', 'restart']' returned non-zero exit status 1.\n",
      "sudo: a terminal is required to read the password; either use the -S option to read from standard input or configure an askpass helper\n",
      "sudo: a password is required\n"
     ]
    },
    {
     "name": "stdout",
     "output_type": "stream",
     "text": [
      "Success Clean Up 461 symlink\n"
     ]
    }
   ],
   "source": [
    "merge_symlink('odoo/addons','addons')\n",
    "listModuleName = {}\n",
    "moduleNameMapping = {}\n",
    "def searchDependency(module):\n",
    "    res = scanModule(module)\n",
    "    for k , m in res.items():\n",
    "        if len(m) == 0:\n",
    "            continue\n",
    "        for _ , c in m.items():\n",
    "            if c['name'] not in listModuleName:\n",
    "                moduleNameMapping[c['name']] = f'{module}.{k}'\n",
    "                listModuleName[c['name']] = []\n",
    "            if '_inherit' in c and len(c['_inherit']) > 0:\n",
    "                if isinstance(c['_inherit'],list):\n",
    "                    listModuleName[c['name']] += c['_inherit']\n",
    "                elif isinstance(c['_inherit'],str):\n",
    "                    listModuleName[c['name']].append(c['_inherit'])\n",
    "                else:\n",
    "                    print(\"Warn: Data Type Not Found: \" , c['name'] )\n",
    "            if '_inherits' in c and len(c['_inherits']) > 0:\n",
    "                listModuleName[c['name']] += list(c['_inherits'].keys())\n",
    "            if 'attribute_rel' in c and  len(c['attribute_rel'])  > 0:            \n",
    "                listModuleName[c['name']] += list(c['attribute_rel'].values())\n",
    "\n",
    "for m in listModule:\n",
    "    try:\n",
    "        searchDependency(m)\n",
    "    except Exception as e:\n",
    "        print(e)\n",
    "unmerge_symlink('odoo/addons')\n"
   ]
  },
  {
   "cell_type": "code",
   "execution_count": 60,
   "metadata": {},
   "outputs": [
    {
     "name": "stdout",
     "output_type": "stream",
     "text": [
      "Path Call not Found  export.one2many\n"
     ]
    }
   ],
   "source": [
    "for r in listModuleName:\n",
    "    if r not in moduleNameMapping:\n",
    "        print(\"Path not Found \" , r)\n",
    "        continue\n",
    "    if r not in callGraphFiltered:\n",
    "        callGraphFiltered[moduleNameMapping[r]] = {}\n",
    "    for c in listModuleName[r]:\n",
    "        if c not in moduleNameMapping:\n",
    "            print(\"Path Call not Found \" , c)\n",
    "            continue\n",
    "        tmpC = moduleNameMapping[c]\n",
    "        if tmpC not in callGraphFiltered[moduleNameMapping[r]]:\n",
    "            callGraphFiltered[moduleNameMapping[r]][tmpC] = 0\n",
    "        callGraphFiltered[moduleNameMapping[r]][tmpC] += 1"
   ]
  },
  {
   "cell_type": "code",
   "execution_count": 61,
   "metadata": {},
   "outputs": [
    {
     "data": {
      "text/plain": [
       "{'odoo.api.constrains': 1,\n",
       " 'odoo.fields.Many2many': 1,\n",
       " 'odoo.fields.One2many': 1,\n",
       " 'odoo.fields.Datetime': 1,\n",
       " 'odoo.api.model_create_multi': 1,\n",
       " 'odoo.tools.ormcache': 1,\n",
       " 'odoo.api.model': 1,\n",
       " 'odoo.addons.base.models.res_users.check_identity': 1,\n",
       " 'odoo.fields.Html': 1,\n",
       " 'odoo.api.onchange': 1,\n",
       " 'odoo.api.ondelete': 1,\n",
       " 'odoo.fields.Integer': 1,\n",
       " 'odoo.fields.Char': 1,\n",
       " 'odoo.api.depends': 1,\n",
       " 'odoo.fields.Many2one': 1,\n",
       " 'odoo.fields.Boolean': 1}"
      ]
     },
     "execution_count": 61,
     "metadata": {},
     "output_type": "execute_result"
    }
   ],
   "source": [
    "callGraphFiltered['odoo.addons.base.models.res_users.Users']"
   ]
  },
  {
   "cell_type": "markdown",
   "metadata": {},
   "source": [
    "Bug Note:\n",
    "- Ada beberapa object tidak punya name\n",
    "- Inheritance tidak terconnect dengan child tapi dengan parent\n"
   ]
  },
  {
   "cell_type": "code",
   "execution_count": 63,
   "metadata": {},
   "outputs": [
    {
     "data": {
      "text/plain": [
       "'addons.note.models.mail_activity'"
      ]
     },
     "execution_count": 63,
     "metadata": {},
     "output_type": "execute_result"
    }
   ],
   "source": [
    "moduleNameMapping['mail.activity']"
   ]
  },
  {
   "cell_type": "markdown",
   "metadata": {},
   "source": [
    "#### Pemberian Weight pada Graph"
   ]
  },
  {
   "cell_type": "code",
   "execution_count": 64,
   "metadata": {},
   "outputs": [
    {
     "name": "stdout",
     "output_type": "stream",
     "text": [
      "Skipped, Path Contain '.' :  /addons/web/static/lib/py.js/doc/conf.py\n",
      "Skipped, Path Contain '.' :  /addons/l10n_sg/migrations/9.0.2.0/pre-set_tags_and_taxes_updatable.py\n",
      "Skipped, Path Contain '.' :  /addons/l10n_sg/migrations/2.1/post-migrate_update_tax.py\n",
      "Skipped, Path Contain '.' :  /addons/l10n_de_skr04/migrations/9.0.2.0/pre-set_tags_and_taxes_updatable.py\n",
      "Skipped, Path Contain '.' :  /addons/l10n_de_skr04/migrations/3.1/post-migrate_update_taxes.py\n",
      "Skipped, Path Contain '.' :  /addons/l10n_pl/migrations/9.0.2.0/pre-set_tags_and_taxes_updatable.py\n",
      "Skipped, Path Contain '.' :  /addons/l10n_no/migrations/9.0.2.0/pre-set_tags_and_taxes_updatable.py\n",
      "Skipped, Path Contain '.' :  /addons/l10n_no/migrations/2.1/post-migrate_update_taxes.py\n",
      "Skipped, Path Contain '.' :  /addons/l10n_it/migrations/15.0.0.3/post-migrate.py\n",
      "Skipped, Path Contain '.' :  /addons/l10n_de_skr03/migrations/9.0.2.0/pre-set_tags_and_taxes_updatable.py\n",
      "Skipped, Path Contain '.' :  /addons/l10n_de_skr03/migrations/3.1/post-migrate_update_taxes.py\n",
      "Skipped, Path Contain '.' :  /addons/l10n_nl/migrations/9.0.2.0/pre-set_tags_and_taxes_updatable.py\n",
      "Skipped, Path Contain '.' :  /addons/l10n_in/migrations/9.0.2.0/pre-set_tags_and_taxes_updatable.py\n",
      "Skipped, Path Contain '.' :  /addons/l10n_de/migrations/1.1/post-migrate_update_amls.py\n",
      "Skipped, Path Contain '.' :  /addons/l10n_ch/migrations/0.0.0/pre-migrate-qr-template.py\n",
      "Skipped, Path Contain '.' :  /addons/l10n_ch/migrations/9.0.9.0/pre-set_tags_and_taxes_updatable.py\n",
      "Skipped, Path Contain '.' :  /addons/purchase/migrations/9.0.1.2/pre-create-properties.py\n",
      "Skipped, Path Contain '.' :  /addons/l10n_ec/migrations/3.4/post-migration.py\n",
      "Skipped, Path Contain '.' :  /addons/l10n_vn/migrations/14.0.2.0.1/post-migration.py\n",
      "Skipped, Path Contain '.' :  /addons/l10n_fr/migrations/9.0.1.1/pre-set_tags_and_taxes_updatable.py\n",
      "Skipped, Path Contain '.' :  /addons/l10n_fr/migrations/2.1/post-migrate_update_taxes.py\n",
      "Skipped, Path Contain '.' :  /addons/l10n_lu/migrations/2.1/post-migrate_update_taxes.py\n",
      "Skipped, Path Contain '.' :  /addons/l10n_es/upgrades/15.0.5.0/post-61-tag-split-2021.py\n",
      "Skipped, Path Contain '.' :  /addons/l10n_es/upgrades/5.1/post-migrate_update_taxes.py\n"
     ]
    }
   ],
   "source": [
    "# Disjoint-set data structure\n",
    "listModuleF = [ f'{\"odoo.\"}{s}' for s in pathToModule(walkTroughFolder('odoo'),removeFile=False) ]\n",
    "listModuleF += [ f'{\"addons.\"}{s}' for s in pathToModule(walkTroughFolder('addons'))]"
   ]
  },
  {
   "cell_type": "code",
   "execution_count": 65,
   "metadata": {},
   "outputs": [],
   "source": [
    "callGraphWeight = {}\n",
    "for m in listModuleF:\n",
    "    arrM = m.split(\".\")\n",
    "    if arrM[0] == \"addons\" and f'{arrM[0]}.{arrM[1]}' not in callGraphWeight:\n",
    "        callGraphWeight[f'{arrM[0]}.{arrM[1]}'] = {}\n",
    "    elif arrM[0] == \"odoo\" and m not in callGraphWeight:\n",
    "        callGraphWeight[m] = {}"
   ]
  },
  {
   "cell_type": "code",
   "execution_count": 67,
   "metadata": {},
   "outputs": [
    {
     "data": {
      "text/plain": [
       "873"
      ]
     },
     "execution_count": 67,
     "metadata": {},
     "output_type": "execute_result"
    }
   ],
   "source": [
    "len(callGraphWeight)"
   ]
  },
  {
   "cell_type": "code",
   "execution_count": 68,
   "metadata": {},
   "outputs": [],
   "source": [
    "def searchParentCall(arrStr):\n",
    "    tmp = \"\"\n",
    "    all = arrStr.copy()\n",
    "    #Edge Case 1\n",
    "    if len(arrStr) > 1 and  f'{arrStr[0]}.{arrStr[1]}' == 'odoo.Command':\n",
    "        arrStr[1] = 'cli'\n",
    "        arrStr.insert(2, 'command')\n",
    "\n",
    "    while(len(arrStr) > 0):\n",
    "        arrStr.pop()\n",
    "        parent = \".\".join(arrStr)\n",
    "        if parent in callGraphWeight:\n",
    "            return parent\n",
    "    \n",
    "    #Edge Case 2\n",
    "    arrStr = all\n",
    "    while(len(arrStr) > 0):\n",
    "        arrStr.pop()\n",
    "        parent = f'{\".\".join(arrStr)}.__init__'\n",
    "        if parent in callGraphWeight:\n",
    "            return parent\n",
    "    # 'odoo', 'addons', 'test_main_flows', '_auto_install_enterprise_dependencies']    \n",
    "    print(\"Parent Not Found : \" , all )\n",
    "    return tmp"
   ]
  },
  {
   "cell_type": "code",
   "execution_count": 70,
   "metadata": {},
   "outputs": [],
   "source": [
    "for c,r in callGraphFiltered.items():\n",
    "    arrC = c.split(\".\")\n",
    "    newC = c\n",
    "    # Odoo Addons => Modules\n",
    "    if arrC[0] == \"addons\" :\n",
    "        newC =  f'{arrC[0]}.{arrC[1]}'\n",
    "    # Odoo Core => File\n",
    "    elif arrC[0] == \"odoo\" and c not in callGraphWeight:\n",
    "        newC = searchParentCall(arrC)\n",
    "    for rc , v in r.items():\n",
    "        newRC = rc\n",
    "        if rc not in callGraphWeight:\n",
    "           newRC = searchParentCall(rc.split(\".\"))\n",
    "        if newRC not in callGraphWeight[newC]:\n",
    "           callGraphWeight[newC][newRC] = 0\n",
    "        callGraphWeight[newC][newRC] += v"
   ]
  },
  {
   "cell_type": "code",
   "execution_count": 71,
   "metadata": {},
   "outputs": [],
   "source": [
    "weightedGraph = callGraphFiltered"
   ]
  },
  {
   "cell_type": "code",
   "execution_count": 72,
   "metadata": {},
   "outputs": [
    {
     "name": "stdout",
     "output_type": "stream",
     "text": [
      "Image saved at: /home/asa/Documents/Skripsi/TA-1119002/rancangan-dekomposisi/odoo16/Odoo-Summary-CG.svg\n"
     ]
    }
   ],
   "source": [
    "buatGraphviz(callGraphWeight,filename=f'Odoo-Summary-CG')"
   ]
  },
  {
   "cell_type": "markdown",
   "metadata": {},
   "source": [
    "#### Representasi Call Graph menjadi Adjacency Matrix"
   ]
  },
  {
   "cell_type": "code",
   "execution_count": 113,
   "metadata": {},
   "outputs": [
    {
     "name": "stdout",
     "output_type": "stream",
     "text": [
      "Defaulting to user installation because normal site-packages is not writeable\n",
      "Requirement already satisfied: numpy in /home/asa/.local/lib/python3.10/site-packages (1.24.2)\n",
      "Note: you may need to restart the kernel to use updated packages.\n"
     ]
    }
   ],
   "source": [
    "%pip install numpy"
   ]
  },
  {
   "cell_type": "code",
   "execution_count": 114,
   "metadata": {},
   "outputs": [],
   "source": [
    "import numpy as np\n",
    "def createAdjacentMatrix(graphSource):\n",
    "    listLabel = {}\n",
    "    counterListLabel = 0\n",
    "    for label in graphSource.keys():\n",
    "        listLabel[label] = counterListLabel\n",
    "        counterListLabel+=1\n",
    "    adjMatrix = np.zeros(shape=(len(listLabel), len(listLabel)))\n",
    "\n",
    "    currRow = 0\n",
    "    tmpNotDetected = 0\n",
    "    for x, connection in graphSource.items():\n",
    "        for name, weight in connection.items():\n",
    "            if name not in listLabel:\n",
    "                tmpNotDetected += 1\n",
    "                continue\n",
    "            adjMatrix[currRow,listLabel[name]] = weight\n",
    "        currRow+=1 \n",
    "    print(\"Not Detected: \" , tmpNotDetected)\n",
    "    return adjMatrix, listLabel"
   ]
  },
  {
   "cell_type": "code",
   "execution_count": 115,
   "metadata": {},
   "outputs": [
    {
     "name": "stdout",
     "output_type": "stream",
     "text": [
      "Not Detected:  0\n",
      "Size Label:  873\n"
     ]
    }
   ],
   "source": [
    "adjMatrix, listLabel = createAdjacentMatrix(callGraphWeight)\n",
    "print(\"Size Label: \" ,len(listLabel))\n",
    "# np.savetxt(f'{folderSC}-AdjMatrix.csv', adjMatrix, delimiter=\",\")"
   ]
  },
  {
   "cell_type": "code",
   "execution_count": 116,
   "metadata": {},
   "outputs": [],
   "source": [
    "# Todo: Remove Not Connected File/Module"
   ]
  },
  {
   "cell_type": "markdown",
   "metadata": {},
   "source": [
    "#### Distance Matrix"
   ]
  },
  {
   "cell_type": "code",
   "execution_count": 117,
   "metadata": {},
   "outputs": [
    {
     "name": "stdout",
     "output_type": "stream",
     "text": [
      "Defaulting to user installation because normal site-packages is not writeable\n",
      "Requirement already satisfied: scipy in /home/asa/.local/lib/python3.10/site-packages (1.10.1)\n",
      "Requirement already satisfied: numpy<1.27.0,>=1.19.5 in /home/asa/.local/lib/python3.10/site-packages (from scipy) (1.24.2)\n",
      "Note: you may need to restart the kernel to use updated packages.\n",
      "Defaulting to user installation because normal site-packages is not writeable\n",
      "Requirement already satisfied: matplotlib in /home/asa/.local/lib/python3.10/site-packages (3.7.0)\n",
      "Requirement already satisfied: fonttools>=4.22.0 in /home/asa/.local/lib/python3.10/site-packages (from matplotlib) (4.38.0)\n",
      "Requirement already satisfied: kiwisolver>=1.0.1 in /home/asa/.local/lib/python3.10/site-packages (from matplotlib) (1.4.4)\n",
      "Requirement already satisfied: pyparsing>=2.3.1 in /usr/lib/python3/dist-packages (from matplotlib) (2.4.7)\n",
      "Requirement already satisfied: contourpy>=1.0.1 in /home/asa/.local/lib/python3.10/site-packages (from matplotlib) (1.0.7)\n",
      "Requirement already satisfied: pillow>=6.2.0 in /home/asa/.local/lib/python3.10/site-packages (from matplotlib) (9.0.1)\n",
      "Requirement already satisfied: cycler>=0.10 in /home/asa/.local/lib/python3.10/site-packages (from matplotlib) (0.11.0)\n",
      "Requirement already satisfied: python-dateutil>=2.7 in /home/asa/.local/lib/python3.10/site-packages (from matplotlib) (2.8.2)\n",
      "Requirement already satisfied: packaging>=20.0 in /home/asa/.local/lib/python3.10/site-packages (from matplotlib) (23.0)\n",
      "Requirement already satisfied: numpy>=1.20 in /home/asa/.local/lib/python3.10/site-packages (from matplotlib) (1.24.2)\n",
      "Requirement already satisfied: six>=1.5 in /usr/lib/python3/dist-packages (from python-dateutil>=2.7->matplotlib) (1.16.0)\n",
      "Note: you may need to restart the kernel to use updated packages.\n"
     ]
    }
   ],
   "source": [
    "%pip install scipy\n",
    "%pip install matplotlib"
   ]
  },
  {
   "cell_type": "code",
   "execution_count": 78,
   "metadata": {},
   "outputs": [],
   "source": [
    "import matplotlib.pyplot as plt\n",
    "from scipy.spatial import distance\n",
    "import numpy as np"
   ]
  },
  {
   "cell_type": "code",
   "execution_count": 79,
   "metadata": {},
   "outputs": [],
   "source": [
    "adjMatrix =[ \n",
    "[0,\t1,\t1,\t0,\t0,\t0,\t0],\n",
    "[0,\t0,\t0,\t1,\t0,\t0,\t0],\n",
    "[0,\t0,\t0,\t0,\t0,\t0,\t0],\n",
    "[0,\t0,\t0,\t0,\t0,\t0,\t0],\n",
    "[0,\t0,\t0,\t0,\t0,\t0,\t0],\n",
    "[0,\t0,\t0,\t0,\t1,\t0,\t1],\n",
    "[0,\t0,\t0,\t0,\t0,\t0,\t0]]\n",
    "listLabel = ['A','B','C','D', 'E', 'F', 'G']"
   ]
  },
  {
   "cell_type": "code",
   "execution_count": 80,
   "metadata": {},
   "outputs": [],
   "source": [
    "def simStr(ci, cj, i, j, callsinCi , callsinCj):\n",
    "    res = 0\n",
    "    if callsinCi > 0 and callsinCj > 0:\n",
    "        res = 0.5 * ( ci[j]/callsinCj +  cj[i]/callsinCi )\n",
    "    elif callsinCi == 0 and callsinCj > 0:\n",
    "        res = ci[j]/callsinCj\n",
    "    elif callsinCi > 0 and callsinCj == 0:\n",
    "        res = cj[i]/callsinCi\n",
    "    # print(ci , cj ,  i , j)\n",
    "    # print(callsinCi, callsinCj , ci[j] , cj[i])        \n",
    "    # print(res)\n",
    "    # print(\"------------------\")    \n",
    "    return res\n"
   ]
  },
  {
   "cell_type": "code",
   "execution_count": 81,
   "metadata": {},
   "outputs": [],
   "source": [
    "# Source : https://gist.github.com/JDWarner/6730886\n",
    "def simJaccard(im1, im2):\n",
    "    im1 = np.asarray(im1,bool)\n",
    "    im2 = np.asarray(im2,bool)\n",
    "\n",
    "    if im1.shape != im2.shape:\n",
    "        raise ValueError(\"Shape mismatch: im1 and im2 must have the same shape.\")\n",
    "\n",
    "    intersection = np.logical_and(im1, im2)\n",
    "    union = np.logical_or(im1, im2)\n",
    "    return  (intersection.sum() / float(union.sum()))"
   ]
  },
  {
   "cell_type": "code",
   "execution_count": 82,
   "metadata": {},
   "outputs": [],
   "source": [
    "data = np.array(adjMatrix)"
   ]
  },
  {
   "cell_type": "code",
   "execution_count": 83,
   "metadata": {},
   "outputs": [
    {
     "name": "stderr",
     "output_type": "stream",
     "text": [
      "/tmp/ipykernel_5636/4216482075.py:2: RuntimeWarning: invalid value encountered in divide\n",
      "  data = data / data.max(axis=0)\n"
     ]
    }
   ],
   "source": [
    "#Normalisasi Data\n",
    "data = data / data.max(axis=0)"
   ]
  },
  {
   "cell_type": "code",
   "execution_count": 84,
   "metadata": {},
   "outputs": [],
   "source": [
    "\n",
    "distanceMatrix = [[0.00 for i in range(data.shape[1])] for j in range(data.shape[0])]\n",
    "\n",
    "np.fill_diagonal(data,1) \n",
    "for i in range(0,len(data)):\n",
    "    for j in range(0,i):\n",
    "        distanceStructual = round(1- simStr(data[i, :], data[j, :], i, j,sum(data[:, i]), sum(data[:, j])),2)\n",
    "        distanceJaccard = round(1- simJaccard(data[i, :] , data[j,:]),2)\n",
    "        distanceHamming = round(distance.hamming(data[i, :] , data[j,:]),2)\n",
    "        distanceMatrix[i][j] = (distanceStructual + distanceJaccard + distanceHamming) / 3\n",
    "        # distanceMatrix[i][j] = distanceStructual\n",
    "        distanceMatrix[j][i] = distanceMatrix[i][j]\n",
    "        # print(listLabel[i] , ' <-> ' , listLabel[j] , \" : \" , distanceStructual , distanceJaccard  , distanceHamming )"
   ]
  },
  {
   "cell_type": "code",
   "execution_count": 85,
   "metadata": {},
   "outputs": [
    {
     "data": {
      "image/png": "[encoded data removed]",
      "text/plain": [
       "<Figure size 640x480 with 1 Axes>"
      ]
     },
     "metadata": {},
     "output_type": "display_data"
    }
   ],
   "source": [
    "# Source: https://matplotlib.org/stable/gallery/images_contours_and_fields/image_annotated_heatmap.html\n",
    "\n",
    "fig, ax = plt.subplots()\n",
    "im = ax.imshow(distanceMatrix)\n",
    "\n",
    "# Show all ticks and label them with the respective list entries\n",
    "# ax.set_xticks(np.arange(len(list(listLabel))), labels=list(listLabel))\n",
    "# ax.set_yticks(np.arange(len(list(listLabel))), labels=list(listLabel))\n",
    "\n",
    "# Rotate the tick labels and set their alignment.\n",
    "plt.setp(ax.get_xticklabels(), rotation=45, ha=\"right\",\n",
    "         rotation_mode=\"anchor\")\n",
    "\n",
    "\n",
    "ax.set_title(\"Heatmap Relation Between Files .py\")\n",
    "\n",
    "# plt.figure(figsize=(20,6))\n",
    "plt.show()"
   ]
  },
  {
   "cell_type": "markdown",
   "metadata": {},
   "source": [
    "#### Clustering"
   ]
  },
  {
   "cell_type": "code",
   "execution_count": 86,
   "metadata": {},
   "outputs": [],
   "source": [
    "import scipy.cluster.hierarchy as sch\n",
    "from scipy.cluster.hierarchy import ward, median, centroid, weighted, average, complete, single, fcluster,linkage"
   ]
  },
  {
   "cell_type": "code",
   "execution_count": 87,
   "metadata": {},
   "outputs": [
    {
     "name": "stderr",
     "output_type": "stream",
     "text": [
      "/tmp/ipykernel_5636/3067466627.py:1: ClusterWarning: scipy.cluster: The symmetric non-negative hollow observation matrix looks suspiciously like an uncondensed distance matrix\n",
      "  tmpz = linkage(distanceMatrix)\n"
     ]
    }
   ],
   "source": [
    "tmpz = linkage(distanceMatrix)"
   ]
  },
  {
   "cell_type": "code",
   "execution_count": 88,
   "metadata": {},
   "outputs": [
    {
     "data": {
      "image/png": "[encoded data removed]",
      "text/plain": [
       "<Figure size 2000x600 with 1 Axes>"
      ]
     },
     "metadata": {},
     "output_type": "display_data"
    }
   ],
   "source": [
    "# import sys\n",
    "# sys.setrecursionlimit(100000)\n",
    "plt.figure(figsize=(20,6))\n",
    "dend = sch.dendrogram(tmpz,labels=['A','B','C','D', 'E', 'F', 'G'])\n",
    "plt.title('Dendrogram')\n",
    "plt.xlabel('Class Sample')\n",
    "plt.ylabel('Distances')\n",
    "plt.show()"
   ]
  },
  {
   "cell_type": "code",
   "execution_count": 89,
   "metadata": {},
   "outputs": [
    {
     "data": {
      "text/plain": [
       "0.8667971423461205"
      ]
     },
     "execution_count": 89,
     "metadata": {},
     "output_type": "execute_result"
    }
   ],
   "source": [
    "\n",
    "from scipy.cluster.hierarchy import cophenet\n",
    "from scipy.spatial.distance import pdist\n",
    "\n",
    "c, coph_dists = cophenet(tmpz, pdist(distanceMatrix))\n",
    "c"
   ]
  },
  {
   "cell_type": "markdown",
   "metadata": {},
   "source": [
    "##### Pemilihan Cluster "
   ]
  },
  {
   "cell_type": "markdown",
   "metadata": {},
   "source": [
    "Each row of the resulting array (Z) has the format [idx1, idx2, dist, sample_count]."
   ]
  },
  {
   "cell_type": "code",
   "execution_count": 91,
   "metadata": {},
   "outputs": [
    {
     "name": "stdout",
     "output_type": "stream",
     "text": [
      "[1.         3.         0.70131622 2.        ]\n",
      "[0.         2.         0.81524366 2.        ]\n",
      "[4.         5.         0.81710192 2.        ]\n",
      "[6.         9.         0.81710192 3.        ]\n",
      "[7.        8.        0.9962764 4.       ]\n",
      "[10.   11.    1.02  7.  ]\n"
     ]
    }
   ],
   "source": [
    "for x in tmpz:\n",
    "    print(x)"
   ]
  },
  {
   "cell_type": "code",
   "execution_count": 100,
   "metadata": {},
   "outputs": [
    {
     "data": {
      "text/plain": [
       "array([[0],\n",
       "       [1],\n",
       "       [0],\n",
       "       [1],\n",
       "       [2],\n",
       "       [3],\n",
       "       [4]])"
      ]
     },
     "execution_count": 100,
     "metadata": {},
     "output_type": "execute_result"
    }
   ],
   "source": [
    "from scipy import cluster\n",
    "cutree = cluster.hierarchy.cut_tree(tmpz, n_clusters=5)\n",
    "cutree"
   ]
  },
  {
   "cell_type": "code",
   "execution_count": 102,
   "metadata": {},
   "outputs": [
    {
     "data": {
      "text/plain": [
       "array([[0],\n",
       "       [1],\n",
       "       [2],\n",
       "       [1],\n",
       "       [3],\n",
       "       [4],\n",
       "       [5]])"
      ]
     },
     "execution_count": 102,
     "metadata": {},
     "output_type": "execute_result"
    }
   ],
   "source": [
    "cutree = cluster.hierarchy.cut_tree(tmpz, n_clusters=6)\n",
    "cutree"
   ]
  },
  {
   "cell_type": "code",
   "execution_count": 106,
   "metadata": {},
   "outputs": [],
   "source": [
    "def cutTreeToCluster(ct,label):\n",
    "    c = {}\n",
    "    idx = 0\n",
    "    for x in ct:\n",
    "        if x[0] not in c:\n",
    "            c[x[0]] = []\n",
    "        c[x[0]].append(label[idx])\n",
    "        idx += 1\n",
    "    return c        "
   ]
  },
  {
   "cell_type": "code",
   "execution_count": 111,
   "metadata": {},
   "outputs": [
    {
     "name": "stdout",
     "output_type": "stream",
     "text": [
      "{0: ['A', 'B', 'C', 'D', 'E', 'F', 'G']}\n",
      "{0: ['A', 'B', 'C', 'D'], 1: ['E', 'F', 'G']}\n",
      "{0: ['A', 'C'], 1: ['B', 'D'], 2: ['E', 'F', 'G']}\n",
      "{0: ['A', 'C'], 1: ['B', 'D'], 2: ['E', 'F'], 3: ['G']}\n",
      "{0: ['A', 'C'], 1: ['B', 'D'], 2: ['E'], 3: ['F'], 4: ['G']}\n",
      "{0: ['A'], 1: ['B', 'D'], 2: ['C'], 3: ['E'], 4: ['F'], 5: ['G']}\n",
      "{0: ['A'], 1: ['B'], 2: ['C'], 3: ['D'], 4: ['E'], 5: ['F'], 6: ['G']}\n"
     ]
    }
   ],
   "source": [
    "for x in range(1,8):\n",
    "    cutree = cluster.hierarchy.cut_tree(tmpz, n_clusters=x)\n",
    "    print(cutTreeToCluster(cutree,['A','B','C','D', 'E', 'F', 'G']))"
   ]
  },
  {
   "cell_type": "code",
   "execution_count": 92,
   "metadata": {},
   "outputs": [],
   "source": [
    "# Based on Structural and Behavioral Dependencies:"
   ]
  },
  {
   "cell_type": "code",
   "execution_count": 115,
   "metadata": {},
   "outputs": [],
   "source": [
    "def NbCalls(m,c1,c2):\n",
    "    return m[c2][c1]"
   ]
  },
  {
   "cell_type": "code",
   "execution_count": 113,
   "metadata": {},
   "outputs": [],
   "source": [
    "def CoupP(m, c1,c2):\n",
    "    TotalNBCalls = 0\n",
    "    for x in range(0,len(m)):\n",
    "        if m[c1][x] > 0:\n",
    "            TotalNBCalls += m[c1][x]\n",
    "        if m[c2][x] > 0:\n",
    "            TotalNBCalls += m[c2][x]\n",
    "    return (NbCalls(m,c1,c2) + NbCalls(m,c2,c1))/TotalNBCalls"
   ]
  },
  {
   "cell_type": "code",
   "execution_count": 114,
   "metadata": {},
   "outputs": [],
   "source": [
    "def InterCoup(M):\n",
    "    sumCoup = 0\n",
    "    NbPossiblePairs = len(m)\n",
    "    for c1 in m:\n",
    "        for c2 in m:\n",
    "          sumCoup += CoupP(m,c1,c2)\n",
    "    return sumCoup/NbPossiblePairs"
   ]
  },
  {
   "cell_type": "code",
   "execution_count": 120,
   "metadata": {},
   "outputs": [],
   "source": [
    "def ExterCoup(m):\n",
    "    #Jika root class ada di Odoo akan diklasifikasikan sebagai external\n",
    "    #Mungkin ada penyimpanan hubungan external setiap class(library)\n",
    "    return 0"
   ]
  },
  {
   "cell_type": "code",
   "execution_count": 119,
   "metadata": {},
   "outputs": [],
   "source": [
    "def FAutonomy(m):\n",
    "    return ExterCoup(m)"
   ]
  },
  {
   "cell_type": "code",
   "execution_count": 118,
   "metadata": {},
   "outputs": [],
   "source": [
    "def InterCoh(m):\n",
    "    NbDirectConnections = 0\n",
    "    NbPossibleConnection = (len(m) * len(m)) - len(m)\n",
    "    for row,  cls in enumerate(m):\n",
    "        for cols, call in enumerate(cls):\n",
    "            if row == cols:\n",
    "                continue\n",
    "            if call > 0:\n",
    "                NbDirectConnections += call\n",
    "    return NbDirectConnections / NbPossibleConnection"
   ]
  },
  {
   "cell_type": "code",
   "execution_count": 117,
   "metadata": {},
   "outputs": [],
   "source": [
    "def FOne(m):\n",
    "    return 1/2*(InterCoup(m)+InterCoh(m))"
   ]
  },
  {
   "cell_type": "code",
   "execution_count": 116,
   "metadata": {},
   "outputs": [],
   "source": [
    "def FStructBeh(m):\n",
    "    alpha = 1\n",
    "    beta = 1\n",
    "    return 1 / (alpha+beta) * (alpha * FOne(m) - beta * FAutonomy(m))"
   ]
  },
  {
   "cell_type": "code",
   "execution_count": null,
   "metadata": {},
   "outputs": [],
   "source": [
    "# Simpan Measure dari :\n",
    "# FStructBeh(m)"
   ]
  }
 ],
 "metadata": {
  "kernelspec": {
   "display_name": "Python 3.10.6 64-bit",
   "language": "python",
   "name": "python3"
  },
  "language_info": {
   "codemirror_mode": {
    "name": "ipython",
    "version": 3
   },
   "file_extension": ".py",
   "mimetype": "text/x-python",
   "name": "python",
   "nbconvert_exporter": "python",
   "pygments_lexer": "ipython3",
   "version": "3.10.6"
  },
  "orig_nbformat": 4,
  "vscode": {
   "interpreter": {
    "hash": "916dbcbb3f70747c44a77c7bcd40155683ae19c65e1c03b4aa3499c5328201f1"
   }
  }
 },
 "nbformat": 4,
 "nbformat_minor": 2
}
