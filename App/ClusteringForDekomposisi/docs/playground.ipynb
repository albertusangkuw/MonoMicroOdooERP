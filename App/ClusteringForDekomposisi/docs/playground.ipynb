{
 "cells": [
  {
   "cell_type": "code",
   "execution_count": null,
   "metadata": {},
   "outputs": [],
   "source": [
    "cobaCC = [{'coup': 0.28, 'coh':0.04, 'num': 284}, {'coup': 0, 'coh':1, 'num': 1}, {'coup': 0, 'coh':1, 'num': 2}, {'coup': 1, 'coh':0, 'num': 2}, {'coup': 0.3, 'coh':0.94, 'num':20}]\n",
    "for x in cobaCC:\n",
    "    print(x)\n",
    "    print(1*x['coh'] + 1*(1-x['coup']))\n",
    "    print((x['coh']*x['num'] + (1-x['coup']*x['num'])))"
   ]
  }
 ],
 "metadata": {
  "kernelspec": {
   "display_name": "Python 3.10.6 64-bit",
   "language": "python",
   "name": "python3"
  },
  "language_info": {
   "name": "python",
   "version": "3.10.6"
  },
  "orig_nbformat": 4,
  "vscode": {
   "interpreter": {
    "hash": "916dbcbb3f70747c44a77c7bcd40155683ae19c65e1c03b4aa3499c5328201f1"
   }
  }
 },
 "nbformat": 4,
 "nbformat_minor": 2
}
