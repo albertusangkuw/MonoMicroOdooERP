{
 "cells": [
  {
   "cell_type": "markdown",
   "metadata": {},
   "source": [
    "### 👨‍🏭 Albertus Septian Angkuw"
   ]
  },
  {
   "cell_type": "markdown",
   "metadata": {},
   "source": [
    "### Pembuatan Call Graph"
   ]
  },
  {
   "cell_type": "code",
   "execution_count": null,
   "metadata": {},
   "outputs": [],
   "source": [
    "%pip install pycg"
   ]
  },
  {
   "cell_type": "code",
   "execution_count": null,
   "metadata": {},
   "outputs": [],
   "source": [
    "folderSC = \"odoo-16\"\n",
    "# currentPath = input(\"\")\n",
    "currentPath = \"/home/asa/Documents/Skripsi/TA-1119002/rancangan-dekomposisi\"\n",
    "print('Current Path set:' ,currentPath)"
   ]
  },
  {
   "cell_type": "code",
   "execution_count": null,
   "metadata": {},
   "outputs": [],
   "source": [
    "import os\n",
    "def walkTroughFolder(folderSC,filterExt='.py'):\n",
    "    listFile = []\n",
    "    for file in os.listdir(f'{currentPath}/{folderSC}'):\n",
    "        if os.path.isdir(f'{currentPath}/{folderSC}/{file}'):\n",
    "            listFile += walkTroughFolder(f'{folderSC}/{file}')\n",
    "        elif file.endswith(filterExt):\n",
    "            #print(os.path.join(f'/{folderSC}', file))\n",
    "            listFile.append(os.path.join(f'/{folderSC}', file))\n",
    "    return listFile"
   ]
  },
  {
   "cell_type": "code",
   "execution_count": null,
   "metadata": {},
   "outputs": [],
   "source": [
    "import time\n",
    "def scanPyCG(currentPath,package):\n",
    "    timestamp = int(time.time())\n",
    "    targetFile = f'py_files=$(find {currentPath}/{package} -type f -name \"*.py\")'\n",
    "    execute = f'pycg --package {package} $py_files -o {currentPath}/{package}-{timestamp}.json '\n",
    "    os.system(f'{targetFile} && {execute}')\n",
    "    return f'{currentPath}/{package}-{timestamp}.json'"
   ]
  },
  {
   "cell_type": "code",
   "execution_count": null,
   "metadata": {},
   "outputs": [],
   "source": [
    "scannedFiles = walkTroughFolder(folderSC)\n",
    "print(f'Total Files Scanned py Source Code: {len(scannedFiles)}')"
   ]
  },
  {
   "cell_type": "code",
   "execution_count": null,
   "metadata": {},
   "outputs": [],
   "source": [
    "# addonsJSON = scanPyCG(currentPath,f'{folderSC}/addons')\n",
    "# odooJSON = scanPyCG(currentPath,f'{folderSC}/odoo')"
   ]
  },
  {
   "cell_type": "code",
   "execution_count": null,
   "metadata": {},
   "outputs": [],
   "source": [
    "addonsJSON = f'{currentPath}/odooOnlyAddonsNoPackage.json'\n",
    "odooJSON = f'{currentPath}/odooCoreNoPackage.json'"
   ]
  },
  {
   "cell_type": "markdown",
   "metadata": {},
   "source": [
    "### Pembacaan Hasil Call Graph JSON"
   ]
  },
  {
   "cell_type": "code",
   "execution_count": null,
   "metadata": {},
   "outputs": [],
   "source": [
    "import json\n",
    "def loadJSON(path):\n",
    "   return json.load(open(path))"
   ]
  },
  {
   "cell_type": "code",
   "execution_count": null,
   "metadata": {},
   "outputs": [],
   "source": [
    "cgAddonsSource =loadJSON(addonsJSON)\n",
    "cgOdooSource =loadJSON(odooJSON)\n",
    "print(list(cgAddonsSource.values())[:5])\n",
    "print(list(cgOdooSource.values())[:5])"
   ]
  },
  {
   "cell_type": "code",
   "execution_count": null,
   "metadata": {},
   "outputs": [],
   "source": [
    "print(len(cgOdooSource))\n",
    "print(len(cgAddonsSource))"
   ]
  },
  {
   "cell_type": "code",
   "execution_count": null,
   "metadata": {},
   "outputs": [],
   "source": [
    "def getListRootPackage(path):\n",
    "    listRootPackage = []\n",
    "    for file in os.listdir(f'{path}'):\n",
    "        if os.path.isdir(f'{path}/{file}'):\n",
    "            listRootPackage.append(file)\n",
    "        elif file.endswith('.py'):\n",
    "            listRootPackage.append('.'.join(file.split(\".\")[:-1]))\n",
    "    return listRootPackage"
   ]
  },
  {
   "cell_type": "code",
   "execution_count": null,
   "metadata": {},
   "outputs": [],
   "source": [
    "def addPrefixFolder(cg,root,listPackage):\n",
    "    def checkParent(key):\n",
    "        parentkey = key.split('.')[0]\n",
    "        if parentkey in listPackage:\n",
    "            key = f'{root}.{key}'\n",
    "        return key\n",
    "    newCG = {}\n",
    "    for key, relation in cg.items():\n",
    "        key = checkParent(key)\n",
    "        if key not in newCG:\n",
    "            newCG[key] = []\n",
    "        for i in relation:\n",
    "            newRelKey = checkParent(i)\n",
    "            newCG[key].append(newRelKey)\n",
    "    return newCG"
   ]
  },
  {
   "cell_type": "code",
   "execution_count": null,
   "metadata": {},
   "outputs": [],
   "source": [
    "listPackageOdoo = getListRootPackage(f'{currentPath}/{folderSC}/odoo')\n",
    "listPackageAddons = getListRootPackage(f'{currentPath}/{folderSC}/addons')"
   ]
  },
  {
   "cell_type": "code",
   "execution_count": null,
   "metadata": {},
   "outputs": [],
   "source": [
    "cgOdoo = addPrefixFolder(cgOdooSource,\"odoo\",listPackageOdoo)\n",
    "cgAddons = addPrefixFolder(cgAddonsSource,\"addons\",listPackageAddons)"
   ]
  },
  {
   "cell_type": "code",
   "execution_count": null,
   "metadata": {},
   "outputs": [],
   "source": [
    "cgSource = {}\n",
    "for key, rel in cgOdoo.items():\n",
    "    if key not in cgSource:\n",
    "        cgSource[key] = []\n",
    "    for tmp in rel:\n",
    "        if tmp not in cgSource:\n",
    "            cgSource[tmp] = []\n",
    "    cgSource[key] = cgSource[key] + rel\n",
    "\n",
    "for key, rel in cgAddons.items():\n",
    "    if key not in cgSource:\n",
    "        cgSource[key] = []\n",
    "    for tmp in rel:\n",
    "        if tmp not in cgSource:\n",
    "            cgSource[tmp] = []\n",
    "    cgSource[key] = cgSource[key] + rel"
   ]
  },
  {
   "cell_type": "code",
   "execution_count": null,
   "metadata": {},
   "outputs": [],
   "source": [
    "len(cgSource)"
   ]
  },
  {
   "cell_type": "markdown",
   "metadata": {},
   "source": [
    "### Visualisasi Call Graph"
   ]
  },
  {
   "cell_type": "code",
   "execution_count": null,
   "metadata": {},
   "outputs": [],
   "source": [
    "%pip install pygraphviz"
   ]
  },
  {
   "cell_type": "code",
   "execution_count": null,
   "metadata": {},
   "outputs": [],
   "source": [
    "import pygraphviz as pgv\n",
    "def cobaDot():\n",
    "    d = {\"1\": {\"2\": 7 }, \"2\": {\"1\": 1, \"3\": 1, \"5\" : 1}}\n",
    "    A = pgv.AGraph(d,strict=False, directed=True)\n",
    "    A.layout(prog=\"dot\")\n",
    "    A.draw(f'{currentPath}/contoh-CG.svg') \n",
    "    print(A)\n",
    "#cobaDot()"
   ]
  },
  {
   "cell_type": "code",
   "execution_count": null,
   "metadata": {},
   "outputs": [],
   "source": [
    "def buatGraphviz(graph, _strict=False, _directed=True,_prog=\"fdp\",filename=folderSC):\n",
    "    A = pgv.AGraph(graph,strict=_strict, directed=_directed)\n",
    "    A.layout(prog=_prog)\n",
    "    A.draw(f'{currentPath}/{filename}.svg') \n",
    "    print(f'Image saved at: {currentPath}/{filename}.svg')"
   ]
  },
  {
   "cell_type": "markdown",
   "metadata": {},
   "source": [
    "#### Call Graph Raw"
   ]
  },
  {
   "cell_type": "code",
   "execution_count": null,
   "metadata": {},
   "outputs": [],
   "source": [
    "callGraphRaw = {}\n",
    "for key, value in cgSource.items():\n",
    "    callGraphRaw[key] = {}\n",
    "    for v in value:\n",
    "        callGraphRaw[key][v] = 1"
   ]
  },
  {
   "cell_type": "code",
   "execution_count": null,
   "metadata": {},
   "outputs": [],
   "source": [
    "# buatGraphviz(graph=callGraphRaw,filename=f'{folderSC}-RAW-CG')"
   ]
  },
  {
   "cell_type": "markdown",
   "metadata": {},
   "source": [
    "#### Filter Call diluar Project"
   ]
  },
  {
   "cell_type": "code",
   "execution_count": null,
   "metadata": {},
   "outputs": [],
   "source": [
    "callGraphFiltered = {}\n",
    "listRootFolder = [ 'odoo', 'addons']\n",
    "edgeGraph = []\n",
    "outsideCall = set()\n",
    "for key, value in cgSource.items():\n",
    "    rootSource = key.split('.')[0]\n",
    "    if rootSource not in listRootFolder:\n",
    "        outsideCall.add(rootSource)\n",
    "        continue\n",
    "    childFilter = {}\n",
    "    for v in value:\n",
    "        childSource = v.split('.')[0]\n",
    "        if childSource not in listRootFolder:\n",
    "            outsideCall.add(childSource)\n",
    "            continue\n",
    "        childFilter[v] = 1\n",
    "    if len(childFilter) == 0:\n",
    "        edgeGraph.append(key)\n",
    "        continue\n",
    "    for c in childFilter:\n",
    "        if c not in callGraphFiltered:\n",
    "            callGraphFiltered[c] = {}\n",
    "    callGraphFiltered[key] = childFilter\n",
    "    \n",
    "print(f'Total Top Node: {len(callGraphFiltered)} ')\n",
    "print(f'Total Edge: {len(edgeGraph)} <{edgeGraph[:3]}>')\n",
    "print(f'Total OutsideEdge: {len(outsideCall)} <{list(outsideCall)[:3]}>')"
   ]
  },
  {
   "cell_type": "code",
   "execution_count": null,
   "metadata": {},
   "outputs": [],
   "source": [
    "buatGraphviz(callGraphFiltered,filename=f'{folderSC}-CG')"
   ]
  },
  {
   "cell_type": "code",
   "execution_count": null,
   "metadata": {},
   "outputs": [],
   "source": [
    "cgSource['addons.mrp.models.mrp_routing.MrpRoutingWorkcenter.copy_existing_operations']"
   ]
  },
  {
   "cell_type": "code",
   "execution_count": null,
   "metadata": {},
   "outputs": [],
   "source": [
    "callGraphFiltered['addons.mrp.models.mrp_routing.MrpRoutingWorkcenter.copy_existing_operations']"
   ]
  },
  {
   "cell_type": "markdown",
   "metadata": {},
   "source": [
    "#### Extrasi Data"
   ]
  },
  {
   "cell_type": "code",
   "execution_count": null,
   "metadata": {},
   "outputs": [],
   "source": [
    "import os\n",
    "import importlib.util\n",
    "import inspect"
   ]
  },
  {
   "cell_type": "code",
   "execution_count": null,
   "metadata": {},
   "outputs": [],
   "source": [
    "def symlink_rel(src, dst):\n",
    "    rel_path_src = os.path.relpath(src, os.path.dirname(dst))\n",
    "    os.symlink(rel_path_src, dst)"
   ]
  },
  {
   "cell_type": "code",
   "execution_count": null,
   "metadata": {},
   "outputs": [],
   "source": [
    "# Checks if file is a broken link. 0: broken link; 1: valid link; 2: not a link\n",
    "def isvalidlink(path):\n",
    "    if not os.path.islink(path):\n",
    "        return 2\n",
    "    try:\n",
    "        os.stat(path)\n",
    "    except os.error:\n",
    "        return 0\n",
    "    return 1"
   ]
  },
  {
   "cell_type": "code",
   "execution_count": null,
   "metadata": {},
   "outputs": [],
   "source": [
    "def merge_symlink(target, source):\n",
    "    for file in os.listdir(source):\n",
    "        if os.path.isdir(f'{source}/{file}') :\n",
    "            if os.path.isdir(f'{target}/{file}'):\n",
    "                print(\"Existing Folder in target folder \" , file)\n",
    "                continue\n",
    "            if isvalidlink(f'{target}/{file}') == 1:\n",
    "                os.unlink( f'{target}/{file}')\n",
    "                print(\"Removed Old Link in target folder \" , file)\n",
    "            symlink_rel(f'{source}/{file}', f'{target}/{file}')\n",
    "            if isvalidlink(f'{target}/{file}') == 0:\n",
    "                print(\"Please Remove broken symlink: {}\".format(file))\n",
    "                return \n",
    "            print(f'Added Symslink: {source}/{file} -> {target}/{file}')"
   ]
  },
  {
   "cell_type": "code",
   "execution_count": null,
   "metadata": {},
   "outputs": [],
   "source": [
    "def unmerge_symlink(target):\n",
    "    # Delete All Links\n",
    "    for file in os.listdir(target):\n",
    "        link = os.path.join(target,file)\n",
    "        if isvalidlink(link) == 1:\n",
    "            os.unlink( f'{target}/{file}')\n",
    "            print(\"Clean Up  symlink: {}\".format(file))"
   ]
  },
  {
   "cell_type": "code",
   "execution_count": null,
   "metadata": {},
   "outputs": [],
   "source": [
    "merge_symlink('odoo/addons','addons')\n",
    "runcommand = importlib.import_module(\"addons.account.models\")\n",
    "for name, obj in inspect.getmembers(runcommand):\n",
    "    if inspect.ismodule(obj):\n",
    "        print(\"Module:\" ,  name)\n",
    "        member = inspect.getmembers(obj)\n",
    "        tmpClass = {}\n",
    "        for item in member:\n",
    "            if inspect.isclass(item[1]):\n",
    "                if hasattr(item[1], '__class__') and str(item[1].__class__) != \"<class 'odoo.models.MetaModel'>\":\n",
    "                    print(f'Class \"{item[0]}\" Skipped because not MetaModel')\n",
    "                    continue\n",
    "                if hasattr(item[1], '_name'):\n",
    "                    tmpClass[item[0]] = { name: item[1]._name}\n",
    "                if hasattr(item[1], '_inherit'):\n",
    "                    tmpClass[item[0]]['inherit'] = item[1]._inherit                       \n",
    "                if hasattr(item[1], '_inherits'):\n",
    "                    tmpClass[item[0]]['inherits'] = item[1]._inherits\n",
    "                classMembers = inspect.getmembers(item[1])\n",
    "                tmpClass[item[0]]['attribute_rel'] = {}\n",
    "                for attrClass in classMembers:\n",
    "                    if hasattr(attrClass[1], 'comodel_name'):\n",
    "                        if attrClass[1].comodel_name != None:\n",
    "                            tmpClass[item[0]]['attribute_rel'][attrClass[0]] = attrClass[1].comodel_name \n",
    "        print(f'Total Model Class: {len(tmpClass)} ')\n",
    "        print(\"--------------------\")\n",
    "unmerge_symlink('odoo/addons')"
   ]
  },
  {
   "cell_type": "markdown",
   "metadata": {},
   "source": [
    "#### Pemberian Weight pada Graph"
   ]
  },
  {
   "cell_type": "code",
   "execution_count": null,
   "metadata": {},
   "outputs": [],
   "source": [
    "weightedGraph = {}\n",
    "weightedGraph[folderSC] = {}\n",
    "for file in scannedFiles:\n",
    "    newKey = '.'.join(file[:-3].split(\"/\")[2:])\n",
    "    weightedGraph[newKey] = {}\n"
   ]
  },
  {
   "cell_type": "code",
   "execution_count": null,
   "metadata": {},
   "outputs": [],
   "source": [
    "weightedGraph = callGraphFiltered"
   ]
  },
  {
   "cell_type": "markdown",
   "metadata": {},
   "source": [
    "#### Disjoint-set data structure"
   ]
  },
  {
   "cell_type": "code",
   "execution_count": null,
   "metadata": {},
   "outputs": [],
   "source": [
    "currIter = 0\n",
    "for call, listConn in callGraphFiltered.items():\n",
    "    if call in weightedGraph:\n",
    "        print(call , listConn)\n",
    "        #???\n",
    "    parentCall = call\n",
    "    while (parentCall not in weightedGraph):\n",
    "        parentCall = parentCall.rsplit('.', 1)[0]\n",
    "    \n",
    "    for conn, weight in listConn.items():\n",
    "        parentConn = conn.rsplit('.', 1)[0]\n",
    "        while (parentConn not in weightedGraph):\n",
    "            parentConn = parentConn.rsplit('.', 1)[0]\n",
    "             \n",
    "        if parentConn not in weightedGraph[parentCall]:\n",
    "            weightedGraph[parentCall][parentConn] = 1\n",
    "        else:\n",
    "            weightedGraph[parentCall][parentConn] += 1\n",
    "    currIter+=1   \n"
   ]
  },
  {
   "cell_type": "code",
   "execution_count": null,
   "metadata": {},
   "outputs": [],
   "source": [
    "# buatGraphviz(weightedGraph ,filename=f'{folderSC}-W-CG')"
   ]
  },
  {
   "cell_type": "markdown",
   "metadata": {},
   "source": [
    "#### Representasi Call Graph menjadi Adjacency Matrix"
   ]
  },
  {
   "cell_type": "code",
   "execution_count": null,
   "metadata": {},
   "outputs": [],
   "source": [
    "%pip install numpy"
   ]
  },
  {
   "cell_type": "code",
   "execution_count": 26,
   "metadata": {},
   "outputs": [],
   "source": [
    "import numpy as np\n",
    "def createAdjacentMatrix(graphSource):\n",
    "    listLabel = {}\n",
    "    counterListLabel = 0\n",
    "    for label in graphSource.keys():\n",
    "        listLabel[label] = counterListLabel\n",
    "        counterListLabel+=1\n",
    "    adjMatrix = np.zeros(shape=(len(listLabel), len(listLabel)))\n",
    "\n",
    "    currRow = 0\n",
    "    tmpNotDetected = 0\n",
    "    for x, connection in graphSource.items():\n",
    "        for name, weight in connection.items():\n",
    "            if name not in listLabel:\n",
    "                # print(x)\n",
    "                tmpNotDetected += 1\n",
    "                continue\n",
    "            adjMatrix[currRow,listLabel[name]] = weight\n",
    "        currRow+=1 \n",
    "    print(\"Not Detected: \" , tmpNotDetected)\n",
    "    return adjMatrix, listLabel"
   ]
  },
  {
   "cell_type": "code",
   "execution_count": null,
   "metadata": {},
   "outputs": [],
   "source": [
    "adjMatrix, listLabel = createAdjacentMatrix(weightedGraph)\n"
   ]
  },
  {
   "cell_type": "code",
   "execution_count": null,
   "metadata": {},
   "outputs": [],
   "source": [
    "len(listLabel)"
   ]
  },
  {
   "cell_type": "code",
   "execution_count": null,
   "metadata": {},
   "outputs": [],
   "source": [
    "# np.savetxt(f'{folderSC}-AdjMatrix.csv', adjMatrix, delimiter=\",\")"
   ]
  },
  {
   "cell_type": "markdown",
   "metadata": {},
   "source": [
    "#### Distance Matrix"
   ]
  },
  {
   "cell_type": "code",
   "execution_count": null,
   "metadata": {},
   "outputs": [],
   "source": [
    "import scipy.cluster.hierarchy as sch\n",
    "import matplotlib.pyplot as plt\n",
    "from scipy.cluster.hierarchy import ward, median, centroid, weighted, average, complete, single, fcluster,linkage\n",
    "from scipy.spatial import distance"
   ]
  },
  {
   "cell_type": "code",
   "execution_count": 137,
   "metadata": {},
   "outputs": [],
   "source": [
    "graphExample =[ \n",
    "[1,\t1,\t1,\t0,\t0,\t0,\t0],\n",
    "[0,\t1,\t0,\t1,\t0,\t0,\t0],\n",
    "[0,\t0,\t1,\t0,\t0,\t0,\t0],\n",
    "[0,\t0,\t0,\t1,\t0,\t0,\t0],\n",
    "[0,\t0,\t0,\t0,\t1,\t0,\t0],\n",
    "[0,\t0,\t0,\t0,\t1,\t1,\t1],\n",
    "[0,\t0,\t0,\t0,\t0,\t0,\t1]]"
   ]
  },
  {
   "cell_type": "code",
   "execution_count": 133,
   "metadata": {},
   "outputs": [],
   "source": [
    "graphExample =[ \n",
    "[0,\t1,\t1,\t0,\t0,\t0,\t0],\n",
    "[0,\t0,\t0,\t1,\t0,\t0,\t0],\n",
    "[0,\t0,\t0,\t0,\t0,\t0,\t0],\n",
    "[0,\t0,\t0,\t0,\t0,\t0,\t0],\n",
    "[0,\t0,\t0,\t0,\t0,\t0,\t0],\n",
    "[0,\t0,\t0,\t0,\t1,\t0,\t1],\n",
    "[0,\t0,\t0,\t0,\t0,\t0,\t0]]"
   ]
  },
  {
   "cell_type": "code",
   "execution_count": 138,
   "metadata": {},
   "outputs": [],
   "source": [
    "def calculateDistance(A,B):\n",
    "    return distance.jaccard(A,B)"
   ]
  },
  {
   "cell_type": "code",
   "execution_count": 139,
   "metadata": {},
   "outputs": [],
   "source": [
    "data = np.array(graphExample)"
   ]
  },
  {
   "cell_type": "code",
   "execution_count": 140,
   "metadata": {},
   "outputs": [
    {
     "name": "stdout",
     "output_type": "stream",
     "text": [
      "[[0, 0.75, 0.6666666666666666, 1.0, 1.0, 1.0, 1.0], [0.75, 0, 1.0, 0.5, 1.0, 1.0, 1.0], [0.6666666666666666, 1.0, 0, 1.0, 1.0, 1.0, 1.0], [1.0, 0.5, 1.0, 0, 1.0, 1.0, 1.0], [1.0, 1.0, 1.0, 1.0, 0, 0.6666666666666666, 1.0], [1.0, 1.0, 1.0, 1.0, 0.6666666666666666, 0, 0.6666666666666666], [1.0, 1.0, 1.0, 1.0, 1.0, 0.6666666666666666, 0]]\n"
     ]
    }
   ],
   "source": [
    "distanceMatrix = [ \n",
    "[0,\t0,\t0,\t0,\t0,\t0,\t0],\n",
    "[0,\t0,\t0,\t0,\t0,\t0,\t0],\n",
    "[0,\t0,\t0,\t0,\t0,\t0,\t0],\n",
    "[0,\t0,\t0,\t0,\t0,\t0,\t0],\n",
    "[0,\t0,\t0,\t0,\t0,\t0,\t0],\n",
    "[0,\t0,\t0,\t0,\t0,\t0,\t0],\n",
    "[0,\t0,\t0,\t0,\t0,\t0,\t0]]\n",
    "for x in range(0,len(data)):\n",
    "    for y in range(0,x):\n",
    "        distanceMatrix[x][y] = calculateDistance(data[x, :], data[y, :])\n",
    "        distanceMatrix[y][x] = distanceMatrix[x][y]\n",
    "print(distanceMatrix)"
   ]
  },
  {
   "cell_type": "code",
   "execution_count": 141,
   "metadata": {},
   "outputs": [
    {
     "name": "stderr",
     "output_type": "stream",
     "text": [
      "/tmp/ipykernel_9144/3205337508.py:1: ClusterWarning: scipy.cluster: The symmetric non-negative hollow observation matrix looks suspiciously like an uncondensed distance matrix\n",
      "  tmpz = linkage(distanceMatrix)\n"
     ]
    },
    {
     "data": {
      "image/png": "[encoded data removed]",
      "text/plain": [
       "<Figure size 640x480 with 1 Axes>"
      ]
     },
     "metadata": {},
     "output_type": "display_data"
    }
   ],
   "source": [
    "# import sys\n",
    "# sys.setrecursionlimit(100000)\n",
    "tmpz = linkage(distanceMatrix)\n",
    "dend = sch.dendrogram(tmpz,labels=['A','B','C','D', 'E', 'F', 'G'])\n",
    "plt.title('Dendrogram')\n",
    "plt.xlabel('Samples')\n",
    "plt.ylabel('Euclidean distances')\n",
    "plt.show()"
   ]
  },
  {
   "cell_type": "code",
   "execution_count": null,
   "metadata": {},
   "outputs": [],
   "source": [
    "plt.figure(figsize=(20,6))\n",
    "z = linkage(dist_matrix)\n",
    "# dend = sch.dendrogram(z,labels=list(listLabel))\n",
    "dend = sch.dendrogram(z)\n",
    "plt.title('Dendrogram')\n",
    "plt.xlabel('Samples')\n",
    "plt.ylabel('Euclidean distances')\n",
    "plt.show()"
   ]
  },
  {
   "cell_type": "markdown",
   "metadata": {},
   "source": [
    "#### Clustering"
   ]
  },
  {
   "cell_type": "code",
   "execution_count": null,
   "metadata": {},
   "outputs": [],
   "source": [
    "%pip install scipy\n",
    "%pip install matplotlib"
   ]
  },
  {
   "cell_type": "code",
   "execution_count": 23,
   "metadata": {},
   "outputs": [],
   "source": [
    "import scipy.cluster.hierarchy as sch\n",
    "import matplotlib.pyplot as plt\n",
    "from scipy.cluster.hierarchy import ward, median, centroid, weighted, average, complete, single, fcluster,linkage\n",
    "from scipy.spatial.distance import pdist"
   ]
  },
  {
   "cell_type": "code",
   "execution_count": null,
   "metadata": {},
   "outputs": [],
   "source": [
    "#Normalisasi Data\n",
    "#sklearn.preprocessing.normalize()"
   ]
  },
  {
   "cell_type": "code",
   "execution_count": null,
   "metadata": {},
   "outputs": [],
   "source": [
    "# Source: https://matplotlib.org/stable/gallery/images_contours_and_fields/image_annotated_heatmap.html\n",
    "\n",
    "fig, ax = plt.subplots()\n",
    "im = ax.imshow(adjMatrix)\n",
    "\n",
    "# Show all ticks and label them with the respective list entries\n",
    "# ax.set_xticks(np.arange(len(list(listLabel))), labels=list(listLabel))\n",
    "# ax.set_yticks(np.arange(len(list(listLabel))), labels=list(listLabel))\n",
    "\n",
    "# Rotate the tick labels and set their alignment.\n",
    "plt.setp(ax.get_xticklabels(), rotation=45, ha=\"right\",\n",
    "         rotation_mode=\"anchor\")\n",
    "\n",
    "\n",
    "ax.set_title(\"Heatmap Relation Between Files .py\")\n",
    "\n",
    "# plt.figure(figsize=(20,6))\n",
    "plt.show()"
   ]
  },
  {
   "cell_type": "markdown",
   "metadata": {},
   "source": [
    "##### Todo: Pemilihan Cluster Terbaik berdasarkan ...."
   ]
  },
  {
   "cell_type": "code",
   "execution_count": null,
   "metadata": {},
   "outputs": [],
   "source": []
  }
 ],
 "metadata": {
  "kernelspec": {
   "display_name": "Python 3.10.6 64-bit",
   "language": "python",
   "name": "python3"
  },
  "language_info": {
   "codemirror_mode": {
    "name": "ipython",
    "version": 3
   },
   "file_extension": ".py",
   "mimetype": "text/x-python",
   "name": "python",
   "nbconvert_exporter": "python",
   "pygments_lexer": "ipython3",
   "version": "3.10.6"
  },
  "orig_nbformat": 4,
  "vscode": {
   "interpreter": {
    "hash": "916dbcbb3f70747c44a77c7bcd40155683ae19c65e1c03b4aa3499c5328201f1"
   }
  }
 },
 "nbformat": 4,
 "nbformat_minor": 2
}
