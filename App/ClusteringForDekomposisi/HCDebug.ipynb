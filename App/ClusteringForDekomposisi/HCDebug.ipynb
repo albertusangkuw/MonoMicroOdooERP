{
 "cells": [
  {
   "cell_type": "code",
   "execution_count": null,
   "metadata": {},
   "outputs": [],
   "source": [
    "odooTree = NodeCG(\"odoo\",[])\n",
    "odooTree.root = \"odoo\"\n",
    "odooTree.setRelation('addons.product.models.product_tag', {'addons.base.models.res_users': 2, 'addons.product.models.product_product': 2,\n",
    "  'addons.product.models.product_template': 1, 'addons.product.add': 1 , 'odoo.random' : 1})\n",
    "odooTree.setRelation('addons.note.models',{'addons.base.models.res_users1': 2 , 'odoo.random' : 1})\n",
    "print(odooTree.getRelation('addons.product.models'))\n",
    "print(odooTree.countCall('addons.product.models'))\n",
    "odooTree.relation[\"addons\"].relation[\"base\"].relation[\"models\"].__dict__"
   ]
  },
  {
   "cell_type": "code",
   "execution_count": null,
   "metadata": {},
   "outputs": [],
   "source": [
    "# print(checkIfNameContainString('a.test.a', 'test'), True)\n",
    "# print(checkIfNameContainString('a.test', 'test'), True)\n",
    "# print(checkIfNameContainString('test.a', 'test'), True)\n",
    "# print(checkIfNameContainString('test', 'test'), True)\n",
    "# print(checkIfNameContainString('testa', 'test') , False)\n",
    "# print(checkIfNameContainString('atesta', 'test') , False)\n",
    "# print(checkIfNameContainString('a.testa', 'test') , False)"
   ]
  },
  {
   "cell_type": "code",
   "execution_count": null,
   "metadata": {},
   "outputs": [],
   "source": [
    "def get_key_by_value(dictionary, value):\n",
    "    return next((key for key, val in dictionary.items() if val == value), None)\n",
    "#Hanya untuk visualisasi addons.point_of_sale\n",
    "for k ,w in enumerate(adjMatrix[dictLabel['addons.point_of_sale']]):\n",
    "    if w != 0:\n",
    "        print(f\"{get_key_by_value(dictLabel,k)}  :{w}\")\n"
   ]
  },
  {
   "cell_type": "code",
   "execution_count": null,
   "metadata": {},
   "outputs": [],
   "source": [
    "# Dummy \n",
    "# callGraphFinal = {\n",
    "#     'A': { 'B': 2 , 'C': 1 },\n",
    "#     'B': { 'D': 1},\n",
    "#     'C' : { },\n",
    "#     'D' : {},\n",
    "#     'E' : {},\n",
    "#     'F': { 'E': 1 , 'G': 1 },\n",
    "#     'G' : {},\n",
    "# }\n",
    "# selfCG = {\n",
    "#     \"A\" : 3, \n",
    "#     \"B\" : 2,\n",
    "#     \"C\" : 1,\n",
    "#     \"D\" : 1,\n",
    "#     \"E\" : 1,\n",
    "#     \"F\" : 3,\n",
    "#     \"G\" : 1, \n",
    "# }\n",
    "# adjMatrix, dictLabel = createAdjacentMatrix(callGraphFinal)\n",
    "# listLabel = list(dictLabel.keys())\n",
    "# listLabel = [ 'A', 'B', 'C', 'D' , 'E', 'F', 'G']\n",
    "# print(\"Size Label: \" ,len(dictLabel))"
   ]
  },
  {
   "cell_type": "code",
   "execution_count": null,
   "metadata": {},
   "outputs": [],
   "source": [
    "# print('addons.point_of_sale.models.pos_category :', callGraphFiltered['addons.point_of_sale.models.pos_category'])\n",
    "# print('addons.point_of_sale.models.pos_category.PosCategory :', callGraphFiltered['addons.point_of_sale.models.pos_category.PosCategory'])\n",
    "# print('addons.point_of_sale.models.pos_category.PosCategory._check_category_recursion :', callGraphFiltered['addons.point_of_sale.models.pos_category.PosCategory._check_category_recursion'])\n",
    "# print('addons.point_of_sale.models.pos_category.PosCategory.name_get :', callGraphFiltered['addons.point_of_sale.models.pos_category.PosCategory.name_get'])\n",
    "# print('addons.point_of_sale.models.pos_category.PosCategory.name_get.get_names :' , callGraphFiltered['addons.point_of_sale.models.pos_category.PosCategory.name_get.get_names'])\n",
    "# print('addons.point_of_sale.models.pos_category.PosCategory._unlink_except_session_open :' , callGraphFiltered['addons.point_of_sale.models.pos_category.PosCategory._unlink_except_session_open'])\n",
    "# callGraphFiltered['addons.point_of_sale.models.pos_category.PosCategory.']"
   ]
  },
  {
   "cell_type": "code",
   "execution_count": null,
   "metadata": {},
   "outputs": [],
   "source": [
    "def visualizeHeatmap(matrix, title):\n",
    "    fig, ax = plt.subplots()\n",
    "    im = ax.imshow(matrix)\n",
    "# imshow (matplotlib's viridis colormap), green typically represents lower values or less intensity, while yellow represents higher values or more intensity. \n",
    "    plt.setp(ax.get_xticklabels(), rotation=45, ha=\"right\",\n",
    "            rotation_mode=\"anchor\")\n",
    "    ax.set_title(title)\n",
    "    plt.figure(figsize=(20,6))\n",
    "    plt.show()"
   ]
  }
 ],
 "metadata": {
  "language_info": {
   "name": "python"
  },
  "orig_nbformat": 4
 },
 "nbformat": 4,
 "nbformat_minor": 2
}
