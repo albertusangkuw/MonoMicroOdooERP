{
 "cells": [
  {
   "cell_type": "markdown",
   "metadata": {},
   "source": [
    "### 👨‍🏭 Albertus Septian Angkuw"
   ]
  },
  {
   "cell_type": "markdown",
   "metadata": {},
   "source": [
    "### Pembuatan Call Graph"
   ]
  },
  {
   "cell_type": "code",
   "execution_count": 1,
   "metadata": {},
   "outputs": [
    {
     "name": "stdout",
     "output_type": "stream",
     "text": [
      "Defaulting to user installation because normal site-packages is not writeable\n",
      "Requirement already satisfied: pycg in /home/asa/.local/lib/python3.10/site-packages (0.0.6)\n",
      "\n",
      "\u001b[1m[\u001b[0m\u001b[34;49mnotice\u001b[0m\u001b[1;39;49m]\u001b[0m\u001b[39;49m A new release of pip is available: \u001b[0m\u001b[31;49m23.0\u001b[0m\u001b[39;49m -> \u001b[0m\u001b[32;49m23.0.1\u001b[0m\n",
      "\u001b[1m[\u001b[0m\u001b[34;49mnotice\u001b[0m\u001b[1;39;49m]\u001b[0m\u001b[39;49m To update, run: \u001b[0m\u001b[32;49mpip install --upgrade pip\u001b[0m\n",
      "Note: you may need to restart the kernel to use updated packages.\n"
     ]
    }
   ],
   "source": [
    "%pip install pycg"
   ]
  },
  {
   "cell_type": "code",
   "execution_count": 2,
   "metadata": {},
   "outputs": [
    {
     "name": "stdout",
     "output_type": "stream",
     "text": [
      "Current Path set: /home/asa/Documents/Skripsi/rancangan-dekomposisi\n"
     ]
    }
   ],
   "source": [
    "currentPath = input()\n",
    "print('Current Path set:' ,currentPath)"
   ]
  },
  {
   "cell_type": "code",
   "execution_count": 57,
   "metadata": {},
   "outputs": [],
   "source": [
    "import os\n",
    "def walkTroughFolder(folderSC,filterExt='.py'):\n",
    "    listFile = []\n",
    "    for file in os.listdir(f'{currentPath}/{folderSC}'):\n",
    "        if os.path.isdir(f'{currentPath}/{folderSC}/{file}'):\n",
    "            listFile += walkTroughFolder(f'{folderSC}/{file}')\n",
    "        elif file.endswith(filterExt):\n",
    "            #print(os.path.join(f'/{folderSC}', file))\n",
    "            listFile.append(os.path.join(f'/{folderSC}', file))\n",
    "    return listFile"
   ]
  },
  {
   "cell_type": "code",
   "execution_count": 58,
   "metadata": {},
   "outputs": [
    {
     "name": "stdout",
     "output_type": "stream",
     "text": [
      "Total Files Scanned py Source Code: 31\n"
     ]
    }
   ],
   "source": [
    "folderSC = \"asciinema\"\n",
    "os.system(f'py_files=$(find {currentPath}/{folderSC} -type f -name \"*.py\") && pycg --package {folderSC} $py_files > {folderSC}.json ')\n",
    "\n",
    "scannedFiles = walkTroughFolder(folderSC)\n",
    "print(f'Total Files Scanned py Source Code: {len(scannedFiles)}')"
   ]
  },
  {
   "cell_type": "markdown",
   "metadata": {},
   "source": [
    "### Pembacaan Hasil Call Graph JSON"
   ]
  },
  {
   "cell_type": "code",
   "execution_count": 4,
   "metadata": {},
   "outputs": [],
   "source": [
    "import json\n",
    "cgFile = open(f'{currentPath}/{folderSC}.json')\n",
    "cgSource = json.load(cgFile)"
   ]
  },
  {
   "cell_type": "code",
   "execution_count": 5,
   "metadata": {},
   "outputs": [
    {
     "data": {
      "text/plain": [
       "[['sys.exit', '<builtin>.open', 'setuptools.setup'], [], []]"
      ]
     },
     "execution_count": 5,
     "metadata": {},
     "output_type": "execute_result"
    }
   ],
   "source": [
    "list(cgSource.values())[:3]"
   ]
  },
  {
   "cell_type": "markdown",
   "metadata": {},
   "source": [
    "### Visualisasi Call Graph"
   ]
  },
  {
   "cell_type": "code",
   "execution_count": 6,
   "metadata": {},
   "outputs": [
    {
     "name": "stdout",
     "output_type": "stream",
     "text": [
      "Defaulting to user installation because normal site-packages is not writeable\n",
      "Requirement already satisfied: pygraphviz in /usr/local/lib/python3.10/dist-packages (1.10)\n",
      "\n",
      "\u001b[1m[\u001b[0m\u001b[34;49mnotice\u001b[0m\u001b[1;39;49m]\u001b[0m\u001b[39;49m A new release of pip is available: \u001b[0m\u001b[31;49m23.0\u001b[0m\u001b[39;49m -> \u001b[0m\u001b[32;49m23.0.1\u001b[0m\n",
      "\u001b[1m[\u001b[0m\u001b[34;49mnotice\u001b[0m\u001b[1;39;49m]\u001b[0m\u001b[39;49m To update, run: \u001b[0m\u001b[32;49mpip install --upgrade pip\u001b[0m\n",
      "Note: you may need to restart the kernel to use updated packages.\n"
     ]
    }
   ],
   "source": [
    "%pip install pygraphviz"
   ]
  },
  {
   "cell_type": "code",
   "execution_count": 37,
   "metadata": {},
   "outputs": [],
   "source": [
    "import pygraphviz as pgv\n",
    "def cobaDot():\n",
    "    d = {\"1\": {\"2\": 7 }, \"2\": {\"1\": 1, \"3\": 1, \"5\" : 1}}\n",
    "    A = pgv.AGraph(d,strict=False, directed=True)\n",
    "    A.layout(prog=\"dot\")\n",
    "    A.draw(f'{currentPath}/contoh-CG.svg') \n",
    "    print(A)"
   ]
  },
  {
   "cell_type": "code",
   "execution_count": 39,
   "metadata": {},
   "outputs": [
    {
     "name": "stdout",
     "output_type": "stream",
     "text": [
      "digraph \"\" {\n",
      "\tgraph [bb=\"0,0,126,180\"];\n",
      "\tnode [label=\"\\N\"];\n",
      "\t1\t[height=0.5,\n",
      "\t\tpos=\"63,162\",\n",
      "\t\twidth=0.75];\n",
      "\t2\t[height=0.5,\n",
      "\t\tpos=\"63,90\",\n",
      "\t\twidth=0.75];\n",
      "\t1 -> 2\t[pos=\"e,57.121,107.96 57.16,144.41 56.297,136.51 56.048,126.85 56.412,117.94\"];\n",
      "\t2 -> 1\t[pos=\"e,68.84,144.41 68.879,107.96 69.714,115.83 69.948,125.37 69.583,134.19\"];\n",
      "\t3\t[height=0.5,\n",
      "\t\tpos=\"27,18\",\n",
      "\t\twidth=0.75];\n",
      "\t2 -> 3\t[pos=\"e,35.304,35.147 54.65,72.765 50.288,64.283 44.853,53.714 39.959,44.197\"];\n",
      "\t5\t[height=0.5,\n",
      "\t\tpos=\"99,18\",\n",
      "\t\twidth=0.75];\n",
      "\t2 -> 5\t[pos=\"e,90.696,35.147 71.35,72.765 75.712,64.283 81.147,53.714 86.041,44.197\"];\n",
      "}\n",
      "\n"
     ]
    }
   ],
   "source": [
    "cobaDot()"
   ]
  },
  {
   "cell_type": "markdown",
   "metadata": {},
   "source": [
    "#### Call Graph Raw"
   ]
  },
  {
   "cell_type": "code",
   "execution_count": 40,
   "metadata": {},
   "outputs": [],
   "source": [
    "callGraphRaw = {}\n",
    "for key, value in cgSource.items():\n",
    "    callGraphRaw[key] = {}\n",
    "    for v in value:\n",
    "        callGraphRaw[key][v] = 1"
   ]
  },
  {
   "cell_type": "code",
   "execution_count": 41,
   "metadata": {},
   "outputs": [],
   "source": [
    "A = pgv.AGraph(callGraphRaw,strict=False, directed=True)\n",
    "A.layout(prog=\"fdp\")\n",
    "A.draw(f'{currentPath}/{folderSC}-RAW-CG.svg') "
   ]
  },
  {
   "cell_type": "markdown",
   "metadata": {},
   "source": [
    "#### Filter Call diluar Project"
   ]
  },
  {
   "cell_type": "code",
   "execution_count": 59,
   "metadata": {},
   "outputs": [
    {
     "name": "stdout",
     "output_type": "stream",
     "text": [
      "Total Top Node: 60 \n",
      "Total Edge: 101 <['asciinema', 'asciinema.recorder', 'asciinema.term.get_size']>\n",
      "Total OutsideEdge: 34 <['pty', 'struct', 'configparser']>\n"
     ]
    }
   ],
   "source": [
    "callGraphFiltered = {}\n",
    "edgeGraph = []\n",
    "outsideCall = set()\n",
    "for key, value in cgSource.items():\n",
    "    rootSource = key.split('.')[0]\n",
    "    if rootSource != folderSC:\n",
    "        outsideCall.add(rootSource)\n",
    "        continue\n",
    "    childFilter = {}\n",
    "    for v in value:\n",
    "        childSource = v.split('.')[0]\n",
    "        if childSource != folderSC:\n",
    "            outsideCall.add(childSource)\n",
    "            continue\n",
    "        childFilter[v] = 1\n",
    "    if len(childFilter) == 0:\n",
    "        edgeGraph.append(key)\n",
    "        continue\n",
    "    callGraphFiltered[key] = childFilter\n",
    "    \n",
    "print(f'Total Top Node: {len(callGraphFiltered)} ')\n",
    "print(f'Total Edge: {len(edgeGraph)} <{edgeGraph[:3]}>')\n",
    "print(f'Total OutsideEdge: {len(outsideCall)} <{list(outsideCall)[:3]}>')"
   ]
  },
  {
   "cell_type": "code",
   "execution_count": 45,
   "metadata": {},
   "outputs": [],
   "source": [
    "A = pgv.AGraph(callGraphFiltered,strict=False, directed=True)\n",
    "A.layout(prog=\"fdp\")\n",
    "A.draw(f'{currentPath}/{folderSC}-CG.svg') "
   ]
  },
  {
   "cell_type": "markdown",
   "metadata": {},
   "source": [
    "#### Pemberian Weight pada Graph"
   ]
  },
  {
   "cell_type": "code",
   "execution_count": 66,
   "metadata": {},
   "outputs": [
    {
     "name": "stdout",
     "output_type": "stream",
     "text": [
      "{'asciinema.setup': {}, 'asciinema.tests.config_test': {}, 'asciinema.tests.asciicast.v2_test': {}, 'asciinema.tests.asciicast.__init__': {}, 'asciinema.tests.test_helper': {}, 'asciinema.tests.pty_test': {}, 'asciinema.tests.__init__': {}, 'asciinema.asciinema.term': {}, 'asciinema.asciinema.asciicast.v2': {}, 'asciinema.asciinema.asciicast.v1': {}, 'asciinema.asciinema.asciicast.__init__': {}, 'asciinema.asciinema.asciicast.events': {}, 'asciinema.asciinema.asciicast.raw': {}, 'asciinema.asciinema.__main__': {}, 'asciinema.asciinema.pty': {}, 'asciinema.asciinema.recorder': {}, 'asciinema.asciinema.urllib_http_adapter': {}, 'asciinema.asciinema.http_adapter': {}, 'asciinema.asciinema.async_worker': {}, 'asciinema.asciinema.__init__': {}, 'asciinema.asciinema.config': {}, 'asciinema.asciinema.notifier': {}, 'asciinema.asciinema.api': {}, 'asciinema.asciinema.commands.auth': {}, 'asciinema.asciinema.commands.upload': {}, 'asciinema.asciinema.commands.play': {}, 'asciinema.asciinema.commands.cat': {}, 'asciinema.asciinema.commands.command': {}, 'asciinema.asciinema.commands.__init__': {}, 'asciinema.asciinema.commands.record': {}, 'asciinema.asciinema.player': {}}\n"
     ]
    }
   ],
   "source": [
    "callGraph = {}\n",
    "for file in scannedFiles:\n",
    "    newKey = '.'.join(filter(None,file[:-3].split(\"/\")))\n",
    "    callGraph[newKey] = {}\n"
   ]
  },
  {
   "cell_type": "code",
   "execution_count": null,
   "metadata": {},
   "outputs": [],
   "source": []
  },
  {
   "cell_type": "markdown",
   "metadata": {},
   "source": [
    "#### Representasi Call Graph menjadi Adjacency Matrix"
   ]
  },
  {
   "cell_type": "code",
   "execution_count": 18,
   "metadata": {},
   "outputs": [
    {
     "name": "stdout",
     "output_type": "stream",
     "text": [
      "Defaulting to user installation because normal site-packages is not writeable\n",
      "Requirement already satisfied: numpy in /home/asa/.local/lib/python3.10/site-packages (1.24.2)\n",
      "\n",
      "\u001b[1m[\u001b[0m\u001b[34;49mnotice\u001b[0m\u001b[1;39;49m]\u001b[0m\u001b[39;49m A new release of pip is available: \u001b[0m\u001b[31;49m23.0\u001b[0m\u001b[39;49m -> \u001b[0m\u001b[32;49m23.0.1\u001b[0m\n",
      "\u001b[1m[\u001b[0m\u001b[34;49mnotice\u001b[0m\u001b[1;39;49m]\u001b[0m\u001b[39;49m To update, run: \u001b[0m\u001b[32;49mpip install --upgrade pip\u001b[0m\n",
      "Note: you may need to restart the kernel to use updated packages.\n"
     ]
    }
   ],
   "source": [
    "%pip install numpy"
   ]
  },
  {
   "cell_type": "code",
   "execution_count": null,
   "metadata": {},
   "outputs": [],
   "source": [
    "import numpy as np\n",
    "def createAdjacentMatrix(graphSource):\n",
    "    listLabel = {}\n",
    "    counterListLabel = 0\n",
    "    for label in graphSource.keys():\n",
    "        listLabel[label] = counterListLabel\n",
    "        counterListLabel+=1\n",
    "    adjMatrix = np.zeros(shape=(len(listLabel), len(listLabel)))\n",
    "\n",
    "    currRow = 0\n",
    "    for _, connection in graphSource.items():\n",
    "        for name, weight in connection.items():\n",
    "            adjMatrix[currRow,listLabel[name]] = weight\n",
    "        currRow+=1 \n",
    "    return adjMatrix, listLabel"
   ]
  },
  {
   "cell_type": "code",
   "execution_count": 17,
   "metadata": {},
   "outputs": [
    {
     "data": {
      "text/plain": [
       "298"
      ]
     },
     "execution_count": 17,
     "metadata": {},
     "output_type": "execute_result"
    }
   ],
   "source": [
    "#createAdjacentMatrix()"
   ]
  },
  {
   "cell_type": "code",
   "execution_count": 35,
   "metadata": {},
   "outputs": [],
   "source": [
    "currRow = 0\n",
    "for key, value in cgSource.items():\n",
    "     while len(value) > 0:\n",
    "          relation = value.pop()\n",
    "          adjMatrix[currRow,listLabel[relation]] = 1\n",
    "     currRow+=1 "
   ]
  },
  {
   "cell_type": "code",
   "execution_count": 40,
   "metadata": {},
   "outputs": [],
   "source": [
    "np.savetxt(f'{folderSC}-AdjMatrix.csv', adjMatrix, delimiter=\",\")"
   ]
  },
  {
   "cell_type": "markdown",
   "metadata": {},
   "source": [
    "#### Clustering"
   ]
  },
  {
   "cell_type": "code",
   "execution_count": 48,
   "metadata": {},
   "outputs": [
    {
     "name": "stdout",
     "output_type": "stream",
     "text": [
      "Defaulting to user installation because normal site-packages is not writeable\n",
      "Requirement already satisfied: scipy in ./.local/lib/python3.10/site-packages (1.10.1)\n",
      "Requirement already satisfied: numpy<1.27.0,>=1.19.5 in ./.local/lib/python3.10/site-packages (from scipy) (1.24.2)\n",
      "\n",
      "\u001b[1m[\u001b[0m\u001b[34;49mnotice\u001b[0m\u001b[1;39;49m]\u001b[0m\u001b[39;49m A new release of pip is available: \u001b[0m\u001b[31;49m23.0\u001b[0m\u001b[39;49m -> \u001b[0m\u001b[32;49m23.0.1\u001b[0m\n",
      "\u001b[1m[\u001b[0m\u001b[34;49mnotice\u001b[0m\u001b[1;39;49m]\u001b[0m\u001b[39;49m To update, run: \u001b[0m\u001b[32;49mpip install --upgrade pip\u001b[0m\n",
      "Note: you may need to restart the kernel to use updated packages.\n",
      "Defaulting to user installation because normal site-packages is not writeable\n",
      "Collecting matplotlib\n",
      "  Downloading matplotlib-3.7.0-cp310-cp310-manylinux_2_17_x86_64.manylinux2014_x86_64.whl (11.6 MB)\n",
      "\u001b[2K     \u001b[90m━━━━━━━━━━━━━━━━━━━━━━━━━━━━━━━━━━━━━━━━\u001b[0m \u001b[32m11.6/11.6 MB\u001b[0m \u001b[31m4.8 MB/s\u001b[0m eta \u001b[36m0:00:00\u001b[0m00:01\u001b[0m00:01\u001b[0m\n",
      "\u001b[?25hRequirement already satisfied: python-dateutil>=2.7 in ./.local/lib/python3.10/site-packages (from matplotlib) (2.8.2)\n",
      "Collecting fonttools>=4.22.0\n",
      "  Downloading fonttools-4.38.0-py3-none-any.whl (965 kB)\n",
      "\u001b[2K     \u001b[90m━━━━━━━━━━━━━━━━━━━━━━━━━━━━━━━━━━━━━━━\u001b[0m \u001b[32m965.4/965.4 kB\u001b[0m \u001b[31m4.2 MB/s\u001b[0m eta \u001b[36m0:00:00\u001b[0ma \u001b[36m0:00:01\u001b[0m\n",
      "\u001b[?25hCollecting kiwisolver>=1.0.1\n",
      "  Downloading kiwisolver-1.4.4-cp310-cp310-manylinux_2_12_x86_64.manylinux2010_x86_64.whl (1.6 MB)\n",
      "\u001b[2K     \u001b[90m━━━━━━━━━━━━━━━━━━━━━━━━━━━━━━━━━━━━━━━━\u001b[0m \u001b[32m1.6/1.6 MB\u001b[0m \u001b[31m4.3 MB/s\u001b[0m eta \u001b[36m0:00:00\u001b[0m00:01\u001b[0m00:01\u001b[0m\n",
      "\u001b[?25hCollecting pillow>=6.2.0\n",
      "  Downloading Pillow-9.4.0-cp310-cp310-manylinux_2_28_x86_64.whl (3.4 MB)\n",
      "\u001b[2K     \u001b[90m━━━━━━━━━━━━━━━━━━━━━━━━━━━━━━━━━━━━━━━━\u001b[0m \u001b[32m3.4/3.4 MB\u001b[0m \u001b[31m4.7 MB/s\u001b[0m eta \u001b[36m0:00:00\u001b[0m00:01\u001b[0m00:01\u001b[0m\n",
      "\u001b[?25hRequirement already satisfied: pyparsing>=2.3.1 in /usr/lib/python3/dist-packages (from matplotlib) (2.4.7)\n",
      "Requirement already satisfied: packaging>=20.0 in ./.local/lib/python3.10/site-packages (from matplotlib) (23.0)\n",
      "Requirement already satisfied: numpy>=1.20 in ./.local/lib/python3.10/site-packages (from matplotlib) (1.24.2)\n",
      "Collecting cycler>=0.10\n",
      "  Downloading cycler-0.11.0-py3-none-any.whl (6.4 kB)\n",
      "Collecting contourpy>=1.0.1\n",
      "  Downloading contourpy-1.0.7-cp310-cp310-manylinux_2_17_x86_64.manylinux2014_x86_64.whl (300 kB)\n",
      "\u001b[2K     \u001b[90m━━━━━━━━━━━━━━━━━━━━━━━━━━━━━━━━━━━━━━━\u001b[0m \u001b[32m300.3/300.3 kB\u001b[0m \u001b[31m4.3 MB/s\u001b[0m eta \u001b[36m0:00:00\u001b[0ma \u001b[36m0:00:01\u001b[0m\n",
      "\u001b[?25hRequirement already satisfied: six>=1.5 in /usr/lib/python3/dist-packages (from python-dateutil>=2.7->matplotlib) (1.16.0)\n",
      "Installing collected packages: pillow, kiwisolver, fonttools, cycler, contourpy, matplotlib\n",
      "Successfully installed contourpy-1.0.7 cycler-0.11.0 fonttools-4.38.0 kiwisolver-1.4.4 matplotlib-3.7.0 pillow-9.4.0\n",
      "\n",
      "\u001b[1m[\u001b[0m\u001b[34;49mnotice\u001b[0m\u001b[1;39;49m]\u001b[0m\u001b[39;49m A new release of pip is available: \u001b[0m\u001b[31;49m23.0\u001b[0m\u001b[39;49m -> \u001b[0m\u001b[32;49m23.0.1\u001b[0m\n",
      "\u001b[1m[\u001b[0m\u001b[34;49mnotice\u001b[0m\u001b[1;39;49m]\u001b[0m\u001b[39;49m To update, run: \u001b[0m\u001b[32;49mpip install --upgrade pip\u001b[0m\n",
      "Note: you may need to restart the kernel to use updated packages.\n"
     ]
    }
   ],
   "source": [
    "%pip install scipy\n",
    "%pip install matplotlib"
   ]
  },
  {
   "cell_type": "code",
   "execution_count": 49,
   "metadata": {},
   "outputs": [],
   "source": [
    "import scipy.cluster.hierarchy as sch\n",
    "import matplotlib.pyplot as plt\n",
    "from scipy.cluster.hierarchy import ward, median, centroid, weighted, average, complete, single, fcluster\n",
    "from scipy.spatial.distance import pdist"
   ]
  },
  {
   "cell_type": "code",
   "execution_count": 50,
   "metadata": {},
   "outputs": [
    {
     "data": {
      "image/png": "[encoded data removed]",
      "text/plain": [
       "<Figure size 1000x600 with 1 Axes>"
      ]
     },
     "metadata": {},
     "output_type": "display_data"
    }
   ],
   "source": [
    "plt.figure(figsize=(10,6))\n",
    "dend = sch.dendrogram(sch.linkage(adjMatrix, method = 'single'))\n",
    "plt.title('Dendrogram')\n",
    "plt.xlabel('Samples')\n",
    "plt.ylabel('Euclidean distances')\n",
    "plt.show()"
   ]
  }
 ],
 "metadata": {
  "kernelspec": {
   "display_name": "Python 3.10.6 64-bit",
   "language": "python",
   "name": "python3"
  },
  "language_info": {
   "codemirror_mode": {
    "name": "ipython",
    "version": 3
   },
   "file_extension": ".py",
   "mimetype": "text/x-python",
   "name": "python",
   "nbconvert_exporter": "python",
   "pygments_lexer": "ipython3",
   "version": "3.10.6"
  },
  "orig_nbformat": 4,
  "vscode": {
   "interpreter": {
    "hash": "916dbcbb3f70747c44a77c7bcd40155683ae19c65e1c03b4aa3499c5328201f1"
   }
  }
 },
 "nbformat": 4,
 "nbformat_minor": 2
}
