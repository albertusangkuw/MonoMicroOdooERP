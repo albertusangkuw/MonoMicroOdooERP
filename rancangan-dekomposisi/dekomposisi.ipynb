{
 "cells": [
  {
   "cell_type": "markdown",
   "metadata": {},
   "source": [
    "### 👨‍🏭 Albertus Septian Angkuw"
   ]
  },
  {
   "cell_type": "markdown",
   "metadata": {},
   "source": [
    "### Pembuatan Call Graph"
   ]
  },
  {
   "cell_type": "code",
   "execution_count": 3,
   "metadata": {},
   "outputs": [
    {
     "name": "stdout",
     "output_type": "stream",
     "text": [
      "Defaulting to user installation because normal site-packages is not writeable\n",
      "Requirement already satisfied: pycg in /usr/local/lib/python3.10/dist-packages/pycg-0.0.6-py3.10.egg (0.0.6)\n",
      "\n",
      "\u001b[1m[\u001b[0m\u001b[34;49mnotice\u001b[0m\u001b[1;39;49m]\u001b[0m\u001b[39;49m A new release of pip is available: \u001b[0m\u001b[31;49m23.0\u001b[0m\u001b[39;49m -> \u001b[0m\u001b[32;49m23.0.1\u001b[0m\n",
      "\u001b[1m[\u001b[0m\u001b[34;49mnotice\u001b[0m\u001b[1;39;49m]\u001b[0m\u001b[39;49m To update, run: \u001b[0m\u001b[32;49mpip install --upgrade pip\u001b[0m\n",
      "Note: you may need to restart the kernel to use updated packages.\n"
     ]
    }
   ],
   "source": [
    "%pip install pycg"
   ]
  },
  {
   "cell_type": "code",
   "execution_count": 1,
   "metadata": {},
   "outputs": [
    {
     "name": "stdout",
     "output_type": "stream",
     "text": [
      "Current Path set: /home/asa/Documents/Skripsi/TA-1119002/rancangan-dekomposisi\n"
     ]
    }
   ],
   "source": [
    "folderSC = \"odoo-16\"\n",
    "currentPath = input(\"\")\n",
    "print('Current Path set:' ,currentPath)"
   ]
  },
  {
   "cell_type": "code",
   "execution_count": 2,
   "metadata": {},
   "outputs": [],
   "source": [
    "import os\n",
    "def walkTroughFolder(folderSC,filterExt='.py'):\n",
    "    listFile = []\n",
    "    for file in os.listdir(f'{currentPath}/{folderSC}'):\n",
    "        if os.path.isdir(f'{currentPath}/{folderSC}/{file}'):\n",
    "            listFile += walkTroughFolder(f'{folderSC}/{file}')\n",
    "        elif file.endswith(filterExt):\n",
    "            #print(os.path.join(f'/{folderSC}', file))\n",
    "            listFile.append(os.path.join(f'/{folderSC}', file))\n",
    "    return listFile"
   ]
  },
  {
   "cell_type": "code",
   "execution_count": 3,
   "metadata": {},
   "outputs": [],
   "source": [
    "import time\n",
    "def scanPyCG(currentPath,package):\n",
    "    timestamp = int(time.time())\n",
    "    targetFile = f'py_files=$(find {currentPath}/{package} -type f -name \"*.py\")'\n",
    "    execute = f'pycg --package {package} $py_files -o {currentPath}/{package}-{timestamp}.json '\n",
    "    os.system(f'{targetFile} && {execute}')\n",
    "    return f'{currentPath}/{package}-{timestamp}.json'"
   ]
  },
  {
   "cell_type": "code",
   "execution_count": 4,
   "metadata": {},
   "outputs": [
    {
     "name": "stdout",
     "output_type": "stream",
     "text": [
      "Total Files Scanned py Source Code: 5272\n"
     ]
    }
   ],
   "source": [
    "scannedFiles = walkTroughFolder(folderSC)\n",
    "print(f'Total Files Scanned py Source Code: {len(scannedFiles)}')"
   ]
  },
  {
   "cell_type": "code",
   "execution_count": 1,
   "metadata": {},
   "outputs": [],
   "source": [
    "# addonsJSON = scanPyCG(currentPath,f'{folderSC}/addons')\n",
    "# odooJSON = scanPyCG(currentPath,f'{folderSC}/odoo')"
   ]
  },
  {
   "cell_type": "code",
   "execution_count": 5,
   "metadata": {},
   "outputs": [],
   "source": [
    "addonsJSON = f'{currentPath}/odooOnlyAddonsNoPackage.json'\n",
    "odooJSON = f'{currentPath}/odooCoreNoPackage.json'"
   ]
  },
  {
   "cell_type": "markdown",
   "metadata": {},
   "source": [
    "### Pembacaan Hasil Call Graph JSON"
   ]
  },
  {
   "cell_type": "code",
   "execution_count": 6,
   "metadata": {},
   "outputs": [],
   "source": [
    "import json\n",
    "def loadJSON(path):\n",
    "   return json.load(open(path))"
   ]
  },
  {
   "cell_type": "code",
   "execution_count": 7,
   "metadata": {},
   "outputs": [
    {
     "name": "stdout",
     "output_type": "stream",
     "text": [
      "[[], [], ['odoo.api.depends'], ['odoo.fields.Date.today', 'odoo.models.Model.product_id.with_company', 'odoo.models.Model.browse', '<builtin>.super'], []]\n",
      "[[], [], [], ['odoo.fields.Char'], []]\n"
     ]
    }
   ],
   "source": [
    "cgAddonsSource =loadJSON(addonsJSON)\n",
    "cgOdooSource =loadJSON(odooJSON)\n",
    "print(list(cgAddonsSource.values())[:5])\n",
    "print(list(cgOdooSource.values())[:5])"
   ]
  },
  {
   "cell_type": "code",
   "execution_count": 8,
   "metadata": {},
   "outputs": [
    {
     "data": {
      "text/plain": [
       "24931"
      ]
     },
     "execution_count": 8,
     "metadata": {},
     "output_type": "execute_result"
    }
   ],
   "source": [
    "len(cgOdooSource)\n",
    "len(cgAddonsSource)"
   ]
  },
  {
   "cell_type": "code",
   "execution_count": 9,
   "metadata": {},
   "outputs": [],
   "source": [
    "# Add prefix folder\n",
    "def getListRootPackage(path):\n",
    "    listRootPackage = []\n",
    "    for file in os.listdir(f'{path}'):\n",
    "        if os.path.isdir(f'{path}/{file}'):\n",
    "            listRootPackage.append(file)\n",
    "        elif file.endswith('.py'):\n",
    "            listRootPackage.append('.'.join(file.split(\".\")[:-1]))\n",
    "    return listRootPackage"
   ]
  },
  {
   "cell_type": "code",
   "execution_count": 10,
   "metadata": {},
   "outputs": [],
   "source": [
    "def addPrefixFolder(cg,root,listPackage):\n",
    "    def checkParent(key):\n",
    "        parentkey = key.split('.')[0]\n",
    "        if parentkey in listPackage:\n",
    "            key = f'{root}.{key}'\n",
    "        return key\n",
    "    newCG = {}\n",
    "    for key, relation in cg.items():\n",
    "        key = checkParent(key)\n",
    "        if key not in newCG:\n",
    "            newCG[key] = []\n",
    "        for i in relation:\n",
    "            newCG[key].append(checkParent(i))\n",
    "    return newCG"
   ]
  },
  {
   "cell_type": "code",
   "execution_count": 11,
   "metadata": {},
   "outputs": [],
   "source": [
    "listPackageOdoo = getListRootPackage(f'{currentPath}/{folderSC}/odoo')\n",
    "listPackageAddons = getListRootPackage(f'{currentPath}/{folderSC}/addons')\n"
   ]
  },
  {
   "cell_type": "code",
   "execution_count": 12,
   "metadata": {},
   "outputs": [],
   "source": [
    "cgOdoo = addPrefixFolder(cgOdooSource,\"odoo\",listPackageOdoo)\n",
    "cgAddons = addPrefixFolder(cgAddonsSource,\"addons\",listPackageAddons)"
   ]
  },
  {
   "cell_type": "code",
   "execution_count": 17,
   "metadata": {},
   "outputs": [],
   "source": [
    "cgSource = {}\n",
    "for key, rel in cgOdoo.items():\n",
    "    if key not in cgSource:\n",
    "        cgSource[key] = []\n",
    "    for tmp in rel:\n",
    "        if tmp not in cgSource:\n",
    "            cgSource[tmp] = []\n",
    "            # print(key , \" : \" , cgSource[key])\n",
    "    cgSource[key] = cgSource[key] + rel\n",
    "\n",
    "for key, rel in cgAddons.items():\n",
    "    if key not in cgSource:\n",
    "        cgSource[key] = []\n",
    "    for tmp in rel:\n",
    "        if tmp not in cgSource:\n",
    "            cgSource[tmp] = []\n",
    "            # print(key , \" : \" , cgSource[key])\n",
    "    cgSource[key] = cgSource[key] + rel"
   ]
  },
  {
   "cell_type": "code",
   "execution_count": 18,
   "metadata": {},
   "outputs": [
    {
     "data": {
      "text/plain": [
       "29821"
      ]
     },
     "execution_count": 18,
     "metadata": {},
     "output_type": "execute_result"
    }
   ],
   "source": [
    "len(cgSource)"
   ]
  },
  {
   "cell_type": "markdown",
   "metadata": {},
   "source": [
    "### Visualisasi Call Graph"
   ]
  },
  {
   "cell_type": "code",
   "execution_count": 46,
   "metadata": {},
   "outputs": [
    {
     "name": "stdout",
     "output_type": "stream",
     "text": [
      "Defaulting to user installation because normal site-packages is not writeable\n",
      "Requirement already satisfied: pygraphviz in /usr/local/lib/python3.10/dist-packages (1.10)\n",
      "\n",
      "\u001b[1m[\u001b[0m\u001b[34;49mnotice\u001b[0m\u001b[1;39;49m]\u001b[0m\u001b[39;49m A new release of pip is available: \u001b[0m\u001b[31;49m23.0\u001b[0m\u001b[39;49m -> \u001b[0m\u001b[32;49m23.0.1\u001b[0m\n",
      "\u001b[1m[\u001b[0m\u001b[34;49mnotice\u001b[0m\u001b[1;39;49m]\u001b[0m\u001b[39;49m To update, run: \u001b[0m\u001b[32;49mpip install --upgrade pip\u001b[0m\n",
      "Note: you may need to restart the kernel to use updated packages.\n"
     ]
    }
   ],
   "source": [
    "%pip install pygraphviz"
   ]
  },
  {
   "cell_type": "code",
   "execution_count": 47,
   "metadata": {},
   "outputs": [],
   "source": [
    "import pygraphviz as pgv\n",
    "def cobaDot():\n",
    "    d = {\"1\": {\"2\": 7 }, \"2\": {\"1\": 1, \"3\": 1, \"5\" : 1}}\n",
    "    A = pgv.AGraph(d,strict=False, directed=True)\n",
    "    A.layout(prog=\"dot\")\n",
    "    A.draw(f'{currentPath}/contoh-CG.svg') \n",
    "    print(A)\n",
    "#cobaDot()"
   ]
  },
  {
   "cell_type": "code",
   "execution_count": 48,
   "metadata": {},
   "outputs": [],
   "source": [
    "def buatGraphviz(graph, _strict=False, _directed=True,_prog=\"fdp\",filename=folderSC):\n",
    "    A = pgv.AGraph(graph,strict=_strict, directed=_directed)\n",
    "    A.layout(prog=_prog)\n",
    "    A.draw(f'{currentPath}/{filename}.svg') \n",
    "    print(f'Image saved at: {currentPath}/{filename}.svg')"
   ]
  },
  {
   "cell_type": "markdown",
   "metadata": {},
   "source": [
    "#### Call Graph Raw"
   ]
  },
  {
   "cell_type": "code",
   "execution_count": 19,
   "metadata": {},
   "outputs": [],
   "source": [
    "callGraphRaw = {}\n",
    "for key, value in cgSource.items():\n",
    "    callGraphRaw[key] = {}\n",
    "    for v in value:\n",
    "        callGraphRaw[key][v] = 1"
   ]
  },
  {
   "cell_type": "code",
   "execution_count": 11,
   "metadata": {},
   "outputs": [
    {
     "name": "stdout",
     "output_type": "stream",
     "text": [
      "Image saved at: /home/asa/Documents/Skripsi/TA-1119002/rancangan-dekomposisi/asciinema-RAW-CG.svg\n"
     ]
    }
   ],
   "source": [
    "# buatGraphviz(graph=callGraphRaw,filename=f'{folderSC}-RAW-CG')"
   ]
  },
  {
   "cell_type": "markdown",
   "metadata": {},
   "source": [
    "#### Filter Call diluar Project"
   ]
  },
  {
   "cell_type": "code",
   "execution_count": 37,
   "metadata": {},
   "outputs": [
    {
     "name": "stdout",
     "output_type": "stream",
     "text": [
      "Total Top Node: 29821 \n",
      "Total Edge: 15457 <['odoo.addons.test_inherits_depends.__manifest__', 'odoo.addons.test_inherits_depends.models', 'odoo.fields.Char']>\n",
      "Total OutsideEdge: 157 <['win32api', 'hashlib', 'json']>\n"
     ]
    }
   ],
   "source": [
    "callGraphFiltered = {}\n",
    "listRootFolder = [ 'odoo', 'addons']\n",
    "edgeGraph = []\n",
    "outsideCall = set()\n",
    "for key, value in cgSource.items():\n",
    "    rootSource = key.split('.')[0]\n",
    "    if rootSource not in listRootFolder:\n",
    "        outsideCall.add(rootSource)\n",
    "        continue\n",
    "    childFilter = {}\n",
    "    for v in value:\n",
    "        childSource = v.split('.')[0]\n",
    "        if childSource not in listRootFolder:\n",
    "            outsideCall.add(childSource)\n",
    "            continue\n",
    "        childFilter[v] = 1\n",
    "    if len(childFilter) == 0:\n",
    "        edgeGraph.append(key)\n",
    "        continue\n",
    "    for c in cgSource:\n",
    "        if c not in callGraphFiltered:\n",
    "            callGraphFiltered[c] = {}\n",
    "    callGraphFiltered[key] = childFilter\n",
    "    \n",
    "print(f'Total Top Node: {len(callGraphFiltered)} ')\n",
    "print(f'Total Edge: {len(edgeGraph)} <{edgeGraph[:3]}>')\n",
    "print(f'Total OutsideEdge: {len(outsideCall)} <{list(outsideCall)[:3]}>')"
   ]
  },
  {
   "cell_type": "code",
   "execution_count": 58,
   "metadata": {},
   "outputs": [
    {
     "name": "stdout",
     "output_type": "stream",
     "text": [
      "Image saved at: /home/asa/Documents/Skripsi/TA-1119002/rancangan-dekomposisi/odoo-16-CG.svg\n"
     ]
    }
   ],
   "source": [
    "buatGraphviz(callGraphFiltered,filename=f'{folderSC}-CG')"
   ]
  },
  {
   "cell_type": "code",
   "execution_count": 21,
   "metadata": {},
   "outputs": [
    {
     "data": {
      "text/plain": [
       "['odoo._', 'odoo._', 'odoo._', 'odoo._']"
      ]
     },
     "execution_count": 21,
     "metadata": {},
     "output_type": "execute_result"
    }
   ],
   "source": [
    "cgSource['addons.mrp.models.mrp_routing.MrpRoutingWorkcenter.copy_existing_operations']"
   ]
  },
  {
   "cell_type": "code",
   "execution_count": 22,
   "metadata": {},
   "outputs": [
    {
     "data": {
      "text/plain": [
       "{'odoo._': 1}"
      ]
     },
     "execution_count": 22,
     "metadata": {},
     "output_type": "execute_result"
    }
   ],
   "source": [
    "callGraphFiltered['addons.mrp.models.mrp_routing.MrpRoutingWorkcenter.copy_existing_operations']"
   ]
  },
  {
   "cell_type": "markdown",
   "metadata": {},
   "source": [
    "#### Pemberian Weight pada Graph"
   ]
  },
  {
   "cell_type": "code",
   "execution_count": 14,
   "metadata": {},
   "outputs": [],
   "source": [
    "weightedGraph = {}\n",
    "weightedGraph[folderSC] = {}\n",
    "for file in scannedFiles:\n",
    "    newKey = '.'.join(file[:-3].split(\"/\")[2:])\n",
    "    weightedGraph[newKey] = {}\n"
   ]
  },
  {
   "cell_type": "code",
   "execution_count": 38,
   "metadata": {},
   "outputs": [],
   "source": [
    "weightedGraph = callGraphFiltered"
   ]
  },
  {
   "cell_type": "code",
   "execution_count": 16,
   "metadata": {},
   "outputs": [
    {
     "name": "stdout",
     "output_type": "stream",
     "text": [
      "asciinema.__main__\n"
     ]
    }
   ],
   "source": [
    "for x in callGraphFiltered:\n",
    "    if x  in weightedGraph:\n",
    "        print(x)"
   ]
  },
  {
   "cell_type": "code",
   "execution_count": 18,
   "metadata": {},
   "outputs": [
    {
     "name": "stdout",
     "output_type": "stream",
     "text": [
      "asciinema.__main__ {'asciinema.__main__.main': 1}\n"
     ]
    }
   ],
   "source": [
    "currIter = 0\n",
    "for call, listConn in callGraphFiltered.items():\n",
    "    if call in weightedGraph:\n",
    "        print(call , listConn)\n",
    "        #???\n",
    "    parentCall = call\n",
    "    while (parentCall not in weightedGraph):\n",
    "        parentCall = parentCall.rsplit('.', 1)[0]\n",
    "    \n",
    "    for conn, weight in listConn.items():\n",
    "        parentConn = conn.rsplit('.', 1)[0]\n",
    "        while (parentConn not in weightedGraph):\n",
    "            parentConn = parentConn.rsplit('.', 1)[0]\n",
    "             \n",
    "        if parentConn not in weightedGraph[parentCall]:\n",
    "            weightedGraph[parentCall][parentConn] = 1\n",
    "        else:\n",
    "            weightedGraph[parentCall][parentConn] += 1\n",
    "    currIter+=1   \n"
   ]
  },
  {
   "cell_type": "code",
   "execution_count": 19,
   "metadata": {},
   "outputs": [
    {
     "name": "stdout",
     "output_type": "stream",
     "text": [
      "Image saved at: /home/asa/Documents/Skripsi/TA-1119002/rancangan-dekomposisi/asciinema-W-CG.svg\n"
     ]
    }
   ],
   "source": [
    "buatGraphviz(weightedGraph ,filename=f'{folderSC}-W-CG')"
   ]
  },
  {
   "cell_type": "markdown",
   "metadata": {},
   "source": [
    "#### Representasi Call Graph menjadi Adjacency Matrix"
   ]
  },
  {
   "cell_type": "code",
   "execution_count": 64,
   "metadata": {},
   "outputs": [
    {
     "name": "stdout",
     "output_type": "stream",
     "text": [
      "Defaulting to user installation because normal site-packages is not writeable\n",
      "Requirement already satisfied: numpy in /home/asa/.local/lib/python3.10/site-packages (1.24.2)\n",
      "\n",
      "\u001b[1m[\u001b[0m\u001b[34;49mnotice\u001b[0m\u001b[1;39;49m]\u001b[0m\u001b[39;49m A new release of pip is available: \u001b[0m\u001b[31;49m23.0\u001b[0m\u001b[39;49m -> \u001b[0m\u001b[32;49m23.0.1\u001b[0m\n",
      "\u001b[1m[\u001b[0m\u001b[34;49mnotice\u001b[0m\u001b[1;39;49m]\u001b[0m\u001b[39;49m To update, run: \u001b[0m\u001b[32;49mpip install --upgrade pip\u001b[0m\n",
      "Note: you may need to restart the kernel to use updated packages.\n"
     ]
    }
   ],
   "source": [
    "%pip install numpy"
   ]
  },
  {
   "cell_type": "code",
   "execution_count": 39,
   "metadata": {},
   "outputs": [],
   "source": [
    "import numpy as np\n",
    "def createAdjacentMatrix(graphSource):\n",
    "    listLabel = {}\n",
    "    counterListLabel = 0\n",
    "    for label in graphSource.keys():\n",
    "        listLabel[label] = counterListLabel\n",
    "        counterListLabel+=1\n",
    "    adjMatrix = np.zeros(shape=(len(listLabel), len(listLabel)))\n",
    "\n",
    "    currRow = 0\n",
    "    tmpNotDetected = 0\n",
    "    for x, connection in graphSource.items():\n",
    "        for name, weight in connection.items():\n",
    "            if name not in listLabel:\n",
    "                # print(x)\n",
    "                tmpNotDetected += 1\n",
    "                continue\n",
    "            adjMatrix[currRow,listLabel[name]] = weight\n",
    "        currRow+=1 \n",
    "    print(\"Not Detected: \" , tmpNotDetected)\n",
    "    return adjMatrix, listLabel"
   ]
  },
  {
   "cell_type": "code",
   "execution_count": 40,
   "metadata": {},
   "outputs": [
    {
     "name": "stdout",
     "output_type": "stream",
     "text": [
      "Not Detected:  0\n"
     ]
    }
   ],
   "source": [
    "adjMatrix, listLabel = createAdjacentMatrix(weightedGraph)\n"
   ]
  },
  {
   "cell_type": "code",
   "execution_count": 27,
   "metadata": {},
   "outputs": [
    {
     "data": {
      "text/plain": [
       "13555"
      ]
     },
     "execution_count": 27,
     "metadata": {},
     "output_type": "execute_result"
    }
   ],
   "source": [
    "len(listLabel)"
   ]
  },
  {
   "cell_type": "code",
   "execution_count": 41,
   "metadata": {},
   "outputs": [],
   "source": [
    "np.savetxt(f'{folderSC}-AdjMatrix.csv', adjMatrix, delimiter=\",\")"
   ]
  },
  {
   "cell_type": "markdown",
   "metadata": {},
   "source": [
    "#### Clustering"
   ]
  },
  {
   "cell_type": "code",
   "execution_count": 24,
   "metadata": {},
   "outputs": [
    {
     "name": "stdout",
     "output_type": "stream",
     "text": [
      "Defaulting to user installation because normal site-packages is not writeable\n",
      "Requirement already satisfied: scipy in /home/asa/.local/lib/python3.10/site-packages (1.10.1)\n",
      "Requirement already satisfied: numpy<1.27.0,>=1.19.5 in /home/asa/.local/lib/python3.10/site-packages (from scipy) (1.24.2)\n",
      "\n",
      "\u001b[1m[\u001b[0m\u001b[34;49mnotice\u001b[0m\u001b[1;39;49m]\u001b[0m\u001b[39;49m A new release of pip is available: \u001b[0m\u001b[31;49m23.0\u001b[0m\u001b[39;49m -> \u001b[0m\u001b[32;49m23.0.1\u001b[0m\n",
      "\u001b[1m[\u001b[0m\u001b[34;49mnotice\u001b[0m\u001b[1;39;49m]\u001b[0m\u001b[39;49m To update, run: \u001b[0m\u001b[32;49mpip install --upgrade pip\u001b[0m\n",
      "Note: you may need to restart the kernel to use updated packages.\n",
      "Defaulting to user installation because normal site-packages is not writeable\n",
      "Requirement already satisfied: matplotlib in /home/asa/.local/lib/python3.10/site-packages (3.7.0)\n",
      "Requirement already satisfied: contourpy>=1.0.1 in /home/asa/.local/lib/python3.10/site-packages (from matplotlib) (1.0.7)\n",
      "Requirement already satisfied: kiwisolver>=1.0.1 in /home/asa/.local/lib/python3.10/site-packages (from matplotlib) (1.4.4)\n",
      "Requirement already satisfied: pyparsing>=2.3.1 in /usr/lib/python3/dist-packages (from matplotlib) (2.4.7)\n",
      "Requirement already satisfied: cycler>=0.10 in /home/asa/.local/lib/python3.10/site-packages (from matplotlib) (0.11.0)\n",
      "Requirement already satisfied: numpy>=1.20 in /home/asa/.local/lib/python3.10/site-packages (from matplotlib) (1.24.2)\n",
      "Requirement already satisfied: packaging>=20.0 in /home/asa/.local/lib/python3.10/site-packages (from matplotlib) (23.0)\n",
      "Requirement already satisfied: fonttools>=4.22.0 in /home/asa/.local/lib/python3.10/site-packages (from matplotlib) (4.38.0)\n",
      "Requirement already satisfied: python-dateutil>=2.7 in /home/asa/.local/lib/python3.10/site-packages (from matplotlib) (2.8.2)\n",
      "Requirement already satisfied: pillow>=6.2.0 in /home/asa/.local/lib/python3.10/site-packages (from matplotlib) (9.4.0)\n",
      "Requirement already satisfied: six>=1.5 in /usr/lib/python3/dist-packages (from python-dateutil>=2.7->matplotlib) (1.16.0)\n",
      "\n",
      "\u001b[1m[\u001b[0m\u001b[34;49mnotice\u001b[0m\u001b[1;39;49m]\u001b[0m\u001b[39;49m A new release of pip is available: \u001b[0m\u001b[31;49m23.0\u001b[0m\u001b[39;49m -> \u001b[0m\u001b[32;49m23.0.1\u001b[0m\n",
      "\u001b[1m[\u001b[0m\u001b[34;49mnotice\u001b[0m\u001b[1;39;49m]\u001b[0m\u001b[39;49m To update, run: \u001b[0m\u001b[32;49mpip install --upgrade pip\u001b[0m\n",
      "Note: you may need to restart the kernel to use updated packages.\n"
     ]
    }
   ],
   "source": [
    "%pip install scipy\n",
    "%pip install matplotlib"
   ]
  },
  {
   "cell_type": "code",
   "execution_count": 43,
   "metadata": {},
   "outputs": [],
   "source": [
    "import scipy.cluster.hierarchy as sch\n",
    "import matplotlib.pyplot as plt\n",
    "from scipy.cluster.hierarchy import ward, median, centroid, weighted, average, complete, single, fcluster,linkage\n",
    "from scipy.spatial.distance import pdist"
   ]
  },
  {
   "cell_type": "code",
   "execution_count": 26,
   "metadata": {},
   "outputs": [],
   "source": [
    "#Normalisasi Data\n",
    "#sklearn.preprocessing.normalize()"
   ]
  },
  {
   "cell_type": "code",
   "execution_count": 44,
   "metadata": {},
   "outputs": [],
   "source": [
    "# Source: https://matplotlib.org/stable/gallery/images_contours_and_fields/image_annotated_heatmap.html\n",
    "\n",
    "fig, ax = plt.subplots()\n",
    "im = ax.imshow(adjMatrix)\n",
    "\n",
    "# Show all ticks and label them with the respective list entries\n",
    "# ax.set_xticks(np.arange(len(list(listLabel))), labels=list(listLabel))\n",
    "# ax.set_yticks(np.arange(len(list(listLabel))), labels=list(listLabel))\n",
    "\n",
    "# Rotate the tick labels and set their alignment.\n",
    "plt.setp(ax.get_xticklabels(), rotation=45, ha=\"right\",\n",
    "         rotation_mode=\"anchor\")\n",
    "\n",
    "\n",
    "ax.set_title(\"Heatmap Relation Between Files .py\")\n",
    "\n",
    "# plt.figure(figsize=(20,6))\n",
    "plt.show()"
   ]
  },
  {
   "cell_type": "code",
   "execution_count": 28,
   "metadata": {},
   "outputs": [
    {
     "data": {
      "image/png": "[encoded data removed]",
      "text/plain": [
       "<Figure size 2000x600 with 1 Axes>"
      ]
     },
     "metadata": {},
     "output_type": "display_data"
    }
   ],
   "source": [
    "plt.figure(figsize=(20,6))\n",
    "z = linkage(adjMatrix)\n",
    "dend = sch.dendrogram(z,labels=list(listLabel))\n",
    "plt.title('Dendrogram')\n",
    "plt.xlabel('Samples')\n",
    "plt.ylabel('Euclidean distances')\n",
    "plt.show()"
   ]
  },
  {
   "cell_type": "markdown",
   "metadata": {},
   "source": [
    "##### Todo: Pemilihan Cluster Terbaik berdasarkan ...."
   ]
  },
  {
   "cell_type": "code",
   "execution_count": null,
   "metadata": {},
   "outputs": [],
   "source": []
  }
 ],
 "metadata": {
  "kernelspec": {
   "display_name": "Python 3.10.6 64-bit",
   "language": "python",
   "name": "python3"
  },
  "language_info": {
   "codemirror_mode": {
    "name": "ipython",
    "version": 3
   },
   "file_extension": ".py",
   "mimetype": "text/x-python",
   "name": "python",
   "nbconvert_exporter": "python",
   "pygments_lexer": "ipython3",
   "version": "3.10.6"
  },
  "orig_nbformat": 4,
  "vscode": {
   "interpreter": {
    "hash": "916dbcbb3f70747c44a77c7bcd40155683ae19c65e1c03b4aa3499c5328201f1"
   }
  }
 },
 "nbformat": 4,
 "nbformat_minor": 2
}
